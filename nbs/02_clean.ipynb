{
 "cells": [
  {
   "cell_type": "markdown",
   "metadata": {},
   "source": [
    "# clean\n",
    "\n",
    "> This module contains all the various cleaning options supported."
   ]
  },
  {
   "cell_type": "code",
   "execution_count": null,
   "metadata": {},
   "outputs": [],
   "source": [
    "#| default_exp clean"
   ]
  },
  {
   "cell_type": "code",
   "execution_count": 1,
   "metadata": {},
   "outputs": [],
   "source": [
    "#| export\n",
    "import re"
   ]
  },
  {
   "cell_type": "code",
   "execution_count": null,
   "metadata": {},
   "outputs": [],
   "source": [
    "#| hide\n",
    "from nbdev.showdoc import *"
   ]
  },
  {
   "cell_type": "code",
   "execution_count": 2,
   "metadata": {},
   "outputs": [],
   "source": [
    "#| export\n",
    "def normalize_whitespace(\n",
    "    text: str,  # The text to normalize\n",
    ") -> str:       # The normalized text\n",
    "    \"\"\"\n",
    "    Replace runs of whitespace with a single space, strip leading/trailing whitespace,\n",
    "    and normalize all newlines to unix-style newlines.\n",
    "    \"\"\"\n",
    "    return re.sub(r\"\\s+\", \" \", text.strip()).replace(\"\\r\\n\", \"\\n\")"
   ]
  },
  {
   "cell_type": "code",
   "execution_count": 3,
   "metadata": {},
   "outputs": [],
   "source": [
    "# test the normalize_whitespace function\n",
    "assert normalize_whitespace(\"  foo  bar  \") == \"foo bar\""
   ]
  },
  {
   "cell_type": "code",
   "execution_count": 4,
   "metadata": {},
   "outputs": [],
   "source": [
    "#| export\n",
    "def remove_empty_lines(\n",
    "    text: str,  # The text to remove empty lines from\n",
    ") -> str:       # The text with empty lines removed\n",
    "    \"\"\"\n",
    "    Remove empty lines from the text.\n",
    "    Solution from https://stackoverflow.com/a/3711884/5768407\n",
    "    \"\"\"\n",
    "    lines = text.splitlines()\n",
    "    filtered = filter(lambda x: not re.match(r'^\\s*$', x), lines)\n",
    "    return \"\\n\".join(filtered)"
   ]
  },
  {
   "cell_type": "code",
   "execution_count": 5,
   "metadata": {},
   "outputs": [],
   "source": [
    "# test the remove_empty_lines function\n",
    "starts_with_newline = \"\\nfoo\\nbar\"\n",
    "multiple_newlines = \"foo\\n\\nbar\"\n",
    "ends_with_newline = \"foo\\nbar\\n\"\n",
    "\n",
    "assert remove_empty_lines(starts_with_newline) == \"foo\\nbar\"\n",
    "assert remove_empty_lines(multiple_newlines) == \"foo\\nbar\"\n",
    "assert remove_empty_lines(ends_with_newline) == \"foo\\nbar\""
   ]
  },
  {
   "cell_type": "code",
   "execution_count": 6,
   "metadata": {},
   "outputs": [],
   "source": [
    "#| export\n",
    "def replace_urls(\n",
    "    text: str,                          # The text to replace URLs in\n",
    "    dummy: str =\"https://example.com/\", # The dummy text to replace URLs with\n",
    ") -> str:                               # The text with URLs replaced\n",
    "    \"\"\"Replace urls from text with a dummy.\"\"\"\n",
    "    return re.sub(r\"http\\S+\", dummy, text)"
   ]
  },
  {
   "cell_type": "code",
   "execution_count": 7,
   "metadata": {},
   "outputs": [],
   "source": [
    "# test the replace_urls function\n",
    "url_after_space = \"foo http://bar.com\"\n",
    "url_before_space = \"http://foo.com bar\"\n",
    "assert replace_urls(url_after_space) == \"foo https://example.com/\"\n",
    "assert replace_urls(url_before_space) == \"https://example.com/ bar\""
   ]
  },
  {
   "cell_type": "code",
   "execution_count": 8,
   "metadata": {},
   "outputs": [],
   "source": [
    "#| export\n",
    "def replace_dates(\n",
    "    text: str,              # The text to remove dates from\n",
    "    dummy: str =\"1/1/1970\", # The string to replace dates with\n",
    ") -> str:                   # The text with dates replaced\n",
    "    \"\"\"Replace dates from text with a dummy.\"\"\"\n",
    "    return re.sub(r'\\d{1,2}/\\d{1,2}/\\d{4}', dummy, text)"
   ]
  },
  {
   "cell_type": "code",
   "execution_count": 9,
   "metadata": {},
   "outputs": [],
   "source": [
    "# test the replace_dates function\n",
    "date_after_space = \"foo 1/1/2020\"\n",
    "date_before_space = \"1/1/2020 bar\"\n",
    "assert replace_dates(date_after_space) == \"foo 1/1/1970\"\n",
    "assert replace_dates(date_before_space) == \"1/1/1970 bar\""
   ]
  },
  {
   "cell_type": "markdown",
   "metadata": {},
   "source": [
    "## PII Removal\n",
    "\n",
    "Currently, we support the following PII removal options:\n",
    "\n",
    "  * `replace_email`\n",
    "  * `replace_phone`\n",
    "  * `replace_ip`\n",
    "  * `replace_credit_card`\n",
    "  * `replace_ssn`\n",
    "\n",
    "However, for emails, phone numbers, credit cards, and SSNs, we recommend you to use the [scrubadub](https://scrubadub.readthedocs.io/en/stable/index.html) library."
   ]
  },
  {
   "cell_type": "code",
   "execution_count": 10,
   "metadata": {},
   "outputs": [],
   "source": [
    "#| export\n",
    "def replace_email(\n",
    "    text: str,                          # The text to replace email addresses in\n",
    "    dummy: str =\"example@email.com\",    # The string to replace email address with\n",
    ") -> str:                               # The text with email addresses replaced\n",
    "    \"\"\"Replace email addresses from text with a dummy.\"\"\"\n",
    "    return re.sub(r\"[\\w\\.-]+@[\\w\\.-]+\", dummy, text)"
   ]
  },
  {
   "cell_type": "code",
   "execution_count": 11,
   "metadata": {},
   "outputs": [],
   "source": [
    "# test the replace_email function\n",
    "email_after_space = \"foo fake@email.com\"\n",
    "email_before_space = \"fake@email.com bar\"\n",
    "email_with_forward_periods = \"foo.bar@email.com\"\n",
    "email_with_backward_periods = \"foo@bar.email.com\"\n",
    "\n",
    "assert replace_email(email_after_space) == \"foo example@email.com\"\n",
    "assert replace_email(email_before_space) == \"example@email.com bar\"\n",
    "assert replace_email(email_with_forward_periods) == \"example@email.com\"\n",
    "assert replace_email(email_with_backward_periods) == \"example@email.com\""
   ]
  },
  {
   "cell_type": "code",
   "execution_count": 12,
   "metadata": {},
   "outputs": [],
   "source": [
    "#| export\n",
    "def replace_phone(\n",
    "    text: str,                  # The text to replace phone numbers in\n",
    "    dummy: str =\"123-456-7890\", # The string to replace phone numbers with\n",
    ") -> str:                       # The text with phone numbers replaced\n",
    "    \"\"\"Replace phone numbers from text with a dummy.\"\"\"\n",
    "    return re.sub(r\"\\(?\\d{3}\\)?-? *\\d{3}-? *-?\\d{4}\", dummy, text)"
   ]
  },
  {
   "cell_type": "code",
   "execution_count": 13,
   "metadata": {},
   "outputs": [],
   "source": [
    "# test the replace_phone function\n",
    "phone_after_space = \"foo 111-222-3333\"\n",
    "phone_before_space = \"111-222-3333 bar\"\n",
    "phone_with_parens = \"(111) 222-3333\"\n",
    "phone_with_spaces = \"111 222 3333\"\n",
    "phone_with_dashes = \"111-222-3333\"\n",
    "\n",
    "assert replace_phone(phone_after_space) == \"foo 123-456-7890\"\n",
    "assert replace_phone(phone_before_space) == \"123-456-7890 bar\"\n",
    "assert replace_phone(phone_with_parens) == \"123-456-7890\"\n",
    "assert replace_phone(phone_with_spaces) == \"123-456-7890\"\n",
    "assert replace_phone(phone_with_dashes) == \"123-456-7890\""
   ]
  },
  {
   "cell_type": "code",
   "execution_count": 14,
   "metadata": {},
   "outputs": [],
   "source": [
    "#| export\n",
    "def replace_ip(\n",
    "    text,                       # The text to replace ip addresses in\n",
    "    dummy1=\"127.0.0.1\",         # The string to replace ipv4 addresses with\n",
    "    dummy2=\"0:0:0:0:0:0:0:1\",   # The string to replace ipv6 addresses with\n",
    ") -> str:                       # The text with ip addresses replaced\n",
    "    \"\"\"\n",
    "    Replace ip addresses from text with a dummy.\n",
    "    Solution from https://github.com/bigcode-project/bigcode-analysis/blob/main/data_analysis/pii/utils/emails_ip_addresses_detection.py#L48\n",
    "    \"\"\"\n",
    "    ipv4_pattern = r\"(?:25[0-5]|2[0-4][0-9]|[01]?[0-9][0-9]?)(?:\\.(?:25[0-5]|2[0-4][0-9]|[01]?[0-9][0-9]?)){3}\"\n",
    "    text = re.sub(ipv4_pattern, dummy1, text)\n",
    "    ipv6_pattern = r\"(?:[0-9a-fA-F]{1,4}:){7,7}[0-9a-fA-F]{1,4}|(?:[0-9a-fA-F]{1,4}:){1,7}:|(?:[0-9a-fA-F]{1,4}:){1,6}:[0-9a-fA-F]{1,4}|(?:[0-9a-fA-F]{1,4}:){1,5}(?::[0-9a-fA-F]{1,4}){1,2}|(?:[0-9a-fA-F]{1,4}:){1,4}(?::[0-9a-fA-F]{1,4}){1,3}|(?:[0-9a-fA-F]{1,4}:){1,3}(?::[0-9a-fA-F]{1,4}){1,4}|(?:[0-9a-fA-F]{1,4}:){1,2}(?::[0-9a-fA-F]{1,4}){1,5}|[0-9a-fA-F]{1,4}:(?:(?::[0-9a-fA-F]{1,4}){1,6})|:(?:(?::[0-9a-fA-F]{1,4}){1,7}|:)|fe80:(?::[0-9a-fA-F]{0,4}){0,4}%[0-9a-zA-Z]{1,}|::(?:ffff(?::0{1,4}){0,1}:){0,1}(?:(?:25[0-5]|(?:2[0-4]|1{0,1}[0-9]){0,1}[0-9])\\.){3,3}(?:25[0-5]|(?:2[0-4]|1{0,1}[0-9]){0,1}[0-9])|(?:[0-9a-fA-F]{1,4}:){1,4}:(?:(?:25[0-5]|(?:2[0-4]|1{0,1}[0-9]){0,1}[0-9])\\.){3,3}(25[0-5]|(?:2[0-4]|1{0,1}[0-9]){0,1}[0-9])\"\n",
    "    text = re.sub(ipv6_pattern, dummy2, text)\n",
    "    return text"
   ]
  },
  {
   "cell_type": "code",
   "execution_count": 15,
   "metadata": {},
   "outputs": [],
   "source": [
    "# test the replace_ip function\n",
    "ip4_after_space = \"foo 111.222.3.4\"\n",
    "ip4_before_space = \"111.222.3.4 bar\"\n",
    "ip6_with_colons = \"2001:0db8:0000:0000:0000:8a2e:0370:7334\"\n",
    "\n",
    "assert replace_ip(ip4_after_space) == \"foo 127.0.0.1\"\n",
    "assert replace_ip(ip4_before_space) == \"127.0.0.1 bar\"\n",
    "assert replace_ip(ip6_with_colons) == \"0:0:0:0:0:0:0:1\""
   ]
  },
  {
   "cell_type": "code",
   "execution_count": 16,
   "metadata": {},
   "outputs": [],
   "source": [
    "#| export\n",
    "def replace_credit_card(\n",
    "    text: str,                          # The text to replace credit card numbers in\n",
    "    dummy: str = \"1234-5678-9012-3456\", # The string to replace credit card numbers with\n",
    ") -> str:                               # The text with credit card numbers replaced\n",
    "    \"\"\"Replace credit card numbers from text with a dummy.\"\"\"\n",
    "    return re.sub(r\"\\d{4}-\\d{4}-\\d{4}-\\d{4}\", dummy, text)"
   ]
  },
  {
   "cell_type": "code",
   "execution_count": 17,
   "metadata": {},
   "outputs": [],
   "source": [
    "# test the replace_credit_card function\n",
    "credit_card_after_space = \"foo 1111-2222-3333-4444\"\n",
    "credit_card_before_space = \"1111-2222-3333-4444 bar\"\n",
    "\n",
    "assert replace_credit_card(credit_card_after_space) == \"foo 1234-5678-9012-3456\"\n",
    "assert replace_credit_card(credit_card_before_space) == \"1234-5678-9012-3456 bar\""
   ]
  },
  {
   "cell_type": "code",
   "execution_count": 23,
   "metadata": {},
   "outputs": [],
   "source": [
    "#| export\n",
    "def replace_ssn(\n",
    "    text: str,                  # The text to replace social security numbers in\n",
    "    dummy: str = \"123-45-6789\", # The string to replace social security numbers with\n",
    ") -> str:                       # The text with social security numbers replaced\n",
    "    \"\"\"Replace social security numbers from text with a dummy.\"\"\"\n",
    "    return re.sub(r\"\\d{3}-\\d{2}-\\d{4}\", dummy, text)"
   ]
  },
  {
   "cell_type": "code",
   "execution_count": 24,
   "metadata": {},
   "outputs": [],
   "source": [
    "# test the replace_ssn function\n",
    "ssn_after_space = \"foo 111-22-3333\"\n",
    "ssn_before_space = \"111-22-3333 bar\"\n",
    "\n",
    "assert replace_ssn(ssn_after_space) == \"foo 123-45-6789\"\n",
    "assert replace_ssn(ssn_before_space) == \"123-45-6789 bar\""
   ]
  },
  {
   "cell_type": "code",
   "execution_count": null,
   "metadata": {},
   "outputs": [],
   "source": [
    "#| hide\n",
    "import nbdev; nbdev.nbdev_export()"
   ]
  }
 ],
 "metadata": {
  "kernelspec": {
   "display_name": "Python 3.9.12 ('base')",
   "language": "python",
   "name": "python3"
  },
  "language_info": {
   "codemirror_mode": {
    "name": "ipython",
    "version": 3
   },
   "file_extension": ".py",
   "mimetype": "text/x-python",
   "name": "python",
   "nbconvert_exporter": "python",
   "pygments_lexer": "ipython3",
   "version": "3.9.12"
  },
  "vscode": {
   "interpreter": {
    "hash": "3f740baad84ac4276e8c436d8059ba3059ee5944da90e9a91e72996fb7b73d8e"
   }
  }
 },
 "nbformat": 4,
 "nbformat_minor": 4
}
