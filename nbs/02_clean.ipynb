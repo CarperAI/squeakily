{
 "cells": [
  {
   "cell_type": "markdown",
   "metadata": {},
   "source": [
    "# clean\n",
    "\n",
    "> This module contains all the various cleaning options supported."
   ]
  },
  {
   "cell_type": "code",
   "execution_count": null,
   "metadata": {},
   "outputs": [],
   "source": [
    "#| default_exp clean"
   ]
  },
  {
   "cell_type": "code",
   "execution_count": null,
   "metadata": {},
   "outputs": [],
   "source": [
    "#| export\n",
    "import re\n",
    "from faker import Faker\n",
    "\n",
    "fake = Faker()"
   ]
  },
  {
   "cell_type": "code",
   "execution_count": null,
   "metadata": {},
   "outputs": [],
   "source": [
    "#| hide\n",
    "from nbdev.showdoc import *"
   ]
  },
  {
   "cell_type": "code",
   "execution_count": null,
   "metadata": {},
   "outputs": [],
   "source": [
    "#| export\n",
    "# From: https://github.com/bigscience-workshop/data-preparation/blob/main/preprocessing/training/01b_oscar_cleaning_and_filtering/filtering.py#L95\n",
    "whitespace={\n",
    "    \" \",\n",
    "    \" \",\n",
    "    \" \",\n",
    "    \" \",\n",
    "    \" \",\n",
    "    \"　\",\n",
    "    \" \",\n",
    "    \" \",\n",
    "    \" \",\n",
    "    \" \",\n",
    "    \"￼\",\n",
    "    \"\",\n",
    "}\n",
    "\n",
    "def normalize_whitespace(\n",
    "    text: str,  # The text to normalize\n",
    ") -> str:       # The normalized text\n",
    "    \"\"\"\n",
    "    Replace the various whitespace characters with the standard one.\n",
    "    \"\"\"\n",
    "    text = \"\".join(\n",
    "        [char if char not in whitespace else \" \" for char in text]\n",
    "    )\n",
    "    return text"
   ]
  },
  {
   "cell_type": "code",
   "execution_count": null,
   "metadata": {},
   "outputs": [],
   "source": [
    "# test the normalize_whitespace function\n",
    "assert normalize_whitespace(\"a b c d e　f g h i￼jk\") == \"a b c d e f g h i j k\""
   ]
  },
  {
   "cell_type": "code",
   "execution_count": null,
   "metadata": {},
   "outputs": [],
   "source": [
    "#| export\n",
    "unicode_punctuation = {\n",
    "    \"，\": \",\",\n",
    "    \"。\": \".\",\n",
    "    \"、\": \",\",\n",
    "    \"„\": '\"',\n",
    "    \"”\": '\"',\n",
    "    \"“\": '\"',\n",
    "    \"«\": '\"',\n",
    "    \"»\": '\"',\n",
    "    \"１\": '\"',\n",
    "    \"」\": '\"',\n",
    "    \"「\": '\"',\n",
    "    \"《\": '\"',\n",
    "    \"》\": '\"',\n",
    "    \"´\": \"'\",\n",
    "    \"∶\": \":\",\n",
    "    \"：\": \":\",\n",
    "    \"？\": \"?\",\n",
    "    \"！\": \"!\",\n",
    "    \"（\": \"(\",\n",
    "    \"）\": \")\",\n",
    "    \"；\": \";\",\n",
    "    \"–\": \"-\",\n",
    "    \"—\": \" - \",\n",
    "    \"．\": \". \",\n",
    "    \"～\": \"~\",\n",
    "    \"’\": \"'\",\n",
    "    \"…\": \"...\",\n",
    "    \"━\": \"-\",\n",
    "    \"〈\": \"<\",\n",
    "    \"〉\": \">\",\n",
    "    \"【\": \"[\",\n",
    "    \"】\": \"]\",\n",
    "    \"％\": \"%\",\n",
    "    \"►\": \"-\",\n",
    "}\n",
    "\n",
    "def normalize_punctuation(\n",
    "    text: str,  # The text to normalize\n",
    ") -> str:       # The normalized text\n",
    "    \"\"\"\n",
    "    Replace the various unicode punctuation characters with the standard ones.\n",
    "    \"\"\"\n",
    "    text = \"\".join(\n",
    "        [unicode_punctuation.get(char, char) for char in text]\n",
    "    )\n",
    "    return text"
   ]
  },
  {
   "cell_type": "code",
   "execution_count": null,
   "metadata": {},
   "outputs": [],
   "source": [
    "# test the normalize_punctuation function\n",
    "text = \"，。、„”“«»１」「《》´∶：？！（）；–—．～’…━〈〉【】％►\"\n",
    "\n",
    "assert normalize_punctuation(text) == \",.,\\\"\\\"\\\"\\\"\\\"\\\"\\\"\\\"\\\"\\\"\\'::?!();- - . ~\\'...-<>[]%-\""
   ]
  },
  {
   "cell_type": "code",
   "execution_count": null,
   "metadata": {},
   "outputs": [],
   "source": [
    "#| export\n",
    "def remove_empty_lines(\n",
    "    text: str,  # The text to remove empty lines from\n",
    ") -> str:       # The text with empty lines removed\n",
    "    \"\"\"\n",
    "    Remove empty lines from the text.\n",
    "    Solution from https://stackoverflow.com/a/3711884/5768407\n",
    "    \"\"\"\n",
    "    lines = text.splitlines()\n",
    "    filtered = filter(lambda x: not re.match(r'^\\s*$', x), lines)\n",
    "    return \"\\n\".join(filtered)"
   ]
  },
  {
   "cell_type": "code",
   "execution_count": null,
   "metadata": {},
   "outputs": [],
   "source": [
    "# test the remove_empty_lines function\n",
    "starts_with_newline = \"\\nfoo\\nbar\"\n",
    "multiple_newlines = \"foo\\n\\nbar\"\n",
    "ends_with_newline = \"foo\\nbar\\n\"\n",
    "\n",
    "assert remove_empty_lines(starts_with_newline) == \"foo\\nbar\"\n",
    "assert remove_empty_lines(multiple_newlines) == \"foo\\nbar\"\n",
    "assert remove_empty_lines(ends_with_newline) == \"foo\\nbar\""
   ]
  },
  {
   "cell_type": "code",
   "execution_count": null,
   "metadata": {},
   "outputs": [],
   "source": [
    "#| export\n",
    "def replace_urls(\n",
    "    text: str,                              # The text to replace URLs in\n",
    "    dummy: str = \"https://example.com/\",    # The dummy text to replace URLs with\n",
    ") -> str:                                   # The text with URLs replaced\n",
    "    \"\"\"Replace urls from text with a dummy.\"\"\"\n",
    "    return re.sub(r\"http\\S+\", dummy, text)"
   ]
  },
  {
   "cell_type": "code",
   "execution_count": null,
   "metadata": {},
   "outputs": [],
   "source": [
    "# test the replace_urls function\n",
    "url_after_space = \"foo http://bar.com\"\n",
    "url_before_space = \"http://foo.com bar\"\n",
    "assert replace_urls(url_after_space) == \"foo https://example.com/\"\n",
    "assert replace_urls(url_before_space) == \"https://example.com/ bar\""
   ]
  },
  {
   "cell_type": "code",
   "execution_count": null,
   "metadata": {},
   "outputs": [],
   "source": [
    "#| export\n",
    "def replace_dates(\n",
    "    text: str,                  # The text to remove dates from\n",
    "    dummy: str = fake.date(),   # The dummy text to replace dates with\n",
    ") -> str:                       # The text with dates replaced\n",
    "    \"\"\"Replace dates from text with a dummy.\"\"\"\n",
    "    return re.sub(r'\\d{1,2}/\\d{1,2}/\\d{4}', dummy, text)"
   ]
  },
  {
   "cell_type": "code",
   "execution_count": null,
   "metadata": {},
   "outputs": [],
   "source": [
    "# test the replace_dates function\n",
    "date_after_space = \"foo 1/1/2020\"\n",
    "date_before_space = \"1/1/2020 bar\"\n",
    "assert replace_dates(date_after_space, \"1/1/1970\") == \"foo 1/1/1970\"\n",
    "assert replace_dates(date_before_space, \"1/1/1970\") == \"1/1/1970 bar\""
   ]
  },
  {
   "cell_type": "markdown",
   "metadata": {},
   "source": [
    "## PII Removal\n",
    "\n",
    "Currently, we support the following PII removal options:\n",
    "\n",
    "  * `replace_email`\n",
    "  * `replace_phone`\n",
    "  * `replace_ip`\n",
    "  * `replace_credit_card`\n",
    "  * `replace_ssn`\n",
    "\n",
    "However, for emails, phone numbers, credit cards, and SSNs, we recommend you to use the [scrubadub](https://scrubadub.readthedocs.io/en/stable/index.html) library."
   ]
  },
  {
   "cell_type": "code",
   "execution_count": null,
   "metadata": {},
   "outputs": [],
   "source": [
    "#| export\n",
    "def replace_email(\n",
    "    text: str,                          # The text to replace email addresses in\n",
    "    dummy: str = fake.email(),          # The dummy text to replace email addresses with\n",
    ") -> str:                               # The text with email addresses replaced\n",
    "    \"\"\"Replace email addresses from text with a dummy.\"\"\"\n",
    "    return re.sub(r\"[\\w\\.-]+@[\\w\\.-]+\", dummy, text)"
   ]
  },
  {
   "cell_type": "code",
   "execution_count": null,
   "metadata": {},
   "outputs": [],
   "source": [
    "# test the replace_email function\n",
    "email_after_space = \"foo fake@email.com\"\n",
    "email_before_space = \"fake@email.com bar\"\n",
    "email_with_forward_periods = \"foo.bar@email.com\"\n",
    "email_with_backward_periods = \"foo@bar.email.com\"\n",
    "\n",
    "assert replace_email(email_after_space, \"example@email.com\") == \"foo example@email.com\"\n",
    "assert replace_email(email_before_space, \"example@email.com\") == \"example@email.com bar\"\n",
    "assert replace_email(email_with_forward_periods, \"example@email.com\") == \"example@email.com\"\n",
    "assert replace_email(email_with_backward_periods, \"example@email.com\") == \"example@email.com\""
   ]
  },
  {
   "cell_type": "code",
   "execution_count": null,
   "metadata": {},
   "outputs": [],
   "source": [
    "#| export\n",
    "def replace_phone(\n",
    "    text: str,                          # The text to replace phone numbers in\n",
    "    dummy: str = fake.phone_number(),   # The dummy text to replace phone numbers with\n",
    ") -> str:                               # The text with phone numbers replaced\n",
    "    \"\"\"Replace phone numbers from text with a dummy.\"\"\"\n",
    "    return re.sub(r\"\\(?\\d{3}\\)?-? *\\d{3}-? *-?\\d{4}\", dummy, text)"
   ]
  },
  {
   "cell_type": "code",
   "execution_count": null,
   "metadata": {},
   "outputs": [],
   "source": [
    "# test the replace_phone function\n",
    "phone_after_space = \"foo 111-222-3333\"\n",
    "phone_before_space = \"111-222-3333 bar\"\n",
    "phone_with_parens = \"(111) 222-3333\"\n",
    "phone_with_spaces = \"111 222 3333\"\n",
    "phone_with_dashes = \"111-222-3333\"\n",
    "\n",
    "assert replace_phone(phone_after_space, \"123-456-7890\") == \"foo 123-456-7890\"\n",
    "assert replace_phone(phone_before_space, \"123-456-7890\") == \"123-456-7890 bar\"\n",
    "assert replace_phone(phone_with_parens, \"123-456-7890\") == \"123-456-7890\"\n",
    "assert replace_phone(phone_with_spaces, \"123-456-7890\") == \"123-456-7890\"\n",
    "assert replace_phone(phone_with_dashes, \"123-456-7890\") == \"123-456-7890\""
   ]
  },
  {
   "cell_type": "code",
   "execution_count": null,
   "metadata": {},
   "outputs": [],
   "source": [
    "#| export\n",
    "def replace_ip(\n",
    "    text,                       # The text to replace ip addresses in\n",
    "    dummy1: str = fake.ipv4(),  # The dummy text to replace ipv4 addresses with\n",
    "    dummy2: str = fake.ipv6(),  # The dummy text to replace ipv6 addresses with\n",
    ") -> str:                       # The text with ip addresses replaced\n",
    "    \"\"\"\n",
    "    Replace ip addresses from text with a dummy.\n",
    "    Solution from https://github.com/bigcode-project/bigcode-analysis/blob/main/data_analysis/pii/utils/emails_ip_addresses_detection.py#L48\n",
    "    \"\"\"\n",
    "    ipv4_pattern = r\"(?:25[0-5]|2[0-4][0-9]|[01]?[0-9][0-9]?)(?:\\.(?:25[0-5]|2[0-4][0-9]|[01]?[0-9][0-9]?)){3}\"\n",
    "    text = re.sub(ipv4_pattern, dummy1, text)\n",
    "    ipv6_pattern = r\"(?:[0-9a-fA-F]{1,4}:){7,7}[0-9a-fA-F]{1,4}|(?:[0-9a-fA-F]{1,4}:){1,7}:|(?:[0-9a-fA-F]{1,4}:){1,6}:[0-9a-fA-F]{1,4}|(?:[0-9a-fA-F]{1,4}:){1,5}(?::[0-9a-fA-F]{1,4}){1,2}|(?:[0-9a-fA-F]{1,4}:){1,4}(?::[0-9a-fA-F]{1,4}){1,3}|(?:[0-9a-fA-F]{1,4}:){1,3}(?::[0-9a-fA-F]{1,4}){1,4}|(?:[0-9a-fA-F]{1,4}:){1,2}(?::[0-9a-fA-F]{1,4}){1,5}|[0-9a-fA-F]{1,4}:(?:(?::[0-9a-fA-F]{1,4}){1,6})|:(?:(?::[0-9a-fA-F]{1,4}){1,7}|:)|fe80:(?::[0-9a-fA-F]{0,4}){0,4}%[0-9a-zA-Z]{1,}|::(?:ffff(?::0{1,4}){0,1}:){0,1}(?:(?:25[0-5]|(?:2[0-4]|1{0,1}[0-9]){0,1}[0-9])\\.){3,3}(?:25[0-5]|(?:2[0-4]|1{0,1}[0-9]){0,1}[0-9])|(?:[0-9a-fA-F]{1,4}:){1,4}:(?:(?:25[0-5]|(?:2[0-4]|1{0,1}[0-9]){0,1}[0-9])\\.){3,3}(25[0-5]|(?:2[0-4]|1{0,1}[0-9]){0,1}[0-9])\"\n",
    "    text = re.sub(ipv6_pattern, dummy2, text)\n",
    "    return text"
   ]
  },
  {
   "cell_type": "code",
   "execution_count": null,
   "metadata": {},
   "outputs": [],
   "source": [
    "# test the replace_ip function\n",
    "ip4_after_space = \"foo 111.222.3.4\"\n",
    "ip4_before_space = \"111.222.3.4 bar\"\n",
    "ip6_with_colons = \"2001:0db8:0000:0000:0000:8a2e:0370:7334\"\n",
    "\n",
    "assert replace_ip(ip4_after_space, \"127.0.0.1\") == \"foo 127.0.0.1\"\n",
    "assert replace_ip(ip4_before_space, \"127.0.0.1\") == \"127.0.0.1 bar\"\n",
    "assert replace_ip(ip6_with_colons, \"127.0.0.1\", \"0:0:0:0:0:0:0:1\") == \"0:0:0:0:0:0:0:1\""
   ]
  },
  {
   "cell_type": "code",
   "execution_count": null,
   "metadata": {},
   "outputs": [],
   "source": [
    "#| export\n",
    "def replace_credit_card(\n",
    "    text: str,                              # The text to replace credit card numbers in\n",
    "    dummy: str = fake.credit_card_number(), # The dummy text to replace credit card numbers with\n",
    ") -> str:                                   # The text with credit card numbers replaced\n",
    "    \"\"\"Replace credit card numbers from text with a dummy.\"\"\"\n",
    "    return re.sub(r\"\\d{4}-\\d{4}-\\d{4}-\\d{4}\", dummy, text)"
   ]
  },
  {
   "cell_type": "code",
   "execution_count": null,
   "metadata": {},
   "outputs": [],
   "source": [
    "# test the replace_credit_card function\n",
    "credit_card_after_space = \"foo 1111-2222-3333-4444\"\n",
    "credit_card_before_space = \"1111-2222-3333-4444 bar\"\n",
    "\n",
    "assert replace_credit_card(credit_card_after_space, \"1234-5678-9012-3456\") == \"foo 1234-5678-9012-3456\"\n",
    "assert replace_credit_card(credit_card_before_space, \"1234-5678-9012-3456\") == \"1234-5678-9012-3456 bar\""
   ]
  },
  {
   "cell_type": "code",
   "execution_count": null,
   "metadata": {},
   "outputs": [],
   "source": [
    "#| export\n",
    "def replace_ssn(\n",
    "    text: str,                  # The text to replace social security numbers in\n",
    "    dummy: str = fake.ssn(),    # The dummy text to replace social security numbers with\n",
    ") -> str:                       # The text with social security numbers replaced\n",
    "    \"\"\"Replace social security numbers from text with a dummy.\"\"\"\n",
    "    return re.sub(r\"\\d{3}-\\d{2}-\\d{4}\", dummy, text)"
   ]
  },
  {
   "cell_type": "code",
   "execution_count": null,
   "metadata": {},
   "outputs": [],
   "source": [
    "# test the replace_ssn function\n",
    "ssn_after_space = \"foo 111-22-3333\"\n",
    "ssn_before_space = \"111-22-3333 bar\"\n",
    "\n",
    "assert replace_ssn(ssn_after_space, \"123-45-6789\") == \"foo 123-45-6789\"\n",
    "assert replace_ssn(ssn_before_space, \"123-45-6789\") == \"123-45-6789 bar\""
   ]
  },
  {
   "cell_type": "code",
   "execution_count": null,
   "metadata": {},
   "outputs": [],
   "source": [
    "#| hide\n",
    "import nbdev; nbdev.nbdev_export()"
   ]
  }
 ],
 "metadata": {
  "kernelspec": {
   "display_name": "Python 3.10.8 ('squeakily')",
   "language": "python",
   "name": "python3"
  }
 },
 "nbformat": 4,
 "nbformat_minor": 4
}
