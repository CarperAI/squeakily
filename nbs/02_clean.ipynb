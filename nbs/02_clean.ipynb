{
 "cells": [
  {
   "cell_type": "markdown",
   "metadata": {},
   "source": [
    "# clean\n",
    "\n",
    "> This module contains all the various cleaning options supported."
   ]
  },
  {
   "cell_type": "code",
   "execution_count": null,
   "metadata": {},
   "outputs": [],
   "source": [
    "#| default_exp clean"
   ]
  },
  {
   "cell_type": "code",
   "execution_count": null,
   "metadata": {},
   "outputs": [],
   "source": [
    "#| export\n",
    "import re"
   ]
  },
  {
   "cell_type": "code",
   "execution_count": null,
   "metadata": {},
   "outputs": [],
   "source": [
    "#| hide\n",
    "from nbdev.showdoc import *"
   ]
  },
  {
   "cell_type": "code",
   "execution_count": null,
   "metadata": {},
   "outputs": [],
   "source": [
    "#| export\n",
    "def normalize_whitespace(\n",
    "    text: str, # The text to normalize\n",
    ") -> str: # The normalized text\n",
    "    \"\"\"\n",
    "    Replace runs of whitespace with a single space, strip leading/trailing whitespace,\n",
    "    and normalize all newlines to unix-style newlines.\n",
    "    \"\"\"\n",
    "    return re.sub(r\"\\s+\", \" \", text.strip()).replace(\"\\r\\n\", \"\\n\")"
   ]
  },
  {
   "cell_type": "code",
   "execution_count": null,
   "metadata": {},
   "outputs": [],
   "source": [
    "#| export\n",
    "def remove_empty_lines(\n",
    "    text: str, # The text to remove empty lines from\n",
    ") -> str: # The text with empty lines removed\n",
    "    \"\"\"\n",
    "    Remove empty lines from the text.\n",
    "    \"\"\"\n",
    "    return re.sub(r\"^\\s*$\", \"\", text, flags=re.MULTILINE)"
   ]
  },
  {
   "cell_type": "code",
   "execution_count": null,
   "metadata": {},
   "outputs": [],
   "source": [
    "#| hide\n",
    "import nbdev; nbdev.nbdev_export()"
   ]
  }
 ],
 "metadata": {
  "kernelspec": {
   "display_name": "Python 3.9.13 ('squeakily')",
   "language": "python",
   "name": "python3"
  }
 },
 "nbformat": 4,
 "nbformat_minor": 4
}
