{
 "cells": [
  {
   "cell_type": "markdown",
   "metadata": {},
   "source": [
    "# core\n",
    "\n",
    "> This module contains all the core functions used in the library."
   ]
  },
  {
   "cell_type": "code",
   "execution_count": null,
   "metadata": {},
   "outputs": [],
   "source": [
    "#| default_exp core"
   ]
  },
  {
   "cell_type": "code",
   "execution_count": null,
   "metadata": {},
   "outputs": [],
   "source": [
    "#| export\n",
    "import logging\n",
    "import os\n",
    "\n",
    "from datasets import concatenate_datasets, Dataset\n",
    "from rich.logging import RichHandler\n",
    "\n",
    "logger = logging.getLogger(__name__)\n",
    "logger.setLevel(logging.INFO)\n",
    "logger.addHandler(RichHandler(rich_tracebacks=True))\n",
    "# Turn off logging for datasets\n",
    "logging.getLogger(\"datasets\").setLevel(logging.ERROR)"
   ]
  },
  {
   "cell_type": "code",
   "execution_count": null,
   "metadata": {},
   "outputs": [],
   "source": [
    "#| hide\n",
    "from nbdev.showdoc import *"
   ]
  },
  {
   "cell_type": "code",
   "execution_count": null,
   "metadata": {},
   "outputs": [],
   "source": [
    "#| hide\n",
    "from datasets import load_dataset\n",
    "from squeakily.filter import check_char_repetition, check_flagged_words, minhash_dedup\n",
    "from squeakily.clean import remove_empty_lines, normalize_whitespace"
   ]
  },
  {
   "cell_type": "code",
   "execution_count": null,
   "metadata": {},
   "outputs": [],
   "source": [
    "#| export\n",
    "class Pipeline:\n",
    "    \"\"\"\n",
    "    A pipeline is a collection of datasources and their associated transformations to be run.\n",
    "    \"\"\"\n",
    "    def __init__(\n",
    "        self,\n",
    "        datasources # The datasources to be run\n",
    "    ):\n",
    "        self.datasources = datasources\n",
    "    \n",
    "    def run(\n",
    "        self,\n",
    "        global_filters=[],      # Filters to be run at the dataset level rather than the example level\n",
    "        global_cleaners=[],     # Cleaners to be run at the dataset level rather than the example level\n",
    "        cleaning_first=False,   # Whether to run the cleaning transformations first\n",
    "        globals_first=False,    # Whether to run the global transformations first\n",
    "        dry_run=False,          # Whether to run the pipeline or only calculate the various criteria and add as a column\n",
    "    ):\n",
    "        \"\"\"\n",
    "        Run the pipeline.\n",
    "        \"\"\"\n",
    "        for i in range(len(self.datasources)):\n",
    "            column = self.datasources[i][\"columns\"][0]\n",
    "            logger.info(f\"Running datasource: {self.datasources[i]['dataset'].builder_name}\")\n",
    "            if cleaning_first:\n",
    "                for c in self.datasources[i][\"cleaners\"]:\n",
    "                    logger.info(f\"Running cleaner: {c.__name__} on {column}\")\n",
    "                    self.datasources[i][\"dataset\"] = self.datasources[i][\"dataset\"].map(\n",
    "                        lambda x: {column: c(x[column])},\n",
    "                        num_proc=os.cpu_count(),\n",
    "                    )\n",
    "                for f in self.datasources[i][\"filters\"]:\n",
    "                    logger.info(f\"Running filter: {f.__name__} on {column}\")\n",
    "                    if dry_run:\n",
    "                        logger.info(f\"Running in dry-run mode\")\n",
    "                        self.datasources[i][\"dataset\"] = self.datasources[i][\"dataset\"].map(\n",
    "                            lambda x: {f\"{f.__name__}_criteria\": f(x[column], dry_run=True)},\n",
    "                            num_proc=os.cpu_count(),\n",
    "                        )\n",
    "                    else:\n",
    "                        self.datasources[i][\"dataset\"] = self.datasources[i][\"dataset\"].filter(\n",
    "                            lambda x: f(x[column]),\n",
    "                            num_proc=os.cpu_count(),\n",
    "                        )\n",
    "            else:\n",
    "                for f in self.datasources[i][\"filters\"]:\n",
    "                    logger.info(f\"Running filter: {f.__name__} on {column}\")\n",
    "                    if dry_run:\n",
    "                        logger.info(f\"Running in dry-run mode\")\n",
    "                        self.datasources[i][\"dataset\"] = self.datasources[i][\"dataset\"].map(\n",
    "                            lambda x: {f\"{f.__name__}_criteria\": f(x[column], dry_run=True)},\n",
    "                            num_proc=os.cpu_count(),\n",
    "                        )\n",
    "                    else:\n",
    "                        self.datasources[i][\"dataset\"] = self.datasources[i][\"dataset\"].filter(\n",
    "                            lambda x: f(x[column]),\n",
    "                            num_proc=os.cpu_count(),\n",
    "                        )\n",
    "                for c in self.datasources[i][\"cleaners\"]:\n",
    "                    logger.info(f\"Running cleaner: {c.__name__} on {column}\")\n",
    "                    self.datasources[i][\"dataset\"] = self.datasources[i][\"dataset\"].map(\n",
    "                        lambda x: {column: c(x[column])},\n",
    "                        num_proc=os.cpu_count(),\n",
    "                    )\n",
    "\n",
    "        if len(global_filters) > 0:\n",
    "            # concatenate all datasets\n",
    "            datasets = [\n",
    "                d[\"dataset\"] for d in self.datasources\n",
    "                if not d.get(\"skip_global\", False)\n",
    "            ]\n",
    "            global_column = self.datasources[0][\"columns\"][0]\n",
    "            global_dataset = concatenate_datasets(datasets)\n",
    "\n",
    "            # Add a column representing the original dataset name\n",
    "            md = []\n",
    "            for d in datasets:\n",
    "                md.extend([d.builder_name] * len(d))\n",
    "            meta_data = Dataset.from_dict({\"meta_data\": md})\n",
    "            global_dataset_with_meta = concatenate_datasets([global_dataset, meta_data], axis=1)\n",
    "\n",
    "            # Run the global filters\n",
    "            for f in global_filters:\n",
    "                logger.info(f\"Running global filter: {f.__name__}\")\n",
    "                global_dataset_with_meta = f(global_dataset_with_meta, global_column, dry_run=dry_run)\n",
    "\n",
    "            # Split the dataset back up\n",
    "            for i, dataset in enumerate(datasets):\n",
    "                self.datasources[i][\"dataset\"] = global_dataset_with_meta.filter(\n",
    "                    lambda x: x[\"meta_data\"] == dataset.builder_name,\n",
    "                    num_proc=os.cpu_count(),\n",
    "                )"
   ]
  },
  {
   "cell_type": "code",
   "execution_count": null,
   "metadata": {},
   "outputs": [
    {
     "data": {
      "text/markdown": [
       "---\n",
       "\n",
       "[source](https://github.com/CarperAI/squeakily/blob/main/squeakily/core.py#L30){target=\"_blank\" style=\"float:right; font-size:smaller\"}\n",
       "\n",
       "### Pipeline.run\n",
       "\n",
       ">      Pipeline.run (global_filters=[], global_cleaners=[],\n",
       ">                    cleaning_first=False, globals_first=False, dry_run=False)\n",
       "\n",
       "Run the pipeline.\n",
       "\n",
       "|    | **Type** | **Default** | **Details** |\n",
       "| -- | -------- | ----------- | ----------- |\n",
       "| global_filters | list | [] | Filters to be run at the dataset level rather than the example level |\n",
       "| global_cleaners | list | [] | Cleaners to be run at the dataset level rather than the example level |\n",
       "| cleaning_first | bool | False | Whether to run the cleaning transformations first |\n",
       "| globals_first | bool | False | Whether to run the global transformations first |\n",
       "| dry_run | bool | False | Whether to run the pipeline or only calculate the various criteria and add as a column |"
      ],
      "text/plain": [
       "---\n",
       "\n",
       "[source](https://github.com/CarperAI/squeakily/blob/main/squeakily/core.py#L30){target=\"_blank\" style=\"float:right; font-size:smaller\"}\n",
       "\n",
       "### Pipeline.run\n",
       "\n",
       ">      Pipeline.run (global_filters=[], global_cleaners=[],\n",
       ">                    cleaning_first=False, globals_first=False, dry_run=False)\n",
       "\n",
       "Run the pipeline.\n",
       "\n",
       "|    | **Type** | **Default** | **Details** |\n",
       "| -- | -------- | ----------- | ----------- |\n",
       "| global_filters | list | [] | Filters to be run at the dataset level rather than the example level |\n",
       "| global_cleaners | list | [] | Cleaners to be run at the dataset level rather than the example level |\n",
       "| cleaning_first | bool | False | Whether to run the cleaning transformations first |\n",
       "| globals_first | bool | False | Whether to run the global transformations first |\n",
       "| dry_run | bool | False | Whether to run the pipeline or only calculate the various criteria and add as a column |"
      ]
     },
     "execution_count": null,
     "metadata": {},
     "output_type": "execute_result"
    }
   ],
   "source": [
    "#|echo: true\n",
    "show_doc(Pipeline.run)"
   ]
  },
  {
   "cell_type": "code",
   "execution_count": null,
   "metadata": {},
   "outputs": [
    {
     "data": {
      "text/html": [
       "<pre style=\"white-space:pre;overflow-x:auto;line-height:normal;font-family:Menlo,'DejaVu Sans Mono',consolas,'Courier New',monospace\"><span style=\"color: #7fbfbf; text-decoration-color: #7fbfbf\">[11/30/22 01:40:05] </span><span style=\"color: #000080; text-decoration-color: #000080\">INFO    </span> Original dataset size: <span style=\"color: #008080; text-decoration-color: #008080; font-weight: bold\">18014</span>                                           <a href=\"file:///tmp/ipykernel_72012/3422434374.py\" target=\"_blank\"><span style=\"color: #7f7f7f; text-decoration-color: #7f7f7f\">3422434374.py</span></a><span style=\"color: #7f7f7f; text-decoration-color: #7f7f7f\">:</span><a href=\"file:///tmp/ipykernel_72012/3422434374.py#3\" target=\"_blank\"><span style=\"color: #7f7f7f; text-decoration-color: #7f7f7f\">3</span></a>\n",
       "</pre>\n"
      ],
      "text/plain": [
       "\u001b[2;36m[11/30/22 01:40:05]\u001b[0m\u001b[2;36m \u001b[0m\u001b[34mINFO    \u001b[0m Original dataset size: \u001b[1;36m18014\u001b[0m                                           \u001b]8;id=117692;file:///tmp/ipykernel_72012/3422434374.py\u001b\\\u001b[2m3422434374.py\u001b[0m\u001b]8;;\u001b\\\u001b[2m:\u001b[0m\u001b]8;id=350765;file:///tmp/ipykernel_72012/3422434374.py#3\u001b\\\u001b[2m3\u001b[0m\u001b]8;;\u001b\\\n"
      ]
     },
     "metadata": {},
     "output_type": "display_data"
    },
    {
     "data": {
      "text/html": [
       "<pre style=\"white-space:pre;overflow-x:auto;line-height:normal;font-family:Menlo,'DejaVu Sans Mono',consolas,'Courier New',monospace\"><span style=\"color: #7fbfbf; text-decoration-color: #7fbfbf\">                    </span><span style=\"color: #000080; text-decoration-color: #000080\">INFO    </span> Running datasource: wikitext                                          <a href=\"file:///tmp/ipykernel_72012/1743738010.py\" target=\"_blank\"><span style=\"color: #7f7f7f; text-decoration-color: #7f7f7f\">1743738010.py</span></a><span style=\"color: #7f7f7f; text-decoration-color: #7f7f7f\">:</span><a href=\"file:///tmp/ipykernel_72012/1743738010.py#25\" target=\"_blank\"><span style=\"color: #7f7f7f; text-decoration-color: #7f7f7f\">25</span></a>\n",
       "</pre>\n"
      ],
      "text/plain": [
       "\u001b[2;36m                   \u001b[0m\u001b[2;36m \u001b[0m\u001b[34mINFO    \u001b[0m Running datasource: wikitext                                          \u001b]8;id=961561;file:///tmp/ipykernel_72012/1743738010.py\u001b\\\u001b[2m1743738010.py\u001b[0m\u001b]8;;\u001b\\\u001b[2m:\u001b[0m\u001b]8;id=671094;file:///tmp/ipykernel_72012/1743738010.py#25\u001b\\\u001b[2m25\u001b[0m\u001b]8;;\u001b\\\n"
      ]
     },
     "metadata": {},
     "output_type": "display_data"
    },
    {
     "data": {
      "text/html": [
       "<pre style=\"white-space:pre;overflow-x:auto;line-height:normal;font-family:Menlo,'DejaVu Sans Mono',consolas,'Courier New',monospace\"><span style=\"color: #7fbfbf; text-decoration-color: #7fbfbf\">                    </span><span style=\"color: #000080; text-decoration-color: #000080\">INFO    </span> Running filter: check_char_repetition on text                         <a href=\"file:///tmp/ipykernel_72012/1743738010.py\" target=\"_blank\"><span style=\"color: #7f7f7f; text-decoration-color: #7f7f7f\">1743738010.py</span></a><span style=\"color: #7f7f7f; text-decoration-color: #7f7f7f\">:</span><a href=\"file:///tmp/ipykernel_72012/1743738010.py#48\" target=\"_blank\"><span style=\"color: #7f7f7f; text-decoration-color: #7f7f7f\">48</span></a>\n",
       "</pre>\n"
      ],
      "text/plain": [
       "\u001b[2;36m                   \u001b[0m\u001b[2;36m \u001b[0m\u001b[34mINFO    \u001b[0m Running filter: check_char_repetition on text                         \u001b]8;id=573567;file:///tmp/ipykernel_72012/1743738010.py\u001b\\\u001b[2m1743738010.py\u001b[0m\u001b]8;;\u001b\\\u001b[2m:\u001b[0m\u001b]8;id=577814;file:///tmp/ipykernel_72012/1743738010.py#48\u001b\\\u001b[2m48\u001b[0m\u001b]8;;\u001b\\\n"
      ]
     },
     "metadata": {},
     "output_type": "display_data"
    },
    {
     "data": {
      "text/html": [
       "<pre style=\"white-space:pre;overflow-x:auto;line-height:normal;font-family:Menlo,'DejaVu Sans Mono',consolas,'Courier New',monospace\"><span style=\"color: #7fbfbf; text-decoration-color: #7fbfbf\">                    </span><span style=\"color: #000080; text-decoration-color: #000080\">INFO    </span> Running in dry-run mode                                               <a href=\"file:///tmp/ipykernel_72012/1743738010.py\" target=\"_blank\"><span style=\"color: #7f7f7f; text-decoration-color: #7f7f7f\">1743738010.py</span></a><span style=\"color: #7f7f7f; text-decoration-color: #7f7f7f\">:</span><a href=\"file:///tmp/ipykernel_72012/1743738010.py#50\" target=\"_blank\"><span style=\"color: #7f7f7f; text-decoration-color: #7f7f7f\">50</span></a>\n",
       "</pre>\n"
      ],
      "text/plain": [
       "\u001b[2;36m                   \u001b[0m\u001b[2;36m \u001b[0m\u001b[34mINFO    \u001b[0m Running in dry-run mode                                               \u001b]8;id=856234;file:///tmp/ipykernel_72012/1743738010.py\u001b\\\u001b[2m1743738010.py\u001b[0m\u001b]8;;\u001b\\\u001b[2m:\u001b[0m\u001b]8;id=840660;file:///tmp/ipykernel_72012/1743738010.py#50\u001b\\\u001b[2m50\u001b[0m\u001b]8;;\u001b\\\n"
      ]
     },
     "metadata": {},
     "output_type": "display_data"
    },
    {
     "name": "stdout",
     "output_type": "stream",
     "text": [
      "                                "
     ]
    },
    {
     "data": {
      "text/html": [
       "<pre style=\"white-space:pre;overflow-x:auto;line-height:normal;font-family:Menlo,'DejaVu Sans Mono',consolas,'Courier New',monospace\"><span style=\"color: #7fbfbf; text-decoration-color: #7fbfbf\">[11/30/22 01:40:06] </span><span style=\"color: #000080; text-decoration-color: #000080\">INFO    </span> Running filter: check_flagged_words on text                           <a href=\"file:///tmp/ipykernel_72012/1743738010.py\" target=\"_blank\"><span style=\"color: #7f7f7f; text-decoration-color: #7f7f7f\">1743738010.py</span></a><span style=\"color: #7f7f7f; text-decoration-color: #7f7f7f\">:</span><a href=\"file:///tmp/ipykernel_72012/1743738010.py#48\" target=\"_blank\"><span style=\"color: #7f7f7f; text-decoration-color: #7f7f7f\">48</span></a>\n",
       "</pre>\n"
      ],
      "text/plain": [
       "\u001b[2;36m[11/30/22 01:40:06]\u001b[0m\u001b[2;36m \u001b[0m\u001b[34mINFO    \u001b[0m Running filter: check_flagged_words on text                           \u001b]8;id=615791;file:///tmp/ipykernel_72012/1743738010.py\u001b\\\u001b[2m1743738010.py\u001b[0m\u001b]8;;\u001b\\\u001b[2m:\u001b[0m\u001b]8;id=255930;file:///tmp/ipykernel_72012/1743738010.py#48\u001b\\\u001b[2m48\u001b[0m\u001b]8;;\u001b\\\n"
      ]
     },
     "metadata": {},
     "output_type": "display_data"
    },
    {
     "data": {
      "text/html": [
       "<pre style=\"white-space:pre;overflow-x:auto;line-height:normal;font-family:Menlo,'DejaVu Sans Mono',consolas,'Courier New',monospace\"><span style=\"color: #7fbfbf; text-decoration-color: #7fbfbf\">                    </span><span style=\"color: #000080; text-decoration-color: #000080\">INFO    </span> Running in dry-run mode                                               <a href=\"file:///tmp/ipykernel_72012/1743738010.py\" target=\"_blank\"><span style=\"color: #7f7f7f; text-decoration-color: #7f7f7f\">1743738010.py</span></a><span style=\"color: #7f7f7f; text-decoration-color: #7f7f7f\">:</span><a href=\"file:///tmp/ipykernel_72012/1743738010.py#50\" target=\"_blank\"><span style=\"color: #7f7f7f; text-decoration-color: #7f7f7f\">50</span></a>\n",
       "</pre>\n"
      ],
      "text/plain": [
       "\u001b[2;36m                   \u001b[0m\u001b[2;36m \u001b[0m\u001b[34mINFO    \u001b[0m Running in dry-run mode                                               \u001b]8;id=554792;file:///tmp/ipykernel_72012/1743738010.py\u001b\\\u001b[2m1743738010.py\u001b[0m\u001b]8;;\u001b\\\u001b[2m:\u001b[0m\u001b]8;id=228334;file:///tmp/ipykernel_72012/1743738010.py#50\u001b\\\u001b[2m50\u001b[0m\u001b]8;;\u001b\\\n"
      ]
     },
     "metadata": {},
     "output_type": "display_data"
    },
    {
     "name": "stdout",
     "output_type": "stream",
     "text": [
      "                                "
     ]
    },
    {
     "data": {
      "text/html": [
       "<pre style=\"white-space:pre;overflow-x:auto;line-height:normal;font-family:Menlo,'DejaVu Sans Mono',consolas,'Courier New',monospace\"><span style=\"color: #7fbfbf; text-decoration-color: #7fbfbf\">                    </span><span style=\"color: #000080; text-decoration-color: #000080\">INFO    </span> Running cleaner: remove_empty_lines on text                           <a href=\"file:///tmp/ipykernel_72012/1743738010.py\" target=\"_blank\"><span style=\"color: #7f7f7f; text-decoration-color: #7f7f7f\">1743738010.py</span></a><span style=\"color: #7f7f7f; text-decoration-color: #7f7f7f\">:</span><a href=\"file:///tmp/ipykernel_72012/1743738010.py#61\" target=\"_blank\"><span style=\"color: #7f7f7f; text-decoration-color: #7f7f7f\">61</span></a>\n",
       "</pre>\n"
      ],
      "text/plain": [
       "\u001b[2;36m                   \u001b[0m\u001b[2;36m \u001b[0m\u001b[34mINFO    \u001b[0m Running cleaner: remove_empty_lines on text                           \u001b]8;id=662592;file:///tmp/ipykernel_72012/1743738010.py\u001b\\\u001b[2m1743738010.py\u001b[0m\u001b]8;;\u001b\\\u001b[2m:\u001b[0m\u001b]8;id=870057;file:///tmp/ipykernel_72012/1743738010.py#61\u001b\\\u001b[2m61\u001b[0m\u001b]8;;\u001b\\\n"
      ]
     },
     "metadata": {},
     "output_type": "display_data"
    },
    {
     "name": "stdout",
     "output_type": "stream",
     "text": [
      "                                "
     ]
    },
    {
     "data": {
      "text/html": [
       "<pre style=\"white-space:pre;overflow-x:auto;line-height:normal;font-family:Menlo,'DejaVu Sans Mono',consolas,'Courier New',monospace\"><span style=\"color: #7fbfbf; text-decoration-color: #7fbfbf\">                    </span><span style=\"color: #000080; text-decoration-color: #000080\">INFO    </span> Running cleaner: normalize_whitespace on text                         <a href=\"file:///tmp/ipykernel_72012/1743738010.py\" target=\"_blank\"><span style=\"color: #7f7f7f; text-decoration-color: #7f7f7f\">1743738010.py</span></a><span style=\"color: #7f7f7f; text-decoration-color: #7f7f7f\">:</span><a href=\"file:///tmp/ipykernel_72012/1743738010.py#61\" target=\"_blank\"><span style=\"color: #7f7f7f; text-decoration-color: #7f7f7f\">61</span></a>\n",
       "</pre>\n"
      ],
      "text/plain": [
       "\u001b[2;36m                   \u001b[0m\u001b[2;36m \u001b[0m\u001b[34mINFO    \u001b[0m Running cleaner: normalize_whitespace on text                         \u001b]8;id=748373;file:///tmp/ipykernel_72012/1743738010.py\u001b\\\u001b[2m1743738010.py\u001b[0m\u001b]8;;\u001b\\\u001b[2m:\u001b[0m\u001b]8;id=211956;file:///tmp/ipykernel_72012/1743738010.py#61\u001b\\\u001b[2m61\u001b[0m\u001b]8;;\u001b\\\n"
      ]
     },
     "metadata": {},
     "output_type": "display_data"
    },
    {
     "name": "stdout",
     "output_type": "stream",
     "text": [
      "                                   "
     ]
    },
    {
     "data": {
      "application/vnd.jupyter.widget-view+json": {
       "model_id": "f92d2b1b25c64427b1e48ea9a1395add",
       "version_major": 2,
       "version_minor": 0
      },
      "text/plain": [
       "#0:   0%|          | 0/563 [00:00<?, ?ex/s]"
      ]
     },
     "metadata": {},
     "output_type": "display_data"
    },
    {
     "name": "stdout",
     "output_type": "stream",
     "text": [
      "  "
     ]
    },
    {
     "data": {
      "application/vnd.jupyter.widget-view+json": {
       "model_id": "6712cbdb6e3249b0bec3c07cc80403bd",
       "version_major": 2,
       "version_minor": 0
      },
      "text/plain": [
       "#1:   0%|          | 0/563 [00:00<?, ?ex/s]"
      ]
     },
     "metadata": {},
     "output_type": "display_data"
    },
    {
     "data": {
      "application/vnd.jupyter.widget-view+json": {
       "model_id": "8168b8604ad441cc86c3b394ca6996de",
       "version_major": 2,
       "version_minor": 0
      },
      "text/plain": [
       "#2:   0%|          | 0/563 [00:00<?, ?ex/s]"
      ]
     },
     "metadata": {},
     "output_type": "display_data"
    },
    {
     "name": "stdout",
     "output_type": "stream",
     "text": [
      " "
     ]
    },
    {
     "data": {
      "application/vnd.jupyter.widget-view+json": {
       "model_id": "6114277951494c19924e90d7e43ea52c",
       "version_major": 2,
       "version_minor": 0
      },
      "text/plain": [
       "#3:   0%|          | 0/563 [00:00<?, ?ex/s]"
      ]
     },
     "metadata": {},
     "output_type": "display_data"
    },
    {
     "data": {
      "application/vnd.jupyter.widget-view+json": {
       "model_id": "e0bc2b8218a445d8bf9e59cad82f5fc2",
       "version_major": 2,
       "version_minor": 0
      },
      "text/plain": [
       "#4:   0%|          | 0/563 [00:00<?, ?ex/s]"
      ]
     },
     "metadata": {},
     "output_type": "display_data"
    },
    {
     "name": "stdout",
     "output_type": "stream",
     "text": [
      " "
     ]
    },
    {
     "data": {
      "application/vnd.jupyter.widget-view+json": {
       "model_id": "ee9db14c43974c3a8e9e770ed8efe39f",
       "version_major": 2,
       "version_minor": 0
      },
      "text/plain": [
       "#5:   0%|          | 0/563 [00:00<?, ?ex/s]"
      ]
     },
     "metadata": {},
     "output_type": "display_data"
    },
    {
     "name": "stdout",
     "output_type": "stream",
     "text": [
      " "
     ]
    },
    {
     "data": {
      "application/vnd.jupyter.widget-view+json": {
       "model_id": "685dff08526b41a7a47da396c07efd53",
       "version_major": 2,
       "version_minor": 0
      },
      "text/plain": [
       "#6:   0%|          | 0/563 [00:00<?, ?ex/s]"
      ]
     },
     "metadata": {},
     "output_type": "display_data"
    },
    {
     "name": "stdout",
     "output_type": "stream",
     "text": [
      "  "
     ]
    },
    {
     "data": {
      "application/vnd.jupyter.widget-view+json": {
       "model_id": "42f73a3ebb794fe2b71d03e4d6f524b3",
       "version_major": 2,
       "version_minor": 0
      },
      "text/plain": [
       "#7:   0%|          | 0/563 [00:00<?, ?ex/s]"
      ]
     },
     "metadata": {},
     "output_type": "display_data"
    },
    {
     "data": {
      "application/vnd.jupyter.widget-view+json": {
       "model_id": "9f0727874d074dd5a9f392a5410ccfa9",
       "version_major": 2,
       "version_minor": 0
      },
      "text/plain": [
       "#8:   0%|          | 0/563 [00:00<?, ?ex/s]"
      ]
     },
     "metadata": {},
     "output_type": "display_data"
    },
    {
     "name": "stdout",
     "output_type": "stream",
     "text": [
      "  "
     ]
    },
    {
     "data": {
      "application/vnd.jupyter.widget-view+json": {
       "model_id": "f3ff97de3d0f4c6997d9b0267502c57c",
       "version_major": 2,
       "version_minor": 0
      },
      "text/plain": [
       "#9:   0%|          | 0/563 [00:00<?, ?ex/s]"
      ]
     },
     "metadata": {},
     "output_type": "display_data"
    },
    {
     "data": {
      "application/vnd.jupyter.widget-view+json": {
       "model_id": "2858454d871548469b1f9ca4705c9d04",
       "version_major": 2,
       "version_minor": 0
      },
      "text/plain": [
       "#10:   0%|          | 0/563 [00:00<?, ?ex/s]"
      ]
     },
     "metadata": {},
     "output_type": "display_data"
    },
    {
     "name": "stdout",
     "output_type": "stream",
     "text": [
      " "
     ]
    },
    {
     "data": {
      "application/vnd.jupyter.widget-view+json": {
       "model_id": "3435f2c150c6480caa49dc6a2c4425ac",
       "version_major": 2,
       "version_minor": 0
      },
      "text/plain": [
       "#11:   0%|          | 0/563 [00:00<?, ?ex/s]"
      ]
     },
     "metadata": {},
     "output_type": "display_data"
    },
    {
     "name": "stdout",
     "output_type": "stream",
     "text": [
      " "
     ]
    },
    {
     "data": {
      "application/vnd.jupyter.widget-view+json": {
       "model_id": "928583f589bb4dccada79d41329892e5",
       "version_major": 2,
       "version_minor": 0
      },
      "text/plain": [
       "#12:   0%|          | 0/563 [00:00<?, ?ex/s]"
      ]
     },
     "metadata": {},
     "output_type": "display_data"
    },
    {
     "name": "stdout",
     "output_type": "stream",
     "text": [
      " "
     ]
    },
    {
     "data": {
      "application/vnd.jupyter.widget-view+json": {
       "model_id": "e6f99f97cf404ae1a5ec0438c4c19a07",
       "version_major": 2,
       "version_minor": 0
      },
      "text/plain": [
       "#13:   0%|          | 0/563 [00:00<?, ?ex/s]"
      ]
     },
     "metadata": {},
     "output_type": "display_data"
    },
    {
     "name": "stdout",
     "output_type": "stream",
     "text": [
      " "
     ]
    },
    {
     "data": {
      "application/vnd.jupyter.widget-view+json": {
       "model_id": "3707bdddad72411aaa0f376b1428ed48",
       "version_major": 2,
       "version_minor": 0
      },
      "text/plain": [
       "#14:   0%|          | 0/563 [00:00<?, ?ex/s]"
      ]
     },
     "metadata": {},
     "output_type": "display_data"
    },
    {
     "name": "stdout",
     "output_type": "stream",
     "text": [
      " "
     ]
    },
    {
     "data": {
      "application/vnd.jupyter.widget-view+json": {
       "model_id": "e8d1a90ae066480ca7ddbe5b69543d0c",
       "version_major": 2,
       "version_minor": 0
      },
      "text/plain": [
       "#15:   0%|          | 0/563 [00:00<?, ?ex/s]"
      ]
     },
     "metadata": {},
     "output_type": "display_data"
    },
    {
     "name": "stdout",
     "output_type": "stream",
     "text": [
      " "
     ]
    },
    {
     "data": {
      "application/vnd.jupyter.widget-view+json": {
       "model_id": "e8eed028d17243488989830124e58601",
       "version_major": 2,
       "version_minor": 0
      },
      "text/plain": [
       "#16:   0%|          | 0/563 [00:00<?, ?ex/s]"
      ]
     },
     "metadata": {},
     "output_type": "display_data"
    },
    {
     "name": "stdout",
     "output_type": "stream",
     "text": [
      " "
     ]
    },
    {
     "data": {
      "application/vnd.jupyter.widget-view+json": {
       "model_id": "94b09155751d4282ab9f127a3112e7ab",
       "version_major": 2,
       "version_minor": 0
      },
      "text/plain": [
       "#17:   0%|          | 0/563 [00:00<?, ?ex/s]"
      ]
     },
     "metadata": {},
     "output_type": "display_data"
    },
    {
     "name": "stdout",
     "output_type": "stream",
     "text": [
      "  "
     ]
    },
    {
     "data": {
      "application/vnd.jupyter.widget-view+json": {
       "model_id": "8b98734ae4734dd2bcc0def4bb29805a",
       "version_major": 2,
       "version_minor": 0
      },
      "text/plain": [
       "#18:   0%|          | 0/563 [00:00<?, ?ex/s]"
      ]
     },
     "metadata": {},
     "output_type": "display_data"
    },
    {
     "name": "stdout",
     "output_type": "stream",
     "text": [
      " "
     ]
    },
    {
     "data": {
      "application/vnd.jupyter.widget-view+json": {
       "model_id": "c965d39ee6ce42d186cfac4870e6deb9",
       "version_major": 2,
       "version_minor": 0
      },
      "text/plain": [
       "#19:   0%|          | 0/563 [00:00<?, ?ex/s]"
      ]
     },
     "metadata": {},
     "output_type": "display_data"
    },
    {
     "name": "stdout",
     "output_type": "stream",
     "text": [
      " "
     ]
    },
    {
     "data": {
      "application/vnd.jupyter.widget-view+json": {
       "model_id": "473616003f08422397f8809050aa8aad",
       "version_major": 2,
       "version_minor": 0
      },
      "text/plain": [
       "#20:   0%|          | 0/563 [00:00<?, ?ex/s]"
      ]
     },
     "metadata": {},
     "output_type": "display_data"
    },
    {
     "name": "stdout",
     "output_type": "stream",
     "text": [
      " "
     ]
    },
    {
     "data": {
      "application/vnd.jupyter.widget-view+json": {
       "model_id": "a2c2fd737c944867b7eeffb29b44d02e",
       "version_major": 2,
       "version_minor": 0
      },
      "text/plain": [
       "#21:   0%|          | 0/563 [00:00<?, ?ex/s]"
      ]
     },
     "metadata": {},
     "output_type": "display_data"
    },
    {
     "data": {
      "application/vnd.jupyter.widget-view+json": {
       "model_id": "9e866575503241a6bbbc0f8734f88c99",
       "version_major": 2,
       "version_minor": 0
      },
      "text/plain": [
       "#22:   0%|          | 0/563 [00:00<?, ?ex/s]"
      ]
     },
     "metadata": {},
     "output_type": "display_data"
    },
    {
     "data": {
      "application/vnd.jupyter.widget-view+json": {
       "model_id": "24aca5a744e945239aa95eb23b4ca5e2",
       "version_major": 2,
       "version_minor": 0
      },
      "text/plain": [
       "#23:   0%|          | 0/563 [00:00<?, ?ex/s]"
      ]
     },
     "metadata": {},
     "output_type": "display_data"
    },
    {
     "name": "stdout",
     "output_type": "stream",
     "text": [
      "  "
     ]
    },
    {
     "data": {
      "application/vnd.jupyter.widget-view+json": {
       "model_id": "0ff83309ce1e4a90b1658bdb5e0a26cc",
       "version_major": 2,
       "version_minor": 0
      },
      "text/plain": [
       "#26:   0%|          | 0/563 [00:00<?, ?ex/s]"
      ]
     },
     "metadata": {},
     "output_type": "display_data"
    },
    {
     "name": "stdout",
     "output_type": "stream",
     "text": [
      "  "
     ]
    },
    {
     "data": {
      "application/vnd.jupyter.widget-view+json": {
       "model_id": "82f97b00acd041c59110c8304edfc54b",
       "version_major": 2,
       "version_minor": 0
      },
      "text/plain": [
       "#27:   0%|          | 0/563 [00:00<?, ?ex/s]"
      ]
     },
     "metadata": {},
     "output_type": "display_data"
    },
    {
     "name": "stdout",
     "output_type": "stream",
     "text": [
      " "
     ]
    },
    {
     "data": {
      "application/vnd.jupyter.widget-view+json": {
       "model_id": "34a99a3794764b33bf6282bfb1476ee3",
       "version_major": 2,
       "version_minor": 0
      },
      "text/plain": [
       "#25:   0%|          | 0/563 [00:00<?, ?ex/s]"
      ]
     },
     "metadata": {},
     "output_type": "display_data"
    },
    {
     "name": "stdout",
     "output_type": "stream",
     "text": [
      " "
     ]
    },
    {
     "data": {
      "application/vnd.jupyter.widget-view+json": {
       "model_id": "2ee425964be745c6b971cdf643a82572",
       "version_major": 2,
       "version_minor": 0
      },
      "text/plain": [
       "#28:   0%|          | 0/563 [00:00<?, ?ex/s]"
      ]
     },
     "metadata": {},
     "output_type": "display_data"
    },
    {
     "data": {
      "application/vnd.jupyter.widget-view+json": {
       "model_id": "9754de2fbefb457f8a044550808600f3",
       "version_major": 2,
       "version_minor": 0
      },
      "text/plain": [
       "#29:   0%|          | 0/563 [00:00<?, ?ex/s]"
      ]
     },
     "metadata": {},
     "output_type": "display_data"
    },
    {
     "name": "stdout",
     "output_type": "stream",
     "text": [
      "  "
     ]
    },
    {
     "data": {
      "application/vnd.jupyter.widget-view+json": {
       "model_id": "c2468ca46dc844f899d738b3d77eb9d7",
       "version_major": 2,
       "version_minor": 0
      },
      "text/plain": [
       "#30:   0%|          | 0/562 [00:00<?, ?ex/s]"
      ]
     },
     "metadata": {},
     "output_type": "display_data"
    },
    {
     "data": {
      "application/vnd.jupyter.widget-view+json": {
       "model_id": "024029cfc82f41fe9c5d1ec7ddaff083",
       "version_major": 2,
       "version_minor": 0
      },
      "text/plain": [
       "#24:   0%|          | 0/563 [00:00<?, ?ex/s]"
      ]
     },
     "metadata": {},
     "output_type": "display_data"
    },
    {
     "data": {
      "application/vnd.jupyter.widget-view+json": {
       "model_id": "a2832d6e554343f28d1e747c95b2a411",
       "version_major": 2,
       "version_minor": 0
      },
      "text/plain": [
       "#31:   0%|          | 0/562 [00:00<?, ?ex/s]"
      ]
     },
     "metadata": {},
     "output_type": "display_data"
    }
   ],
   "source": [
    "# test dry run\n",
    "ds = load_dataset(\"wikitext\", \"wikitext-103-v1\", split=\"train[:1%]\")\n",
    "logger.info(f\"Original dataset size: {len(ds)}\")\n",
    "datasources = [\n",
    "    {\n",
    "        \"dataset\": ds,\n",
    "        \"columns\": [\"text\"],\n",
    "        \"filters\": [check_char_repetition, check_flagged_words],\n",
    "        \"cleaners\": [remove_empty_lines, normalize_whitespace],\n",
    "    },\n",
    "    # ...\n",
    "]\n",
    "\n",
    "pipeline = Pipeline(datasources)\n",
    "pipeline.run(dry_run=True)\n",
    "\n",
    "assert len(ds) == len(pipeline.datasources[0][\"dataset\"])\n",
    "assert \"check_char_repetition_criteria\" in pipeline.datasources[0][\"dataset\"].features\n",
    "assert \"check_flagged_words_criteria\" in pipeline.datasources[0][\"dataset\"].features"
   ]
  },
  {
   "cell_type": "code",
   "execution_count": null,
   "metadata": {},
   "outputs": [
    {
     "data": {
      "text/html": [
       "<pre style=\"white-space:pre;overflow-x:auto;line-height:normal;font-family:Menlo,'DejaVu Sans Mono',consolas,'Courier New',monospace\"><span style=\"color: #7fbfbf; text-decoration-color: #7fbfbf\">[11/30/22 01:40:08] </span><span style=\"color: #000080; text-decoration-color: #000080\">INFO    </span> Original dataset size: <span style=\"color: #008080; text-decoration-color: #008080; font-weight: bold\">18014</span>                                           <a href=\"file:///tmp/ipykernel_72012/1067455855.py\" target=\"_blank\"><span style=\"color: #7f7f7f; text-decoration-color: #7f7f7f\">1067455855.py</span></a><span style=\"color: #7f7f7f; text-decoration-color: #7f7f7f\">:</span><a href=\"file:///tmp/ipykernel_72012/1067455855.py#3\" target=\"_blank\"><span style=\"color: #7f7f7f; text-decoration-color: #7f7f7f\">3</span></a>\n",
       "</pre>\n"
      ],
      "text/plain": [
       "\u001b[2;36m[11/30/22 01:40:08]\u001b[0m\u001b[2;36m \u001b[0m\u001b[34mINFO    \u001b[0m Original dataset size: \u001b[1;36m18014\u001b[0m                                           \u001b]8;id=671960;file:///tmp/ipykernel_72012/1067455855.py\u001b\\\u001b[2m1067455855.py\u001b[0m\u001b]8;;\u001b\\\u001b[2m:\u001b[0m\u001b]8;id=749686;file:///tmp/ipykernel_72012/1067455855.py#3\u001b\\\u001b[2m3\u001b[0m\u001b]8;;\u001b\\\n"
      ]
     },
     "metadata": {},
     "output_type": "display_data"
    },
    {
     "data": {
      "text/html": [
       "<pre style=\"white-space:pre;overflow-x:auto;line-height:normal;font-family:Menlo,'DejaVu Sans Mono',consolas,'Courier New',monospace\"><span style=\"color: #7fbfbf; text-decoration-color: #7fbfbf\">                    </span><span style=\"color: #000080; text-decoration-color: #000080\">INFO    </span> Running datasource: wikitext                                          <a href=\"file:///tmp/ipykernel_72012/1743738010.py\" target=\"_blank\"><span style=\"color: #7f7f7f; text-decoration-color: #7f7f7f\">1743738010.py</span></a><span style=\"color: #7f7f7f; text-decoration-color: #7f7f7f\">:</span><a href=\"file:///tmp/ipykernel_72012/1743738010.py#25\" target=\"_blank\"><span style=\"color: #7f7f7f; text-decoration-color: #7f7f7f\">25</span></a>\n",
       "</pre>\n"
      ],
      "text/plain": [
       "\u001b[2;36m                   \u001b[0m\u001b[2;36m \u001b[0m\u001b[34mINFO    \u001b[0m Running datasource: wikitext                                          \u001b]8;id=265449;file:///tmp/ipykernel_72012/1743738010.py\u001b\\\u001b[2m1743738010.py\u001b[0m\u001b]8;;\u001b\\\u001b[2m:\u001b[0m\u001b]8;id=880494;file:///tmp/ipykernel_72012/1743738010.py#25\u001b\\\u001b[2m25\u001b[0m\u001b]8;;\u001b\\\n"
      ]
     },
     "metadata": {},
     "output_type": "display_data"
    },
    {
     "data": {
      "text/html": [
       "<pre style=\"white-space:pre;overflow-x:auto;line-height:normal;font-family:Menlo,'DejaVu Sans Mono',consolas,'Courier New',monospace\"><span style=\"color: #7fbfbf; text-decoration-color: #7fbfbf\">                    </span><span style=\"color: #000080; text-decoration-color: #000080\">INFO    </span> Running filter: check_char_repetition on text                         <a href=\"file:///tmp/ipykernel_72012/1743738010.py\" target=\"_blank\"><span style=\"color: #7f7f7f; text-decoration-color: #7f7f7f\">1743738010.py</span></a><span style=\"color: #7f7f7f; text-decoration-color: #7f7f7f\">:</span><a href=\"file:///tmp/ipykernel_72012/1743738010.py#48\" target=\"_blank\"><span style=\"color: #7f7f7f; text-decoration-color: #7f7f7f\">48</span></a>\n",
       "</pre>\n"
      ],
      "text/plain": [
       "\u001b[2;36m                   \u001b[0m\u001b[2;36m \u001b[0m\u001b[34mINFO    \u001b[0m Running filter: check_char_repetition on text                         \u001b]8;id=903622;file:///tmp/ipykernel_72012/1743738010.py\u001b\\\u001b[2m1743738010.py\u001b[0m\u001b]8;;\u001b\\\u001b[2m:\u001b[0m\u001b]8;id=201214;file:///tmp/ipykernel_72012/1743738010.py#48\u001b\\\u001b[2m48\u001b[0m\u001b]8;;\u001b\\\n"
      ]
     },
     "metadata": {},
     "output_type": "display_data"
    },
    {
     "data": {
      "text/html": [
       "<pre style=\"white-space:pre;overflow-x:auto;line-height:normal;font-family:Menlo,'DejaVu Sans Mono',consolas,'Courier New',monospace\"><span style=\"color: #7fbfbf; text-decoration-color: #7fbfbf\">                    </span><span style=\"color: #000080; text-decoration-color: #000080\">INFO    </span> Running in dry-run mode                                               <a href=\"file:///tmp/ipykernel_72012/1743738010.py\" target=\"_blank\"><span style=\"color: #7f7f7f; text-decoration-color: #7f7f7f\">1743738010.py</span></a><span style=\"color: #7f7f7f; text-decoration-color: #7f7f7f\">:</span><a href=\"file:///tmp/ipykernel_72012/1743738010.py#50\" target=\"_blank\"><span style=\"color: #7f7f7f; text-decoration-color: #7f7f7f\">50</span></a>\n",
       "</pre>\n"
      ],
      "text/plain": [
       "\u001b[2;36m                   \u001b[0m\u001b[2;36m \u001b[0m\u001b[34mINFO    \u001b[0m Running in dry-run mode                                               \u001b]8;id=194074;file:///tmp/ipykernel_72012/1743738010.py\u001b\\\u001b[2m1743738010.py\u001b[0m\u001b]8;;\u001b\\\u001b[2m:\u001b[0m\u001b]8;id=915580;file:///tmp/ipykernel_72012/1743738010.py#50\u001b\\\u001b[2m50\u001b[0m\u001b]8;;\u001b\\\n"
      ]
     },
     "metadata": {},
     "output_type": "display_data"
    },
    {
     "name": "stdout",
     "output_type": "stream",
     "text": [
      "                                "
     ]
    },
    {
     "data": {
      "text/html": [
       "<pre style=\"white-space:pre;overflow-x:auto;line-height:normal;font-family:Menlo,'DejaVu Sans Mono',consolas,'Courier New',monospace\"><span style=\"color: #7fbfbf; text-decoration-color: #7fbfbf\">[11/30/22 01:40:09] </span><span style=\"color: #000080; text-decoration-color: #000080\">INFO    </span> Running filter: check_flagged_words on text                           <a href=\"file:///tmp/ipykernel_72012/1743738010.py\" target=\"_blank\"><span style=\"color: #7f7f7f; text-decoration-color: #7f7f7f\">1743738010.py</span></a><span style=\"color: #7f7f7f; text-decoration-color: #7f7f7f\">:</span><a href=\"file:///tmp/ipykernel_72012/1743738010.py#48\" target=\"_blank\"><span style=\"color: #7f7f7f; text-decoration-color: #7f7f7f\">48</span></a>\n",
       "</pre>\n"
      ],
      "text/plain": [
       "\u001b[2;36m[11/30/22 01:40:09]\u001b[0m\u001b[2;36m \u001b[0m\u001b[34mINFO    \u001b[0m Running filter: check_flagged_words on text                           \u001b]8;id=422119;file:///tmp/ipykernel_72012/1743738010.py\u001b\\\u001b[2m1743738010.py\u001b[0m\u001b]8;;\u001b\\\u001b[2m:\u001b[0m\u001b]8;id=887209;file:///tmp/ipykernel_72012/1743738010.py#48\u001b\\\u001b[2m48\u001b[0m\u001b]8;;\u001b\\\n"
      ]
     },
     "metadata": {},
     "output_type": "display_data"
    },
    {
     "data": {
      "text/html": [
       "<pre style=\"white-space:pre;overflow-x:auto;line-height:normal;font-family:Menlo,'DejaVu Sans Mono',consolas,'Courier New',monospace\"><span style=\"color: #7fbfbf; text-decoration-color: #7fbfbf\">                    </span><span style=\"color: #000080; text-decoration-color: #000080\">INFO    </span> Running in dry-run mode                                               <a href=\"file:///tmp/ipykernel_72012/1743738010.py\" target=\"_blank\"><span style=\"color: #7f7f7f; text-decoration-color: #7f7f7f\">1743738010.py</span></a><span style=\"color: #7f7f7f; text-decoration-color: #7f7f7f\">:</span><a href=\"file:///tmp/ipykernel_72012/1743738010.py#50\" target=\"_blank\"><span style=\"color: #7f7f7f; text-decoration-color: #7f7f7f\">50</span></a>\n",
       "</pre>\n"
      ],
      "text/plain": [
       "\u001b[2;36m                   \u001b[0m\u001b[2;36m \u001b[0m\u001b[34mINFO    \u001b[0m Running in dry-run mode                                               \u001b]8;id=784488;file:///tmp/ipykernel_72012/1743738010.py\u001b\\\u001b[2m1743738010.py\u001b[0m\u001b]8;;\u001b\\\u001b[2m:\u001b[0m\u001b]8;id=466542;file:///tmp/ipykernel_72012/1743738010.py#50\u001b\\\u001b[2m50\u001b[0m\u001b]8;;\u001b\\\n"
      ]
     },
     "metadata": {},
     "output_type": "display_data"
    },
    {
     "name": "stdout",
     "output_type": "stream",
     "text": [
      "                                "
     ]
    },
    {
     "data": {
      "text/html": [
       "<pre style=\"white-space:pre;overflow-x:auto;line-height:normal;font-family:Menlo,'DejaVu Sans Mono',consolas,'Courier New',monospace\"><span style=\"color: #7fbfbf; text-decoration-color: #7fbfbf\">                    </span><span style=\"color: #000080; text-decoration-color: #000080\">INFO    </span> Running cleaner: remove_empty_lines on text                           <a href=\"file:///tmp/ipykernel_72012/1743738010.py\" target=\"_blank\"><span style=\"color: #7f7f7f; text-decoration-color: #7f7f7f\">1743738010.py</span></a><span style=\"color: #7f7f7f; text-decoration-color: #7f7f7f\">:</span><a href=\"file:///tmp/ipykernel_72012/1743738010.py#61\" target=\"_blank\"><span style=\"color: #7f7f7f; text-decoration-color: #7f7f7f\">61</span></a>\n",
       "</pre>\n"
      ],
      "text/plain": [
       "\u001b[2;36m                   \u001b[0m\u001b[2;36m \u001b[0m\u001b[34mINFO    \u001b[0m Running cleaner: remove_empty_lines on text                           \u001b]8;id=549474;file:///tmp/ipykernel_72012/1743738010.py\u001b\\\u001b[2m1743738010.py\u001b[0m\u001b]8;;\u001b\\\u001b[2m:\u001b[0m\u001b]8;id=681659;file:///tmp/ipykernel_72012/1743738010.py#61\u001b\\\u001b[2m61\u001b[0m\u001b]8;;\u001b\\\n"
      ]
     },
     "metadata": {},
     "output_type": "display_data"
    },
    {
     "name": "stdout",
     "output_type": "stream",
     "text": [
      "                                "
     ]
    },
    {
     "data": {
      "text/html": [
       "<pre style=\"white-space:pre;overflow-x:auto;line-height:normal;font-family:Menlo,'DejaVu Sans Mono',consolas,'Courier New',monospace\"><span style=\"color: #7fbfbf; text-decoration-color: #7fbfbf\">                    </span><span style=\"color: #000080; text-decoration-color: #000080\">INFO    </span> Running cleaner: normalize_whitespace on text                         <a href=\"file:///tmp/ipykernel_72012/1743738010.py\" target=\"_blank\"><span style=\"color: #7f7f7f; text-decoration-color: #7f7f7f\">1743738010.py</span></a><span style=\"color: #7f7f7f; text-decoration-color: #7f7f7f\">:</span><a href=\"file:///tmp/ipykernel_72012/1743738010.py#61\" target=\"_blank\"><span style=\"color: #7f7f7f; text-decoration-color: #7f7f7f\">61</span></a>\n",
       "</pre>\n"
      ],
      "text/plain": [
       "\u001b[2;36m                   \u001b[0m\u001b[2;36m \u001b[0m\u001b[34mINFO    \u001b[0m Running cleaner: normalize_whitespace on text                         \u001b]8;id=533973;file:///tmp/ipykernel_72012/1743738010.py\u001b\\\u001b[2m1743738010.py\u001b[0m\u001b]8;;\u001b\\\u001b[2m:\u001b[0m\u001b]8;id=269655;file:///tmp/ipykernel_72012/1743738010.py#61\u001b\\\u001b[2m61\u001b[0m\u001b]8;;\u001b\\\n"
      ]
     },
     "metadata": {},
     "output_type": "display_data"
    },
    {
     "name": "stdout",
     "output_type": "stream",
     "text": [
      "                                "
     ]
    },
    {
     "data": {
      "text/html": [
       "<pre style=\"white-space:pre;overflow-x:auto;line-height:normal;font-family:Menlo,'DejaVu Sans Mono',consolas,'Courier New',monospace\"><span style=\"color: #7fbfbf; text-decoration-color: #7fbfbf\">                    </span><span style=\"color: #000080; text-decoration-color: #000080\">INFO    </span> Running global filter: minhash_dedup                                  <a href=\"file:///tmp/ipykernel_72012/1743738010.py\" target=\"_blank\"><span style=\"color: #7f7f7f; text-decoration-color: #7f7f7f\">1743738010.py</span></a><span style=\"color: #7f7f7f; text-decoration-color: #7f7f7f\">:</span><a href=\"file:///tmp/ipykernel_72012/1743738010.py#85\" target=\"_blank\"><span style=\"color: #7f7f7f; text-decoration-color: #7f7f7f\">85</span></a>\n",
       "</pre>\n"
      ],
      "text/plain": [
       "\u001b[2;36m                   \u001b[0m\u001b[2;36m \u001b[0m\u001b[34mINFO    \u001b[0m Running global filter: minhash_dedup                                  \u001b]8;id=60890;file:///tmp/ipykernel_72012/1743738010.py\u001b\\\u001b[2m1743738010.py\u001b[0m\u001b]8;;\u001b\\\u001b[2m:\u001b[0m\u001b]8;id=689865;file:///tmp/ipykernel_72012/1743738010.py#85\u001b\\\u001b[2m85\u001b[0m\u001b]8;;\u001b\\\n"
      ]
     },
     "metadata": {},
     "output_type": "display_data"
    },
    {
     "name": "stdout",
     "output_type": "stream",
     "text": [
      "                                  "
     ]
    },
    {
     "data": {
      "application/vnd.jupyter.widget-view+json": {
       "model_id": "9f630f267ce54992bc33e1011f5c2bf9",
       "version_major": 2,
       "version_minor": 0
      },
      "text/plain": [
       "Adding index... #0:   0%|          | 0/563 [00:00<?, ?ex/s]"
      ]
     },
     "metadata": {},
     "output_type": "display_data"
    },
    {
     "name": "stdout",
     "output_type": "stream",
     "text": [
      " "
     ]
    },
    {
     "data": {
      "application/vnd.jupyter.widget-view+json": {
       "model_id": "ffd88e064e324ff38a1c86ec9044bc3a",
       "version_major": 2,
       "version_minor": 0
      },
      "text/plain": [
       "Adding index... #1:   0%|          | 0/563 [00:00<?, ?ex/s]"
      ]
     },
     "metadata": {},
     "output_type": "display_data"
    },
    {
     "data": {
      "application/vnd.jupyter.widget-view+json": {
       "model_id": "e423546fbc2148edb7df60ef7768c7b3",
       "version_major": 2,
       "version_minor": 0
      },
      "text/plain": [
       "Adding index... #2:   0%|          | 0/563 [00:00<?, ?ex/s]"
      ]
     },
     "metadata": {},
     "output_type": "display_data"
    },
    {
     "name": "stdout",
     "output_type": "stream",
     "text": [
      " "
     ]
    },
    {
     "data": {
      "application/vnd.jupyter.widget-view+json": {
       "model_id": "84772b9157184fc097c81d837fe49ded",
       "version_major": 2,
       "version_minor": 0
      },
      "text/plain": [
       "Adding index... #3:   0%|          | 0/563 [00:00<?, ?ex/s]"
      ]
     },
     "metadata": {},
     "output_type": "display_data"
    },
    {
     "name": "stdout",
     "output_type": "stream",
     "text": [
      "  "
     ]
    },
    {
     "data": {
      "application/vnd.jupyter.widget-view+json": {
       "model_id": "7a7fa1d2bf6d415bac3ac61cbd750825",
       "version_major": 2,
       "version_minor": 0
      },
      "text/plain": [
       "Adding index... #4:   0%|          | 0/563 [00:00<?, ?ex/s]"
      ]
     },
     "metadata": {},
     "output_type": "display_data"
    },
    {
     "data": {
      "application/vnd.jupyter.widget-view+json": {
       "model_id": "846f254f51e04a3b91852aacd667d425",
       "version_major": 2,
       "version_minor": 0
      },
      "text/plain": [
       "Adding index... #5:   0%|          | 0/563 [00:00<?, ?ex/s]"
      ]
     },
     "metadata": {},
     "output_type": "display_data"
    },
    {
     "name": "stdout",
     "output_type": "stream",
     "text": [
      " "
     ]
    },
    {
     "data": {
      "application/vnd.jupyter.widget-view+json": {
       "model_id": "ef9ddd4ff2f54364bb9852d73aa3c9e5",
       "version_major": 2,
       "version_minor": 0
      },
      "text/plain": [
       "Adding index... #6:   0%|          | 0/563 [00:00<?, ?ex/s]"
      ]
     },
     "metadata": {},
     "output_type": "display_data"
    },
    {
     "name": "stdout",
     "output_type": "stream",
     "text": [
      " "
     ]
    },
    {
     "data": {
      "application/vnd.jupyter.widget-view+json": {
       "model_id": "0fc024e677a0417a9dc93192e134c40a",
       "version_major": 2,
       "version_minor": 0
      },
      "text/plain": [
       "Adding index... #7:   0%|          | 0/563 [00:00<?, ?ex/s]"
      ]
     },
     "metadata": {},
     "output_type": "display_data"
    },
    {
     "name": "stdout",
     "output_type": "stream",
     "text": [
      "  "
     ]
    },
    {
     "data": {
      "application/vnd.jupyter.widget-view+json": {
       "model_id": "fdeb20dfd19c467db4dab97e75aa56eb",
       "version_major": 2,
       "version_minor": 0
      },
      "text/plain": [
       "Adding index... #8:   0%|          | 0/563 [00:00<?, ?ex/s]"
      ]
     },
     "metadata": {},
     "output_type": "display_data"
    },
    {
     "data": {
      "application/vnd.jupyter.widget-view+json": {
       "model_id": "951d994bea414d08b0a5cd1838f66583",
       "version_major": 2,
       "version_minor": 0
      },
      "text/plain": [
       "Adding index... #9:   0%|          | 0/563 [00:00<?, ?ex/s]"
      ]
     },
     "metadata": {},
     "output_type": "display_data"
    },
    {
     "name": "stdout",
     "output_type": "stream",
     "text": [
      "  "
     ]
    },
    {
     "data": {
      "application/vnd.jupyter.widget-view+json": {
       "model_id": "3938a2c17ace464c80ade6f597968f76",
       "version_major": 2,
       "version_minor": 0
      },
      "text/plain": [
       "Adding index... #10:   0%|          | 0/563 [00:00<?, ?ex/s]"
      ]
     },
     "metadata": {},
     "output_type": "display_data"
    },
    {
     "name": "stdout",
     "output_type": "stream",
     "text": [
      " "
     ]
    },
    {
     "data": {
      "application/vnd.jupyter.widget-view+json": {
       "model_id": "329a2e944aaa40c58bf1d10029e7f29a",
       "version_major": 2,
       "version_minor": 0
      },
      "text/plain": [
       "Adding index... #11:   0%|          | 0/563 [00:00<?, ?ex/s]"
      ]
     },
     "metadata": {},
     "output_type": "display_data"
    },
    {
     "data": {
      "application/vnd.jupyter.widget-view+json": {
       "model_id": "1d9718ba93f5488a8a7d44ec03bb704e",
       "version_major": 2,
       "version_minor": 0
      },
      "text/plain": [
       "Adding index... #12:   0%|          | 0/563 [00:00<?, ?ex/s]"
      ]
     },
     "metadata": {},
     "output_type": "display_data"
    },
    {
     "name": "stdout",
     "output_type": "stream",
     "text": [
      "   "
     ]
    },
    {
     "data": {
      "application/vnd.jupyter.widget-view+json": {
       "model_id": "8b854b19aa6543ccb7acb5432a074d2d",
       "version_major": 2,
       "version_minor": 0
      },
      "text/plain": [
       "Adding index... #13:   0%|          | 0/563 [00:00<?, ?ex/s]"
      ]
     },
     "metadata": {},
     "output_type": "display_data"
    },
    {
     "name": "stdout",
     "output_type": "stream",
     "text": [
      " "
     ]
    },
    {
     "data": {
      "application/vnd.jupyter.widget-view+json": {
       "model_id": "d05ac47de015431781b7f015bbd6641b",
       "version_major": 2,
       "version_minor": 0
      },
      "text/plain": [
       "Adding index... #14:   0%|          | 0/563 [00:00<?, ?ex/s]"
      ]
     },
     "metadata": {},
     "output_type": "display_data"
    },
    {
     "data": {
      "application/vnd.jupyter.widget-view+json": {
       "model_id": "14b512f158d44fb99a8ba1ec5917fa81",
       "version_major": 2,
       "version_minor": 0
      },
      "text/plain": [
       "Adding index... #15:   0%|          | 0/563 [00:00<?, ?ex/s]"
      ]
     },
     "metadata": {},
     "output_type": "display_data"
    },
    {
     "data": {
      "application/vnd.jupyter.widget-view+json": {
       "model_id": "3db07bc11a1e427b81ff3235ffbca728",
       "version_major": 2,
       "version_minor": 0
      },
      "text/plain": [
       "Adding index... #16:   0%|          | 0/563 [00:00<?, ?ex/s]"
      ]
     },
     "metadata": {},
     "output_type": "display_data"
    },
    {
     "name": "stdout",
     "output_type": "stream",
     "text": [
      "   "
     ]
    },
    {
     "data": {
      "application/vnd.jupyter.widget-view+json": {
       "model_id": "24ddf01541df48ac9ddfd8f7ce11becf",
       "version_major": 2,
       "version_minor": 0
      },
      "text/plain": [
       "Adding index... #18:   0%|          | 0/563 [00:00<?, ?ex/s]"
      ]
     },
     "metadata": {},
     "output_type": "display_data"
    },
    {
     "data": {
      "application/vnd.jupyter.widget-view+json": {
       "model_id": "f545247b89ba4f30b92f2198c7f127bf",
       "version_major": 2,
       "version_minor": 0
      },
      "text/plain": [
       "Adding index... #17:   0%|          | 0/563 [00:00<?, ?ex/s]"
      ]
     },
     "metadata": {},
     "output_type": "display_data"
    },
    {
     "name": "stdout",
     "output_type": "stream",
     "text": [
      " "
     ]
    },
    {
     "data": {
      "application/vnd.jupyter.widget-view+json": {
       "model_id": "8c84ce58648d4f37acdd53237feb8d76",
       "version_major": 2,
       "version_minor": 0
      },
      "text/plain": [
       "Adding index... #19:   0%|          | 0/563 [00:00<?, ?ex/s]"
      ]
     },
     "metadata": {},
     "output_type": "display_data"
    },
    {
     "data": {
      "application/vnd.jupyter.widget-view+json": {
       "model_id": "b65763e018fc4ce481500e0315ad44b9",
       "version_major": 2,
       "version_minor": 0
      },
      "text/plain": [
       "Adding index... #20:   0%|          | 0/563 [00:00<?, ?ex/s]"
      ]
     },
     "metadata": {},
     "output_type": "display_data"
    },
    {
     "name": "stdout",
     "output_type": "stream",
     "text": [
      "  "
     ]
    },
    {
     "data": {
      "application/vnd.jupyter.widget-view+json": {
       "model_id": "bc990bb5ad794e328e0128adf96df748",
       "version_major": 2,
       "version_minor": 0
      },
      "text/plain": [
       "Adding index... #21:   0%|          | 0/563 [00:00<?, ?ex/s]"
      ]
     },
     "metadata": {},
     "output_type": "display_data"
    },
    {
     "name": "stdout",
     "output_type": "stream",
     "text": [
      " "
     ]
    },
    {
     "data": {
      "application/vnd.jupyter.widget-view+json": {
       "model_id": "3358fd234f1848f8ad500a19208d445b",
       "version_major": 2,
       "version_minor": 0
      },
      "text/plain": [
       "Adding index... #22:   0%|          | 0/563 [00:00<?, ?ex/s]"
      ]
     },
     "metadata": {},
     "output_type": "display_data"
    },
    {
     "data": {
      "application/vnd.jupyter.widget-view+json": {
       "model_id": "34f71ed064464aa9ad711e565d7d8edf",
       "version_major": 2,
       "version_minor": 0
      },
      "text/plain": [
       "Adding index... #23:   0%|          | 0/563 [00:00<?, ?ex/s]"
      ]
     },
     "metadata": {},
     "output_type": "display_data"
    },
    {
     "name": "stdout",
     "output_type": "stream",
     "text": [
      "  "
     ]
    },
    {
     "data": {
      "application/vnd.jupyter.widget-view+json": {
       "model_id": "4188134d29a64fdb9fcd99cca814c91a",
       "version_major": 2,
       "version_minor": 0
      },
      "text/plain": [
       "Adding index... #26:   0%|          | 0/563 [00:00<?, ?ex/s]"
      ]
     },
     "metadata": {},
     "output_type": "display_data"
    },
    {
     "name": "stdout",
     "output_type": "stream",
     "text": [
      "  "
     ]
    },
    {
     "data": {
      "application/vnd.jupyter.widget-view+json": {
       "model_id": "ee3b535a95be466db6f52d96ec74ded8",
       "version_major": 2,
       "version_minor": 0
      },
      "text/plain": [
       "Adding index... #27:   0%|          | 0/563 [00:00<?, ?ex/s]"
      ]
     },
     "metadata": {},
     "output_type": "display_data"
    },
    {
     "data": {
      "application/vnd.jupyter.widget-view+json": {
       "model_id": "ea9db3dc67b1418bb485f667ff2d6b2e",
       "version_major": 2,
       "version_minor": 0
      },
      "text/plain": [
       "Adding index... #24:   0%|          | 0/563 [00:00<?, ?ex/s]"
      ]
     },
     "metadata": {},
     "output_type": "display_data"
    },
    {
     "name": "stdout",
     "output_type": "stream",
     "text": [
      "  "
     ]
    },
    {
     "data": {
      "application/vnd.jupyter.widget-view+json": {
       "model_id": "1e5e14e343f74386bf12a77b92e000de",
       "version_major": 2,
       "version_minor": 0
      },
      "text/plain": [
       "Adding index... #28:   0%|          | 0/563 [00:00<?, ?ex/s]"
      ]
     },
     "metadata": {},
     "output_type": "display_data"
    },
    {
     "name": "stdout",
     "output_type": "stream",
     "text": [
      " "
     ]
    },
    {
     "data": {
      "application/vnd.jupyter.widget-view+json": {
       "model_id": "f4ce05202ee740d2b07c13b74ca52986",
       "version_major": 2,
       "version_minor": 0
      },
      "text/plain": [
       "Adding index... #29:   0%|          | 0/563 [00:00<?, ?ex/s]"
      ]
     },
     "metadata": {},
     "output_type": "display_data"
    },
    {
     "data": {
      "application/vnd.jupyter.widget-view+json": {
       "model_id": "7581ac89bbcb476bb9829854a5d5a1ca",
       "version_major": 2,
       "version_minor": 0
      },
      "text/plain": [
       "Adding index... #25:   0%|          | 0/563 [00:00<?, ?ex/s]"
      ]
     },
     "metadata": {},
     "output_type": "display_data"
    },
    {
     "data": {
      "application/vnd.jupyter.widget-view+json": {
       "model_id": "0a24b641128247c5a3a39643284fbb1f",
       "version_major": 2,
       "version_minor": 0
      },
      "text/plain": [
       "Adding index... #30:   0%|          | 0/562 [00:00<?, ?ex/s]"
      ]
     },
     "metadata": {},
     "output_type": "display_data"
    },
    {
     "name": "stdout",
     "output_type": "stream",
     "text": [
      " "
     ]
    },
    {
     "data": {
      "application/vnd.jupyter.widget-view+json": {
       "model_id": "9da9694ea04749e983aaa02087f5ed22",
       "version_major": 2,
       "version_minor": 0
      },
      "text/plain": [
       "Adding index... #31:   0%|          | 0/562 [00:00<?, ?ex/s]"
      ]
     },
     "metadata": {},
     "output_type": "display_data"
    },
    {
     "name": "stdout",
     "output_type": "stream",
     "text": [
      "                                                        "
     ]
    },
    {
     "data": {
      "application/vnd.jupyter.widget-view+json": {
       "model_id": "c9305c26eafc4f3f853a556f895ebaa0",
       "version_major": 2,
       "version_minor": 0
      },
      "text/plain": [
       "Fingerprinting... #0:   0%|          | 0/563 [00:00<?, ?ex/s]"
      ]
     },
     "metadata": {},
     "output_type": "display_data"
    },
    {
     "data": {
      "application/vnd.jupyter.widget-view+json": {
       "model_id": "1322908871e9490b905cb5077c8cba6e",
       "version_major": 2,
       "version_minor": 0
      },
      "text/plain": [
       "Fingerprinting... #1:   0%|          | 0/563 [00:00<?, ?ex/s]"
      ]
     },
     "metadata": {},
     "output_type": "display_data"
    },
    {
     "data": {
      "application/vnd.jupyter.widget-view+json": {
       "model_id": "3b363dd46e934336922537e28e18e244",
       "version_major": 2,
       "version_minor": 0
      },
      "text/plain": [
       "Fingerprinting... #3:   0%|          | 0/563 [00:00<?, ?ex/s]"
      ]
     },
     "metadata": {},
     "output_type": "display_data"
    },
    {
     "name": "stdout",
     "output_type": "stream",
     "text": [
      " "
     ]
    },
    {
     "data": {
      "application/vnd.jupyter.widget-view+json": {
       "model_id": "28e99bac0b894d0fb41b3e1d642c9601",
       "version_major": 2,
       "version_minor": 0
      },
      "text/plain": [
       "Fingerprinting... #2:   0%|          | 0/563 [00:00<?, ?ex/s]"
      ]
     },
     "metadata": {},
     "output_type": "display_data"
    },
    {
     "name": "stdout",
     "output_type": "stream",
     "text": [
      "   "
     ]
    },
    {
     "data": {
      "application/vnd.jupyter.widget-view+json": {
       "model_id": "6753f37861de4ce6a1d14c07c249be7f",
       "version_major": 2,
       "version_minor": 0
      },
      "text/plain": [
       "Fingerprinting... #5:   0%|          | 0/563 [00:00<?, ?ex/s]"
      ]
     },
     "metadata": {},
     "output_type": "display_data"
    },
    {
     "data": {
      "application/vnd.jupyter.widget-view+json": {
       "model_id": "c15e6b17a609453a8a8a53cf06fdb5f7",
       "version_major": 2,
       "version_minor": 0
      },
      "text/plain": [
       "Fingerprinting... #4:   0%|          | 0/563 [00:00<?, ?ex/s]"
      ]
     },
     "metadata": {},
     "output_type": "display_data"
    },
    {
     "name": "stdout",
     "output_type": "stream",
     "text": [
      "  "
     ]
    },
    {
     "data": {
      "application/vnd.jupyter.widget-view+json": {
       "model_id": "077ea375e36e4c8ea7fee071f293e699",
       "version_major": 2,
       "version_minor": 0
      },
      "text/plain": [
       "Fingerprinting... #11:   0%|          | 0/563 [00:00<?, ?ex/s]"
      ]
     },
     "metadata": {},
     "output_type": "display_data"
    },
    {
     "data": {
      "application/vnd.jupyter.widget-view+json": {
       "model_id": "55084f126ccd4bb88cbd221ac8aa130a",
       "version_major": 2,
       "version_minor": 0
      },
      "text/plain": [
       "Fingerprinting... #8:   0%|          | 0/563 [00:00<?, ?ex/s]"
      ]
     },
     "metadata": {},
     "output_type": "display_data"
    },
    {
     "data": {
      "application/vnd.jupyter.widget-view+json": {
       "model_id": "db165505ec984ddd8f533df0cd12531e",
       "version_major": 2,
       "version_minor": 0
      },
      "text/plain": [
       "Fingerprinting... #6:   0%|          | 0/563 [00:00<?, ?ex/s]"
      ]
     },
     "metadata": {},
     "output_type": "display_data"
    },
    {
     "data": {
      "application/vnd.jupyter.widget-view+json": {
       "model_id": "d757bdb9925f438fae9369c21eb9cf04",
       "version_major": 2,
       "version_minor": 0
      },
      "text/plain": [
       "Fingerprinting... #14:   0%|          | 0/563 [00:00<?, ?ex/s]"
      ]
     },
     "metadata": {},
     "output_type": "display_data"
    },
    {
     "data": {
      "application/vnd.jupyter.widget-view+json": {
       "model_id": "fca2eecc724e4ee5847a968e15a91608",
       "version_major": 2,
       "version_minor": 0
      },
      "text/plain": [
       "Fingerprinting... #9:   0%|          | 0/563 [00:00<?, ?ex/s]"
      ]
     },
     "metadata": {},
     "output_type": "display_data"
    },
    {
     "data": {
      "application/vnd.jupyter.widget-view+json": {
       "model_id": "ecb875afad1e4b28b92ee61f35533970",
       "version_major": 2,
       "version_minor": 0
      },
      "text/plain": [
       "Fingerprinting... #12:   0%|          | 0/563 [00:00<?, ?ex/s]"
      ]
     },
     "metadata": {},
     "output_type": "display_data"
    },
    {
     "data": {
      "application/vnd.jupyter.widget-view+json": {
       "model_id": "a59276ee85ae4693b9350b036b52522a",
       "version_major": 2,
       "version_minor": 0
      },
      "text/plain": [
       "Fingerprinting... #10:   0%|          | 0/563 [00:00<?, ?ex/s]"
      ]
     },
     "metadata": {},
     "output_type": "display_data"
    },
    {
     "data": {
      "application/vnd.jupyter.widget-view+json": {
       "model_id": "f64bcda1e3bc40a1b1d79b55f83d29ff",
       "version_major": 2,
       "version_minor": 0
      },
      "text/plain": [
       "Fingerprinting... #15:   0%|          | 0/563 [00:00<?, ?ex/s]"
      ]
     },
     "metadata": {},
     "output_type": "display_data"
    },
    {
     "data": {
      "application/vnd.jupyter.widget-view+json": {
       "model_id": "5fd180591fd24876b47f4b545f5db7db",
       "version_major": 2,
       "version_minor": 0
      },
      "text/plain": [
       "Fingerprinting... #7:   0%|          | 0/563 [00:00<?, ?ex/s]"
      ]
     },
     "metadata": {},
     "output_type": "display_data"
    },
    {
     "name": "stdout",
     "output_type": "stream",
     "text": [
      " "
     ]
    },
    {
     "data": {
      "application/vnd.jupyter.widget-view+json": {
       "model_id": "7bfebef852594277b115ff9eec74779c",
       "version_major": 2,
       "version_minor": 0
      },
      "text/plain": [
       "Fingerprinting... #27:   0%|          | 0/563 [00:00<?, ?ex/s]"
      ]
     },
     "metadata": {},
     "output_type": "display_data"
    },
    {
     "data": {
      "application/vnd.jupyter.widget-view+json": {
       "model_id": "52f7fe0201bc4a73980455c3b30c8de8",
       "version_major": 2,
       "version_minor": 0
      },
      "text/plain": [
       "Fingerprinting... #20:   0%|          | 0/563 [00:00<?, ?ex/s]"
      ]
     },
     "metadata": {},
     "output_type": "display_data"
    },
    {
     "name": "stdout",
     "output_type": "stream",
     "text": [
      " "
     ]
    },
    {
     "data": {
      "application/vnd.jupyter.widget-view+json": {
       "model_id": "468a13cb3618419b862b2b8f46ad8815",
       "version_major": 2,
       "version_minor": 0
      },
      "text/plain": [
       "Fingerprinting... #29:   0%|          | 0/563 [00:00<?, ?ex/s]"
      ]
     },
     "metadata": {},
     "output_type": "display_data"
    },
    {
     "data": {
      "application/vnd.jupyter.widget-view+json": {
       "model_id": "acd6e96d14c84e77a9bd5414d968c1d8",
       "version_major": 2,
       "version_minor": 0
      },
      "text/plain": [
       "Fingerprinting... #28:   0%|          | 0/563 [00:00<?, ?ex/s]"
      ]
     },
     "metadata": {},
     "output_type": "display_data"
    },
    {
     "data": {
      "application/vnd.jupyter.widget-view+json": {
       "model_id": "9992adac9ad341aaacf9551c3e9631b9",
       "version_major": 2,
       "version_minor": 0
      },
      "text/plain": [
       "Fingerprinting... #13:   0%|          | 0/563 [00:00<?, ?ex/s]"
      ]
     },
     "metadata": {},
     "output_type": "display_data"
    },
    {
     "data": {
      "application/vnd.jupyter.widget-view+json": {
       "model_id": "7dca0883a29c476fa285830502fc8a86",
       "version_major": 2,
       "version_minor": 0
      },
      "text/plain": [
       "Fingerprinting... #26:   0%|          | 0/563 [00:00<?, ?ex/s]"
      ]
     },
     "metadata": {},
     "output_type": "display_data"
    },
    {
     "data": {
      "application/vnd.jupyter.widget-view+json": {
       "model_id": "a2d4369b5e964056b589363c325da5f2",
       "version_major": 2,
       "version_minor": 0
      },
      "text/plain": [
       "Fingerprinting... #19:   0%|          | 0/563 [00:00<?, ?ex/s]"
      ]
     },
     "metadata": {},
     "output_type": "display_data"
    },
    {
     "data": {
      "application/vnd.jupyter.widget-view+json": {
       "model_id": "88152fd164b84ea2b95b7d38e9499479",
       "version_major": 2,
       "version_minor": 0
      },
      "text/plain": [
       "Fingerprinting... #22:   0%|          | 0/563 [00:00<?, ?ex/s]"
      ]
     },
     "metadata": {},
     "output_type": "display_data"
    },
    {
     "data": {
      "application/vnd.jupyter.widget-view+json": {
       "model_id": "17e40a8bbf234181987181ed796fd9fd",
       "version_major": 2,
       "version_minor": 0
      },
      "text/plain": [
       "Fingerprinting... #21:   0%|          | 0/563 [00:00<?, ?ex/s]"
      ]
     },
     "metadata": {},
     "output_type": "display_data"
    },
    {
     "data": {
      "application/vnd.jupyter.widget-view+json": {
       "model_id": "33be0ab897414f3097b2b108edda1929",
       "version_major": 2,
       "version_minor": 0
      },
      "text/plain": [
       "Fingerprinting... #30:   0%|          | 0/562 [00:00<?, ?ex/s]"
      ]
     },
     "metadata": {},
     "output_type": "display_data"
    },
    {
     "data": {
      "application/vnd.jupyter.widget-view+json": {
       "model_id": "3d799d9621d54bef9a119f5695d8bb26",
       "version_major": 2,
       "version_minor": 0
      },
      "text/plain": [
       "Fingerprinting... #31:   0%|          | 0/562 [00:00<?, ?ex/s]"
      ]
     },
     "metadata": {},
     "output_type": "display_data"
    },
    {
     "data": {
      "application/vnd.jupyter.widget-view+json": {
       "model_id": "e0c55cd443cc4efd864fbe81ddcf5cea",
       "version_major": 2,
       "version_minor": 0
      },
      "text/plain": [
       "Fingerprinting... #16:   0%|          | 0/563 [00:00<?, ?ex/s]"
      ]
     },
     "metadata": {},
     "output_type": "display_data"
    },
    {
     "data": {
      "application/vnd.jupyter.widget-view+json": {
       "model_id": "2efdc99aeb9d447099a75ee6e5dfe4e0",
       "version_major": 2,
       "version_minor": 0
      },
      "text/plain": [
       "Fingerprinting... #17:   0%|          | 0/563 [00:00<?, ?ex/s]"
      ]
     },
     "metadata": {},
     "output_type": "display_data"
    },
    {
     "data": {
      "application/vnd.jupyter.widget-view+json": {
       "model_id": "a849a17a87264fb581d34c20ed93a835",
       "version_major": 2,
       "version_minor": 0
      },
      "text/plain": [
       "Fingerprinting... #18:   0%|          | 0/563 [00:00<?, ?ex/s]"
      ]
     },
     "metadata": {},
     "output_type": "display_data"
    },
    {
     "data": {
      "application/vnd.jupyter.widget-view+json": {
       "model_id": "7bb9a9ed2b1442db931c12bb69d493e0",
       "version_major": 2,
       "version_minor": 0
      },
      "text/plain": [
       "Fingerprinting... #25:   0%|          | 0/563 [00:00<?, ?ex/s]"
      ]
     },
     "metadata": {},
     "output_type": "display_data"
    },
    {
     "data": {
      "application/vnd.jupyter.widget-view+json": {
       "model_id": "e6d2a6bf63c84b12b173b4c0af4f6969",
       "version_major": 2,
       "version_minor": 0
      },
      "text/plain": [
       "Fingerprinting... #23:   0%|          | 0/563 [00:00<?, ?ex/s]"
      ]
     },
     "metadata": {},
     "output_type": "display_data"
    },
    {
     "data": {
      "application/vnd.jupyter.widget-view+json": {
       "model_id": "3676ca6db826484d9b71db743c9cb495",
       "version_major": 2,
       "version_minor": 0
      },
      "text/plain": [
       "Fingerprinting... #24:   0%|          | 0/563 [00:00<?, ?ex/s]"
      ]
     },
     "metadata": {},
     "output_type": "display_data"
    },
    {
     "data": {
      "application/vnd.jupyter.widget-view+json": {
       "model_id": "a4c4c29f690141c59b2a1668fbfc31fd",
       "version_major": 2,
       "version_minor": 0
      },
      "text/plain": [
       "Indexing signatures...:   0%|          | 0/18014 [00:00<?, ?it/s]"
      ]
     },
     "metadata": {},
     "output_type": "display_data"
    },
    {
     "name": "stdout",
     "output_type": "stream",
     "text": [
      "                                               "
     ]
    },
    {
     "data": {
      "application/vnd.jupyter.widget-view+json": {
       "model_id": "8632ecc1811b465084d9559d1e2aeff8",
       "version_major": 2,
       "version_minor": 0
      },
      "text/plain": [
       "Querying... #5:   0%|          | 0/563 [00:00<?, ?ex/s]"
      ]
     },
     "metadata": {},
     "output_type": "display_data"
    },
    {
     "data": {
      "application/vnd.jupyter.widget-view+json": {
       "model_id": "3775a4944d8641279eff37d54be3605b",
       "version_major": 2,
       "version_minor": 0
      },
      "text/plain": [
       "Querying... #1:   0%|          | 0/563 [00:00<?, ?ex/s]"
      ]
     },
     "metadata": {},
     "output_type": "display_data"
    },
    {
     "name": "stdout",
     "output_type": "stream",
     "text": [
      " "
     ]
    },
    {
     "data": {
      "application/vnd.jupyter.widget-view+json": {
       "model_id": "26d3da2fdbef4f988e31e613bcdb4f2b",
       "version_major": 2,
       "version_minor": 0
      },
      "text/plain": [
       "Querying... #2:   0%|          | 0/563 [00:00<?, ?ex/s]"
      ]
     },
     "metadata": {},
     "output_type": "display_data"
    },
    {
     "data": {
      "application/vnd.jupyter.widget-view+json": {
       "model_id": "2f32cdb954204b3687bfac3ac5d14903",
       "version_major": 2,
       "version_minor": 0
      },
      "text/plain": [
       "Querying... #8:   0%|          | 0/563 [00:00<?, ?ex/s]"
      ]
     },
     "metadata": {},
     "output_type": "display_data"
    },
    {
     "data": {
      "application/vnd.jupyter.widget-view+json": {
       "model_id": "ea8b35671a4248f798932e278db3030c",
       "version_major": 2,
       "version_minor": 0
      },
      "text/plain": [
       "Querying... #11:   0%|          | 0/563 [00:00<?, ?ex/s]"
      ]
     },
     "metadata": {},
     "output_type": "display_data"
    },
    {
     "data": {
      "application/vnd.jupyter.widget-view+json": {
       "model_id": "49ae12134d3942daa292c7d91f92f998",
       "version_major": 2,
       "version_minor": 0
      },
      "text/plain": [
       "Querying... #6:   0%|          | 0/563 [00:00<?, ?ex/s]"
      ]
     },
     "metadata": {},
     "output_type": "display_data"
    },
    {
     "data": {
      "application/vnd.jupyter.widget-view+json": {
       "model_id": "0bb344f604aa48c99bdf8de48e00d3a8",
       "version_major": 2,
       "version_minor": 0
      },
      "text/plain": [
       "Querying... #9:   0%|          | 0/563 [00:00<?, ?ex/s]"
      ]
     },
     "metadata": {},
     "output_type": "display_data"
    },
    {
     "name": "stdout",
     "output_type": "stream",
     "text": [
      "            "
     ]
    },
    {
     "data": {
      "application/vnd.jupyter.widget-view+json": {
       "model_id": "85d3b7b35f30472baebf8e4726dd926f",
       "version_major": 2,
       "version_minor": 0
      },
      "text/plain": [
       "Querying... #10:   0%|          | 0/563 [00:00<?, ?ex/s]"
      ]
     },
     "metadata": {},
     "output_type": "display_data"
    },
    {
     "name": "stdout",
     "output_type": "stream",
     "text": [
      " "
     ]
    },
    {
     "data": {
      "application/vnd.jupyter.widget-view+json": {
       "model_id": "f80328cfec904e8b8543f3e696203800",
       "version_major": 2,
       "version_minor": 0
      },
      "text/plain": [
       "Querying... #4:   0%|          | 0/563 [00:00<?, ?ex/s]"
      ]
     },
     "metadata": {},
     "output_type": "display_data"
    },
    {
     "name": "stdout",
     "output_type": "stream",
     "text": [
      " "
     ]
    },
    {
     "data": {
      "application/vnd.jupyter.widget-view+json": {
       "model_id": "ad47cad713394d2d81714895435e1ef5",
       "version_major": 2,
       "version_minor": 0
      },
      "text/plain": [
       "Querying... #13:   0%|          | 0/563 [00:00<?, ?ex/s]"
      ]
     },
     "metadata": {},
     "output_type": "display_data"
    },
    {
     "data": {
      "application/vnd.jupyter.widget-view+json": {
       "model_id": "c9b650173024426b9d54ed6937ad0ed5",
       "version_major": 2,
       "version_minor": 0
      },
      "text/plain": [
       "Querying... #15:   0%|          | 0/563 [00:00<?, ?ex/s]"
      ]
     },
     "metadata": {},
     "output_type": "display_data"
    },
    {
     "data": {
      "application/vnd.jupyter.widget-view+json": {
       "model_id": "787b69010d844baebb4d630697649aea",
       "version_major": 2,
       "version_minor": 0
      },
      "text/plain": [
       "Querying... #12:   0%|          | 0/563 [00:00<?, ?ex/s]"
      ]
     },
     "metadata": {},
     "output_type": "display_data"
    },
    {
     "data": {
      "application/vnd.jupyter.widget-view+json": {
       "model_id": "f86061bcc7f44b1492ab33409408edfd",
       "version_major": 2,
       "version_minor": 0
      },
      "text/plain": [
       "Querying... #14:   0%|          | 0/563 [00:00<?, ?ex/s]"
      ]
     },
     "metadata": {},
     "output_type": "display_data"
    },
    {
     "data": {
      "application/vnd.jupyter.widget-view+json": {
       "model_id": "84d14fea60564a729d5173acc6e0239a",
       "version_major": 2,
       "version_minor": 0
      },
      "text/plain": [
       "Querying... #7:   0%|          | 0/563 [00:00<?, ?ex/s]"
      ]
     },
     "metadata": {},
     "output_type": "display_data"
    },
    {
     "data": {
      "application/vnd.jupyter.widget-view+json": {
       "model_id": "cc158ebb6e8f4afcaf5b71fb6ff06adb",
       "version_major": 2,
       "version_minor": 0
      },
      "text/plain": [
       "Querying... #0:   0%|          | 0/563 [00:00<?, ?ex/s]"
      ]
     },
     "metadata": {},
     "output_type": "display_data"
    },
    {
     "data": {
      "application/vnd.jupyter.widget-view+json": {
       "model_id": "192fb8cc9c55439db12e7ad0fe0cfa33",
       "version_major": 2,
       "version_minor": 0
      },
      "text/plain": [
       "Querying... #3:   0%|          | 0/563 [00:00<?, ?ex/s]"
      ]
     },
     "metadata": {},
     "output_type": "display_data"
    },
    {
     "data": {
      "application/vnd.jupyter.widget-view+json": {
       "model_id": "5180a85123a24797a9c4c32aff44fdf9",
       "version_major": 2,
       "version_minor": 0
      },
      "text/plain": [
       "Querying... #30:   0%|          | 0/562 [00:00<?, ?ex/s]"
      ]
     },
     "metadata": {},
     "output_type": "display_data"
    },
    {
     "data": {
      "application/vnd.jupyter.widget-view+json": {
       "model_id": "16ddb5261fdf486794559ed945d2c10c",
       "version_major": 2,
       "version_minor": 0
      },
      "text/plain": [
       "Querying... #19:   0%|          | 0/563 [00:00<?, ?ex/s]"
      ]
     },
     "metadata": {},
     "output_type": "display_data"
    },
    {
     "data": {
      "application/vnd.jupyter.widget-view+json": {
       "model_id": "ea3db25f66634132ba0aa4c1eef4dfdd",
       "version_major": 2,
       "version_minor": 0
      },
      "text/plain": [
       "Querying... #17:   0%|          | 0/563 [00:00<?, ?ex/s]"
      ]
     },
     "metadata": {},
     "output_type": "display_data"
    },
    {
     "data": {
      "application/vnd.jupyter.widget-view+json": {
       "model_id": "c3e6edb7441f4719927f59eeba7d3af1",
       "version_major": 2,
       "version_minor": 0
      },
      "text/plain": [
       "Querying... #22:   0%|          | 0/563 [00:00<?, ?ex/s]"
      ]
     },
     "metadata": {},
     "output_type": "display_data"
    },
    {
     "data": {
      "application/vnd.jupyter.widget-view+json": {
       "model_id": "3341f3e449f3409da0f93f217e885858",
       "version_major": 2,
       "version_minor": 0
      },
      "text/plain": [
       "Querying... #23:   0%|          | 0/563 [00:00<?, ?ex/s]"
      ]
     },
     "metadata": {},
     "output_type": "display_data"
    },
    {
     "data": {
      "application/vnd.jupyter.widget-view+json": {
       "model_id": "34023e61c73047f494ca3afeebbae6dd",
       "version_major": 2,
       "version_minor": 0
      },
      "text/plain": [
       "Querying... #20:   0%|          | 0/563 [00:00<?, ?ex/s]"
      ]
     },
     "metadata": {},
     "output_type": "display_data"
    },
    {
     "data": {
      "application/vnd.jupyter.widget-view+json": {
       "model_id": "1ea23aca5d2b4cbdbbde59e1b8a739ac",
       "version_major": 2,
       "version_minor": 0
      },
      "text/plain": [
       "Querying... #29:   0%|          | 0/563 [00:00<?, ?ex/s]"
      ]
     },
     "metadata": {},
     "output_type": "display_data"
    },
    {
     "data": {
      "application/vnd.jupyter.widget-view+json": {
       "model_id": "87c72f6a2d2040c4bbf845e8e5aed2ec",
       "version_major": 2,
       "version_minor": 0
      },
      "text/plain": [
       "Querying... #27:   0%|          | 0/563 [00:00<?, ?ex/s]"
      ]
     },
     "metadata": {},
     "output_type": "display_data"
    },
    {
     "name": "stdout",
     "output_type": "stream",
     "text": [
      " "
     ]
    },
    {
     "data": {
      "application/vnd.jupyter.widget-view+json": {
       "model_id": "4f748a5761544964afde0e948af09ede",
       "version_major": 2,
       "version_minor": 0
      },
      "text/plain": [
       "Querying... #21:   0%|          | 0/563 [00:00<?, ?ex/s]"
      ]
     },
     "metadata": {},
     "output_type": "display_data"
    },
    {
     "name": "stdout",
     "output_type": "stream",
     "text": [
      " "
     ]
    },
    {
     "data": {
      "application/vnd.jupyter.widget-view+json": {
       "model_id": "26df9ecd8e3748998adb680beb6a98e1",
       "version_major": 2,
       "version_minor": 0
      },
      "text/plain": [
       "Querying... #28:   0%|          | 0/563 [00:00<?, ?ex/s]"
      ]
     },
     "metadata": {},
     "output_type": "display_data"
    },
    {
     "data": {
      "application/vnd.jupyter.widget-view+json": {
       "model_id": "085a7c97b55441208e88b3dc57f4c4bc",
       "version_major": 2,
       "version_minor": 0
      },
      "text/plain": [
       "Querying... #31:   0%|          | 0/562 [00:00<?, ?ex/s]"
      ]
     },
     "metadata": {},
     "output_type": "display_data"
    },
    {
     "data": {
      "application/vnd.jupyter.widget-view+json": {
       "model_id": "1d10878bc70740b9be75fe02ab9ab605",
       "version_major": 2,
       "version_minor": 0
      },
      "text/plain": [
       "Querying... #18:   0%|          | 0/563 [00:00<?, ?ex/s]"
      ]
     },
     "metadata": {},
     "output_type": "display_data"
    },
    {
     "data": {
      "application/vnd.jupyter.widget-view+json": {
       "model_id": "6743f8d49df24395b7a0f69dcc0114fb",
       "version_major": 2,
       "version_minor": 0
      },
      "text/plain": [
       "Querying... #16:   0%|          | 0/563 [00:00<?, ?ex/s]"
      ]
     },
     "metadata": {},
     "output_type": "display_data"
    },
    {
     "data": {
      "application/vnd.jupyter.widget-view+json": {
       "model_id": "5d18c580ea4d48eda95d1bbc91591364",
       "version_major": 2,
       "version_minor": 0
      },
      "text/plain": [
       "Querying... #26:   0%|          | 0/563 [00:00<?, ?ex/s]"
      ]
     },
     "metadata": {},
     "output_type": "display_data"
    },
    {
     "data": {
      "application/vnd.jupyter.widget-view+json": {
       "model_id": "ad3a589c01ed412dbd8e4e1e1107cd41",
       "version_major": 2,
       "version_minor": 0
      },
      "text/plain": [
       "Querying... #24:   0%|          | 0/563 [00:00<?, ?ex/s]"
      ]
     },
     "metadata": {},
     "output_type": "display_data"
    },
    {
     "data": {
      "application/vnd.jupyter.widget-view+json": {
       "model_id": "5c01705c822d4dd4a99cd31e6cf70d24",
       "version_major": 2,
       "version_minor": 0
      },
      "text/plain": [
       "Querying... #25:   0%|          | 0/563 [00:00<?, ?ex/s]"
      ]
     },
     "metadata": {},
     "output_type": "display_data"
    },
    {
     "name": "stdout",
     "output_type": "stream",
     "text": [
      "                                    "
     ]
    },
    {
     "data": {
      "application/vnd.jupyter.widget-view+json": {
       "model_id": "4b0ef2bbaea5469eaa16ffa5bd507d57",
       "version_major": 2,
       "version_minor": 0
      },
      "text/plain": [
       "Finding duplicates... #0:   0%|          | 0/1 [00:00<?, ?ba/s]"
      ]
     },
     "metadata": {},
     "output_type": "display_data"
    },
    {
     "data": {
      "application/vnd.jupyter.widget-view+json": {
       "model_id": "4f417b3774b648e29bc3ba4c0115537b",
       "version_major": 2,
       "version_minor": 0
      },
      "text/plain": [
       "Finding duplicates... #1:   0%|          | 0/1 [00:00<?, ?ba/s]"
      ]
     },
     "metadata": {},
     "output_type": "display_data"
    },
    {
     "name": "stdout",
     "output_type": "stream",
     "text": [
      " "
     ]
    },
    {
     "data": {
      "application/vnd.jupyter.widget-view+json": {
       "model_id": "843eb64c1dec4a67827ee81905eaf7f7",
       "version_major": 2,
       "version_minor": 0
      },
      "text/plain": [
       "Finding duplicates... #2:   0%|          | 0/1 [00:00<?, ?ba/s]"
      ]
     },
     "metadata": {},
     "output_type": "display_data"
    },
    {
     "data": {
      "application/vnd.jupyter.widget-view+json": {
       "model_id": "b286e38c0c604788ae0e9b76a725ab16",
       "version_major": 2,
       "version_minor": 0
      },
      "text/plain": [
       "Finding duplicates... #3:   0%|          | 0/1 [00:00<?, ?ba/s]"
      ]
     },
     "metadata": {},
     "output_type": "display_data"
    },
    {
     "name": "stdout",
     "output_type": "stream",
     "text": [
      "  "
     ]
    },
    {
     "data": {
      "application/vnd.jupyter.widget-view+json": {
       "model_id": "18ddf5f9471d47abaa7521ef4938f5f9",
       "version_major": 2,
       "version_minor": 0
      },
      "text/plain": [
       "Finding duplicates... #4:   0%|          | 0/1 [00:00<?, ?ba/s]"
      ]
     },
     "metadata": {},
     "output_type": "display_data"
    },
    {
     "name": "stdout",
     "output_type": "stream",
     "text": [
      " "
     ]
    },
    {
     "data": {
      "application/vnd.jupyter.widget-view+json": {
       "model_id": "4c461b51599d4e4697f6aebbefabd250",
       "version_major": 2,
       "version_minor": 0
      },
      "text/plain": [
       "Finding duplicates... #5:   0%|          | 0/1 [00:00<?, ?ba/s]"
      ]
     },
     "metadata": {},
     "output_type": "display_data"
    },
    {
     "name": "stdout",
     "output_type": "stream",
     "text": [
      " "
     ]
    },
    {
     "data": {
      "application/vnd.jupyter.widget-view+json": {
       "model_id": "9a75255920af4057bf5462e34a884950",
       "version_major": 2,
       "version_minor": 0
      },
      "text/plain": [
       "Finding duplicates... #6:   0%|          | 0/1 [00:00<?, ?ba/s]"
      ]
     },
     "metadata": {},
     "output_type": "display_data"
    },
    {
     "name": "stdout",
     "output_type": "stream",
     "text": [
      " "
     ]
    },
    {
     "data": {
      "application/vnd.jupyter.widget-view+json": {
       "model_id": "37b81a80e3a14ab1acb8f744af9b8686",
       "version_major": 2,
       "version_minor": 0
      },
      "text/plain": [
       "Finding duplicates... #7:   0%|          | 0/1 [00:00<?, ?ba/s]"
      ]
     },
     "metadata": {},
     "output_type": "display_data"
    },
    {
     "name": "stdout",
     "output_type": "stream",
     "text": [
      " "
     ]
    },
    {
     "data": {
      "application/vnd.jupyter.widget-view+json": {
       "model_id": "e00d9cbefe984876a408e3778019fa59",
       "version_major": 2,
       "version_minor": 0
      },
      "text/plain": [
       "Finding duplicates... #8:   0%|          | 0/1 [00:00<?, ?ba/s]"
      ]
     },
     "metadata": {},
     "output_type": "display_data"
    },
    {
     "data": {
      "application/vnd.jupyter.widget-view+json": {
       "model_id": "7350da8b48304c3f88acf149126baae3",
       "version_major": 2,
       "version_minor": 0
      },
      "text/plain": [
       "Finding duplicates... #9:   0%|          | 0/1 [00:00<?, ?ba/s]"
      ]
     },
     "metadata": {},
     "output_type": "display_data"
    },
    {
     "name": "stdout",
     "output_type": "stream",
     "text": [
      " "
     ]
    },
    {
     "data": {
      "application/vnd.jupyter.widget-view+json": {
       "model_id": "e89fd5bde2f5401d87ad3a8ab0b019ef",
       "version_major": 2,
       "version_minor": 0
      },
      "text/plain": [
       "Finding duplicates... #10:   0%|          | 0/1 [00:00<?, ?ba/s]"
      ]
     },
     "metadata": {},
     "output_type": "display_data"
    },
    {
     "name": "stdout",
     "output_type": "stream",
     "text": [
      " "
     ]
    },
    {
     "data": {
      "application/vnd.jupyter.widget-view+json": {
       "model_id": "695f5015fbe74b41bf831a69d1dd6aa2",
       "version_major": 2,
       "version_minor": 0
      },
      "text/plain": [
       "Finding duplicates... #11:   0%|          | 0/1 [00:00<?, ?ba/s]"
      ]
     },
     "metadata": {},
     "output_type": "display_data"
    },
    {
     "name": "stdout",
     "output_type": "stream",
     "text": [
      " "
     ]
    },
    {
     "data": {
      "application/vnd.jupyter.widget-view+json": {
       "model_id": "e4704f7c2dda4e61b3a85e7b20194ebc",
       "version_major": 2,
       "version_minor": 0
      },
      "text/plain": [
       "Finding duplicates... #12:   0%|          | 0/1 [00:00<?, ?ba/s]"
      ]
     },
     "metadata": {},
     "output_type": "display_data"
    },
    {
     "name": "stdout",
     "output_type": "stream",
     "text": [
      " "
     ]
    },
    {
     "data": {
      "application/vnd.jupyter.widget-view+json": {
       "model_id": "db509fbd31344648805b94f7fc10aa0b",
       "version_major": 2,
       "version_minor": 0
      },
      "text/plain": [
       "Finding duplicates... #13:   0%|          | 0/1 [00:00<?, ?ba/s]"
      ]
     },
     "metadata": {},
     "output_type": "display_data"
    },
    {
     "name": "stdout",
     "output_type": "stream",
     "text": [
      " "
     ]
    },
    {
     "data": {
      "application/vnd.jupyter.widget-view+json": {
       "model_id": "b899b4a218c648eab96502a6e27c8a27",
       "version_major": 2,
       "version_minor": 0
      },
      "text/plain": [
       "Finding duplicates... #14:   0%|          | 0/1 [00:00<?, ?ba/s]"
      ]
     },
     "metadata": {},
     "output_type": "display_data"
    },
    {
     "name": "stdout",
     "output_type": "stream",
     "text": [
      " "
     ]
    },
    {
     "data": {
      "application/vnd.jupyter.widget-view+json": {
       "model_id": "a11db29940ab4dcaa7cc7355e5f34e2b",
       "version_major": 2,
       "version_minor": 0
      },
      "text/plain": [
       "Finding duplicates... #15:   0%|          | 0/1 [00:00<?, ?ba/s]"
      ]
     },
     "metadata": {},
     "output_type": "display_data"
    },
    {
     "name": "stdout",
     "output_type": "stream",
     "text": [
      "  "
     ]
    },
    {
     "data": {
      "application/vnd.jupyter.widget-view+json": {
       "model_id": "0ca4c7692d0c49969226156bdc9dc662",
       "version_major": 2,
       "version_minor": 0
      },
      "text/plain": [
       "Finding duplicates... #16:   0%|          | 0/1 [00:00<?, ?ba/s]"
      ]
     },
     "metadata": {},
     "output_type": "display_data"
    },
    {
     "name": "stdout",
     "output_type": "stream",
     "text": [
      " "
     ]
    },
    {
     "data": {
      "application/vnd.jupyter.widget-view+json": {
       "model_id": "e6611b51ce34436ba3752515a4f006e1",
       "version_major": 2,
       "version_minor": 0
      },
      "text/plain": [
       "Finding duplicates... #17:   0%|          | 0/1 [00:00<?, ?ba/s]"
      ]
     },
     "metadata": {},
     "output_type": "display_data"
    },
    {
     "name": "stdout",
     "output_type": "stream",
     "text": [
      " "
     ]
    },
    {
     "data": {
      "application/vnd.jupyter.widget-view+json": {
       "model_id": "96d50a3068c5499b9a62e9dc8f3d31e2",
       "version_major": 2,
       "version_minor": 0
      },
      "text/plain": [
       "Finding duplicates... #18:   0%|          | 0/1 [00:00<?, ?ba/s]"
      ]
     },
     "metadata": {},
     "output_type": "display_data"
    },
    {
     "data": {
      "application/vnd.jupyter.widget-view+json": {
       "model_id": "75d6b348a5c54be4be1a33c917e2128e",
       "version_major": 2,
       "version_minor": 0
      },
      "text/plain": [
       "Finding duplicates... #19:   0%|          | 0/1 [00:00<?, ?ba/s]"
      ]
     },
     "metadata": {},
     "output_type": "display_data"
    },
    {
     "name": "stdout",
     "output_type": "stream",
     "text": [
      "  "
     ]
    },
    {
     "data": {
      "application/vnd.jupyter.widget-view+json": {
       "model_id": "6d4ef5698e2c4f6c94a8f26914f0d8b9",
       "version_major": 2,
       "version_minor": 0
      },
      "text/plain": [
       "Finding duplicates... #20:   0%|          | 0/1 [00:00<?, ?ba/s]"
      ]
     },
     "metadata": {},
     "output_type": "display_data"
    },
    {
     "data": {
      "application/vnd.jupyter.widget-view+json": {
       "model_id": "88eb2ac51f0748369d7cadf0c9d9e071",
       "version_major": 2,
       "version_minor": 0
      },
      "text/plain": [
       "Finding duplicates... #21:   0%|          | 0/1 [00:00<?, ?ba/s]"
      ]
     },
     "metadata": {},
     "output_type": "display_data"
    },
    {
     "name": "stdout",
     "output_type": "stream",
     "text": [
      " "
     ]
    },
    {
     "data": {
      "application/vnd.jupyter.widget-view+json": {
       "model_id": "027e9720775949a28bba0403ec1336f9",
       "version_major": 2,
       "version_minor": 0
      },
      "text/plain": [
       "Finding duplicates... #22:   0%|          | 0/1 [00:00<?, ?ba/s]"
      ]
     },
     "metadata": {},
     "output_type": "display_data"
    },
    {
     "name": "stdout",
     "output_type": "stream",
     "text": [
      " "
     ]
    },
    {
     "data": {
      "application/vnd.jupyter.widget-view+json": {
       "model_id": "30a02f8fd13147469d9bf7dc530f791f",
       "version_major": 2,
       "version_minor": 0
      },
      "text/plain": [
       "Finding duplicates... #23:   0%|          | 0/1 [00:00<?, ?ba/s]"
      ]
     },
     "metadata": {},
     "output_type": "display_data"
    },
    {
     "name": "stdout",
     "output_type": "stream",
     "text": [
      "     "
     ]
    },
    {
     "data": {
      "application/vnd.jupyter.widget-view+json": {
       "model_id": "f9691fe86ab6476d8a5c55d92eaf1bf9",
       "version_major": 2,
       "version_minor": 0
      },
      "text/plain": [
       "Finding duplicates... #26:   0%|          | 0/1 [00:00<?, ?ba/s]"
      ]
     },
     "metadata": {},
     "output_type": "display_data"
    },
    {
     "name": "stdout",
     "output_type": "stream",
     "text": [
      "  "
     ]
    },
    {
     "data": {
      "application/vnd.jupyter.widget-view+json": {
       "model_id": "8d9dd8ec9b0742de9090f6612ad041c3",
       "version_major": 2,
       "version_minor": 0
      },
      "text/plain": [
       "Finding duplicates... #27:   0%|          | 0/1 [00:00<?, ?ba/s]"
      ]
     },
     "metadata": {},
     "output_type": "display_data"
    },
    {
     "data": {
      "application/vnd.jupyter.widget-view+json": {
       "model_id": "f4d5e441f7c44b728692cb41520d3d01",
       "version_major": 2,
       "version_minor": 0
      },
      "text/plain": [
       "Finding duplicates... #24:   0%|          | 0/1 [00:00<?, ?ba/s]"
      ]
     },
     "metadata": {},
     "output_type": "display_data"
    },
    {
     "data": {
      "application/vnd.jupyter.widget-view+json": {
       "model_id": "fc59e71d7f6644f1bfa47f8a51423a34",
       "version_major": 2,
       "version_minor": 0
      },
      "text/plain": [
       "Finding duplicates... #25:   0%|          | 0/1 [00:00<?, ?ba/s]"
      ]
     },
     "metadata": {},
     "output_type": "display_data"
    },
    {
     "data": {
      "application/vnd.jupyter.widget-view+json": {
       "model_id": "73837e4287794b4bb8f825f6210e2328",
       "version_major": 2,
       "version_minor": 0
      },
      "text/plain": [
       "Finding duplicates... #29:   0%|          | 0/1 [00:00<?, ?ba/s]"
      ]
     },
     "metadata": {},
     "output_type": "display_data"
    },
    {
     "data": {
      "application/vnd.jupyter.widget-view+json": {
       "model_id": "e8333a307cc04802a77d4096e250478d",
       "version_major": 2,
       "version_minor": 0
      },
      "text/plain": [
       "Finding duplicates... #28:   0%|          | 0/1 [00:00<?, ?ba/s]"
      ]
     },
     "metadata": {},
     "output_type": "display_data"
    },
    {
     "data": {
      "application/vnd.jupyter.widget-view+json": {
       "model_id": "c6b4206627de4de7bec7e85d99b3d0ab",
       "version_major": 2,
       "version_minor": 0
      },
      "text/plain": [
       "Finding duplicates... #30:   0%|          | 0/1 [00:00<?, ?ba/s]"
      ]
     },
     "metadata": {},
     "output_type": "display_data"
    },
    {
     "data": {
      "application/vnd.jupyter.widget-view+json": {
       "model_id": "0d854ed591eb4d47b033094bf2b55ed9",
       "version_major": 2,
       "version_minor": 0
      },
      "text/plain": [
       "Finding duplicates... #31:   0%|          | 0/1 [00:00<?, ?ba/s]"
      ]
     },
     "metadata": {},
     "output_type": "display_data"
    },
    {
     "data": {
      "application/vnd.jupyter.widget-view+json": {
       "model_id": "259dae2956684ddba01d620db249f23e",
       "version_major": 2,
       "version_minor": 0
      },
      "text/plain": [
       "Constructing graph...:   0%|          | 0/7757 [00:00<?, ?it/s]"
      ]
     },
     "metadata": {},
     "output_type": "display_data"
    },
    {
     "data": {
      "application/vnd.jupyter.widget-view+json": {
       "model_id": "2e21c6ec92ce4da894ccceb66a2c985e",
       "version_major": 2,
       "version_minor": 0
      },
      "text/plain": [
       "Iterating over components...:   0%|          | 0/10560 [00:00<?, ?it/s]"
      ]
     },
     "metadata": {},
     "output_type": "display_data"
    },
    {
     "name": "stdout",
     "output_type": "stream",
     "text": [
      "                                                            "
     ]
    },
    {
     "data": {
      "application/vnd.jupyter.widget-view+json": {
       "model_id": "57da71202d334d9997f3b347aca862b7",
       "version_major": 2,
       "version_minor": 0
      },
      "text/plain": [
       "Labeling duplicates... #7:   0%|          | 0/563 [00:00<?, ?ex/s]"
      ]
     },
     "metadata": {},
     "output_type": "display_data"
    },
    {
     "data": {
      "application/vnd.jupyter.widget-view+json": {
       "model_id": "a0289160fc264dc9a2c47527a8c2066c",
       "version_major": 2,
       "version_minor": 0
      },
      "text/plain": [
       "Labeling duplicates... #1:   0%|          | 0/563 [00:00<?, ?ex/s]"
      ]
     },
     "metadata": {},
     "output_type": "display_data"
    },
    {
     "name": "stdout",
     "output_type": "stream",
     "text": [
      " "
     ]
    },
    {
     "data": {
      "application/vnd.jupyter.widget-view+json": {
       "model_id": "4d516058305c46bdaf72ba095b7b0ee9",
       "version_major": 2,
       "version_minor": 0
      },
      "text/plain": [
       "Labeling duplicates... #2:   0%|          | 0/563 [00:00<?, ?ex/s]"
      ]
     },
     "metadata": {},
     "output_type": "display_data"
    },
    {
     "data": {
      "application/vnd.jupyter.widget-view+json": {
       "model_id": "2312252b82b34aadbfdd1976434cca2a",
       "version_major": 2,
       "version_minor": 0
      },
      "text/plain": [
       "Labeling duplicates... #5:   0%|          | 0/563 [00:00<?, ?ex/s]"
      ]
     },
     "metadata": {},
     "output_type": "display_data"
    },
    {
     "data": {
      "application/vnd.jupyter.widget-view+json": {
       "model_id": "46900d763d324490b2ea27b321144442",
       "version_major": 2,
       "version_minor": 0
      },
      "text/plain": [
       "Labeling duplicates... #0:   0%|          | 0/563 [00:00<?, ?ex/s]"
      ]
     },
     "metadata": {},
     "output_type": "display_data"
    },
    {
     "name": "stdout",
     "output_type": "stream",
     "text": [
      " "
     ]
    },
    {
     "data": {
      "application/vnd.jupyter.widget-view+json": {
       "model_id": "fd4c2f85cb21437b8dabb91b2baca55c",
       "version_major": 2,
       "version_minor": 0
      },
      "text/plain": [
       "Labeling duplicates... #4:   0%|          | 0/563 [00:00<?, ?ex/s]"
      ]
     },
     "metadata": {},
     "output_type": "display_data"
    },
    {
     "data": {
      "application/vnd.jupyter.widget-view+json": {
       "model_id": "a630847d78da468880cd42f6f67058f0",
       "version_major": 2,
       "version_minor": 0
      },
      "text/plain": [
       "Labeling duplicates... #3:   0%|          | 0/563 [00:00<?, ?ex/s]"
      ]
     },
     "metadata": {},
     "output_type": "display_data"
    },
    {
     "data": {
      "application/vnd.jupyter.widget-view+json": {
       "model_id": "a17e8e57469245b59fed45e7ebd14f75",
       "version_major": 2,
       "version_minor": 0
      },
      "text/plain": [
       "Labeling duplicates... #11:   0%|          | 0/563 [00:00<?, ?ex/s]"
      ]
     },
     "metadata": {},
     "output_type": "display_data"
    },
    {
     "data": {
      "application/vnd.jupyter.widget-view+json": {
       "model_id": "002eca2fa2a94d7a85945c368c1c85f4",
       "version_major": 2,
       "version_minor": 0
      },
      "text/plain": [
       "Labeling duplicates... #6:   0%|          | 0/563 [00:00<?, ?ex/s]"
      ]
     },
     "metadata": {},
     "output_type": "display_data"
    },
    {
     "data": {
      "application/vnd.jupyter.widget-view+json": {
       "model_id": "a740cfafd8b244b5abde73a996dc0707",
       "version_major": 2,
       "version_minor": 0
      },
      "text/plain": [
       "Labeling duplicates... #10:   0%|          | 0/563 [00:00<?, ?ex/s]"
      ]
     },
     "metadata": {},
     "output_type": "display_data"
    },
    {
     "data": {
      "application/vnd.jupyter.widget-view+json": {
       "model_id": "988d64ffdc6c488e97dd5036e616ebce",
       "version_major": 2,
       "version_minor": 0
      },
      "text/plain": [
       "Labeling duplicates... #15:   0%|          | 0/563 [00:00<?, ?ex/s]"
      ]
     },
     "metadata": {},
     "output_type": "display_data"
    },
    {
     "data": {
      "application/vnd.jupyter.widget-view+json": {
       "model_id": "a8edd268b1ed43a0b6eaf8e1961c625b",
       "version_major": 2,
       "version_minor": 0
      },
      "text/plain": [
       "Labeling duplicates... #14:   0%|          | 0/563 [00:00<?, ?ex/s]"
      ]
     },
     "metadata": {},
     "output_type": "display_data"
    },
    {
     "data": {
      "application/vnd.jupyter.widget-view+json": {
       "model_id": "a5a7bf050a9c489594c9aced7d973a88",
       "version_major": 2,
       "version_minor": 0
      },
      "text/plain": [
       "Labeling duplicates... #13:   0%|          | 0/563 [00:00<?, ?ex/s]"
      ]
     },
     "metadata": {},
     "output_type": "display_data"
    },
    {
     "data": {
      "application/vnd.jupyter.widget-view+json": {
       "model_id": "54db4657b6c14fd1841a1de6b230259d",
       "version_major": 2,
       "version_minor": 0
      },
      "text/plain": [
       "Labeling duplicates... #21:   0%|          | 0/563 [00:00<?, ?ex/s]"
      ]
     },
     "metadata": {},
     "output_type": "display_data"
    },
    {
     "data": {
      "application/vnd.jupyter.widget-view+json": {
       "model_id": "d44dbda9bb1c4eb683c2eaf3033121f1",
       "version_major": 2,
       "version_minor": 0
      },
      "text/plain": [
       "Labeling duplicates... #19:   0%|          | 0/563 [00:00<?, ?ex/s]"
      ]
     },
     "metadata": {},
     "output_type": "display_data"
    },
    {
     "data": {
      "application/vnd.jupyter.widget-view+json": {
       "model_id": "fbd2d11890294ca8aa84bcbdcfec2c1f",
       "version_major": 2,
       "version_minor": 0
      },
      "text/plain": [
       "Labeling duplicates... #23:   0%|          | 0/563 [00:00<?, ?ex/s]"
      ]
     },
     "metadata": {},
     "output_type": "display_data"
    },
    {
     "data": {
      "application/vnd.jupyter.widget-view+json": {
       "model_id": "c5fc6f09ae39416487f6f9e0b35d4050",
       "version_major": 2,
       "version_minor": 0
      },
      "text/plain": [
       "Labeling duplicates... #17:   0%|          | 0/563 [00:00<?, ?ex/s]"
      ]
     },
     "metadata": {},
     "output_type": "display_data"
    },
    {
     "data": {
      "application/vnd.jupyter.widget-view+json": {
       "model_id": "aa84f1afc0d44e048acebdfaabd3c671",
       "version_major": 2,
       "version_minor": 0
      },
      "text/plain": [
       "Labeling duplicates... #26:   0%|          | 0/563 [00:00<?, ?ex/s]"
      ]
     },
     "metadata": {},
     "output_type": "display_data"
    },
    {
     "data": {
      "application/vnd.jupyter.widget-view+json": {
       "model_id": "113f0b37221748bf98f253453f8f23d8",
       "version_major": 2,
       "version_minor": 0
      },
      "text/plain": [
       "Labeling duplicates... #29:   0%|          | 0/563 [00:00<?, ?ex/s]"
      ]
     },
     "metadata": {},
     "output_type": "display_data"
    },
    {
     "data": {
      "application/vnd.jupyter.widget-view+json": {
       "model_id": "f61024260c994900b44daa30843f5121",
       "version_major": 2,
       "version_minor": 0
      },
      "text/plain": [
       "Labeling duplicates... #27:   0%|          | 0/563 [00:00<?, ?ex/s]"
      ]
     },
     "metadata": {},
     "output_type": "display_data"
    },
    {
     "data": {
      "application/vnd.jupyter.widget-view+json": {
       "model_id": "11e0db1410954deb83e1b69375750205",
       "version_major": 2,
       "version_minor": 0
      },
      "text/plain": [
       "Labeling duplicates... #20:   0%|          | 0/563 [00:00<?, ?ex/s]"
      ]
     },
     "metadata": {},
     "output_type": "display_data"
    },
    {
     "data": {
      "application/vnd.jupyter.widget-view+json": {
       "model_id": "396d448a2bc6498381ba0a59de64da17",
       "version_major": 2,
       "version_minor": 0
      },
      "text/plain": [
       "Labeling duplicates... #12:   0%|          | 0/563 [00:00<?, ?ex/s]"
      ]
     },
     "metadata": {},
     "output_type": "display_data"
    },
    {
     "data": {
      "application/vnd.jupyter.widget-view+json": {
       "model_id": "fc0c0a63fb324b0bb8270d9a0508232c",
       "version_major": 2,
       "version_minor": 0
      },
      "text/plain": [
       "Labeling duplicates... #18:   0%|          | 0/563 [00:00<?, ?ex/s]"
      ]
     },
     "metadata": {},
     "output_type": "display_data"
    },
    {
     "data": {
      "application/vnd.jupyter.widget-view+json": {
       "model_id": "e81a82ef46594e57a6d8e525993c0f70",
       "version_major": 2,
       "version_minor": 0
      },
      "text/plain": [
       "Labeling duplicates... #30:   0%|          | 0/562 [00:00<?, ?ex/s]"
      ]
     },
     "metadata": {},
     "output_type": "display_data"
    },
    {
     "data": {
      "application/vnd.jupyter.widget-view+json": {
       "model_id": "133759ff113442589000e1a528269368",
       "version_major": 2,
       "version_minor": 0
      },
      "text/plain": [
       "Labeling duplicates... #8:   0%|          | 0/563 [00:00<?, ?ex/s]"
      ]
     },
     "metadata": {},
     "output_type": "display_data"
    },
    {
     "name": "stdout",
     "output_type": "stream",
     "text": [
      "  "
     ]
    },
    {
     "data": {
      "application/vnd.jupyter.widget-view+json": {
       "model_id": "49daa6c68a694942933d6d4803d773e2",
       "version_major": 2,
       "version_minor": 0
      },
      "text/plain": [
       "Labeling duplicates... #16:   0%|          | 0/563 [00:00<?, ?ex/s]"
      ]
     },
     "metadata": {},
     "output_type": "display_data"
    },
    {
     "data": {
      "application/vnd.jupyter.widget-view+json": {
       "model_id": "dd2394955dde4756ad5f08d4793a5d6f",
       "version_major": 2,
       "version_minor": 0
      },
      "text/plain": [
       "Labeling duplicates... #28:   0%|          | 0/563 [00:00<?, ?ex/s]"
      ]
     },
     "metadata": {},
     "output_type": "display_data"
    },
    {
     "data": {
      "application/vnd.jupyter.widget-view+json": {
       "model_id": "0d9f4f7c02dd4acaa28ccff7a3eb8af8",
       "version_major": 2,
       "version_minor": 0
      },
      "text/plain": [
       "Labeling duplicates... #9:   0%|          | 0/563 [00:00<?, ?ex/s]"
      ]
     },
     "metadata": {},
     "output_type": "display_data"
    },
    {
     "data": {
      "application/vnd.jupyter.widget-view+json": {
       "model_id": "8924b9256a0a4532badbd3275304498a",
       "version_major": 2,
       "version_minor": 0
      },
      "text/plain": [
       "Labeling duplicates... #22:   0%|          | 0/563 [00:00<?, ?ex/s]"
      ]
     },
     "metadata": {},
     "output_type": "display_data"
    },
    {
     "data": {
      "application/vnd.jupyter.widget-view+json": {
       "model_id": "82d849028670438785ef87e71b698dcc",
       "version_major": 2,
       "version_minor": 0
      },
      "text/plain": [
       "Labeling duplicates... #31:   0%|          | 0/562 [00:00<?, ?ex/s]"
      ]
     },
     "metadata": {},
     "output_type": "display_data"
    },
    {
     "data": {
      "application/vnd.jupyter.widget-view+json": {
       "model_id": "edcc453610894c4fb2b08c037fa3a678",
       "version_major": 2,
       "version_minor": 0
      },
      "text/plain": [
       "Labeling duplicates... #24:   0%|          | 0/563 [00:00<?, ?ex/s]"
      ]
     },
     "metadata": {},
     "output_type": "display_data"
    },
    {
     "data": {
      "application/vnd.jupyter.widget-view+json": {
       "model_id": "83eb2368ac8f4c8ba4fa3a816b78a8ac",
       "version_major": 2,
       "version_minor": 0
      },
      "text/plain": [
       "Labeling duplicates... #25:   0%|          | 0/563 [00:00<?, ?ex/s]"
      ]
     },
     "metadata": {},
     "output_type": "display_data"
    },
    {
     "name": "stdout",
     "output_type": "stream",
     "text": [
      "                                   "
     ]
    },
    {
     "data": {
      "application/vnd.jupyter.widget-view+json": {
       "model_id": "c391c1b05adf410a9a5ed219b185a0ce",
       "version_major": 2,
       "version_minor": 0
      },
      "text/plain": [
       "#0:   0%|          | 0/1 [00:00<?, ?ba/s]"
      ]
     },
     "metadata": {},
     "output_type": "display_data"
    },
    {
     "data": {
      "application/vnd.jupyter.widget-view+json": {
       "model_id": "352919a4dff145d6be75c58d06b58b7d",
       "version_major": 2,
       "version_minor": 0
      },
      "text/plain": [
       "#1:   0%|          | 0/1 [00:00<?, ?ba/s]"
      ]
     },
     "metadata": {},
     "output_type": "display_data"
    },
    {
     "name": "stdout",
     "output_type": "stream",
     "text": [
      "  "
     ]
    },
    {
     "data": {
      "application/vnd.jupyter.widget-view+json": {
       "model_id": "cc011fd1bc2c45b1a2cef9082b89bd7e",
       "version_major": 2,
       "version_minor": 0
      },
      "text/plain": [
       "#2:   0%|          | 0/1 [00:00<?, ?ba/s]"
      ]
     },
     "metadata": {},
     "output_type": "display_data"
    },
    {
     "data": {
      "application/vnd.jupyter.widget-view+json": {
       "model_id": "bf29d06d5834415eb6538c216d6a4fdf",
       "version_major": 2,
       "version_minor": 0
      },
      "text/plain": [
       "#3:   0%|          | 0/1 [00:00<?, ?ba/s]"
      ]
     },
     "metadata": {},
     "output_type": "display_data"
    },
    {
     "name": "stdout",
     "output_type": "stream",
     "text": [
      " "
     ]
    },
    {
     "data": {
      "application/vnd.jupyter.widget-view+json": {
       "model_id": "df403272afa74a12b4e4cb2e3e89c4c5",
       "version_major": 2,
       "version_minor": 0
      },
      "text/plain": [
       "#4:   0%|          | 0/1 [00:00<?, ?ba/s]"
      ]
     },
     "metadata": {},
     "output_type": "display_data"
    },
    {
     "name": "stdout",
     "output_type": "stream",
     "text": [
      " "
     ]
    },
    {
     "data": {
      "application/vnd.jupyter.widget-view+json": {
       "model_id": "5a7015e50a44468091bd666a8b6c0cce",
       "version_major": 2,
       "version_minor": 0
      },
      "text/plain": [
       "#5:   0%|          | 0/1 [00:00<?, ?ba/s]"
      ]
     },
     "metadata": {},
     "output_type": "display_data"
    },
    {
     "name": "stdout",
     "output_type": "stream",
     "text": [
      "  "
     ]
    },
    {
     "data": {
      "application/vnd.jupyter.widget-view+json": {
       "model_id": "31314bc996224dba8e13cf264c08cd72",
       "version_major": 2,
       "version_minor": 0
      },
      "text/plain": [
       "#6:   0%|          | 0/1 [00:00<?, ?ba/s]"
      ]
     },
     "metadata": {},
     "output_type": "display_data"
    },
    {
     "data": {
      "application/vnd.jupyter.widget-view+json": {
       "model_id": "a05859faa4fd4bc0ac734f2917bdeedc",
       "version_major": 2,
       "version_minor": 0
      },
      "text/plain": [
       "#7:   0%|          | 0/1 [00:00<?, ?ba/s]"
      ]
     },
     "metadata": {},
     "output_type": "display_data"
    },
    {
     "name": "stdout",
     "output_type": "stream",
     "text": [
      " "
     ]
    },
    {
     "data": {
      "application/vnd.jupyter.widget-view+json": {
       "model_id": "a62c7fbbbbd144dba61cf31fa4561763",
       "version_major": 2,
       "version_minor": 0
      },
      "text/plain": [
       "#8:   0%|          | 0/1 [00:00<?, ?ba/s]"
      ]
     },
     "metadata": {},
     "output_type": "display_data"
    },
    {
     "data": {
      "application/vnd.jupyter.widget-view+json": {
       "model_id": "055ce41569af421690a8b35b50cd2cfe",
       "version_major": 2,
       "version_minor": 0
      },
      "text/plain": [
       "#9:   0%|          | 0/1 [00:00<?, ?ba/s]"
      ]
     },
     "metadata": {},
     "output_type": "display_data"
    },
    {
     "name": "stdout",
     "output_type": "stream",
     "text": [
      " "
     ]
    },
    {
     "data": {
      "application/vnd.jupyter.widget-view+json": {
       "model_id": "e82fc13387414792adf0934cfba2490f",
       "version_major": 2,
       "version_minor": 0
      },
      "text/plain": [
       "#10:   0%|          | 0/1 [00:00<?, ?ba/s]"
      ]
     },
     "metadata": {},
     "output_type": "display_data"
    },
    {
     "name": "stdout",
     "output_type": "stream",
     "text": [
      "  "
     ]
    },
    {
     "data": {
      "application/vnd.jupyter.widget-view+json": {
       "model_id": "bbad840720064e15b207c161de2d0db1",
       "version_major": 2,
       "version_minor": 0
      },
      "text/plain": [
       "#11:   0%|          | 0/1 [00:00<?, ?ba/s]"
      ]
     },
     "metadata": {},
     "output_type": "display_data"
    },
    {
     "name": "stdout",
     "output_type": "stream",
     "text": [
      " "
     ]
    },
    {
     "data": {
      "application/vnd.jupyter.widget-view+json": {
       "model_id": "0149b3e61bac4f1e97c60dfbe5fb9f5b",
       "version_major": 2,
       "version_minor": 0
      },
      "text/plain": [
       "#12:   0%|          | 0/1 [00:00<?, ?ba/s]"
      ]
     },
     "metadata": {},
     "output_type": "display_data"
    },
    {
     "name": "stdout",
     "output_type": "stream",
     "text": [
      " "
     ]
    },
    {
     "data": {
      "application/vnd.jupyter.widget-view+json": {
       "model_id": "c815e2f120af44579418c0681e5fded9",
       "version_major": 2,
       "version_minor": 0
      },
      "text/plain": [
       "#13:   0%|          | 0/1 [00:00<?, ?ba/s]"
      ]
     },
     "metadata": {},
     "output_type": "display_data"
    },
    {
     "name": "stdout",
     "output_type": "stream",
     "text": [
      " "
     ]
    },
    {
     "data": {
      "application/vnd.jupyter.widget-view+json": {
       "model_id": "34ad84dd173540eda7aadd699e001a13",
       "version_major": 2,
       "version_minor": 0
      },
      "text/plain": [
       "#14:   0%|          | 0/1 [00:00<?, ?ba/s]"
      ]
     },
     "metadata": {},
     "output_type": "display_data"
    },
    {
     "name": "stdout",
     "output_type": "stream",
     "text": [
      " "
     ]
    },
    {
     "data": {
      "application/vnd.jupyter.widget-view+json": {
       "model_id": "ff269516c4b04ddfbc8369a691dbd1bb",
       "version_major": 2,
       "version_minor": 0
      },
      "text/plain": [
       "#15:   0%|          | 0/1 [00:00<?, ?ba/s]"
      ]
     },
     "metadata": {},
     "output_type": "display_data"
    },
    {
     "name": "stdout",
     "output_type": "stream",
     "text": [
      " "
     ]
    },
    {
     "data": {
      "application/vnd.jupyter.widget-view+json": {
       "model_id": "643b1866e4a04c4f8749ec3d7709e1c6",
       "version_major": 2,
       "version_minor": 0
      },
      "text/plain": [
       "#16:   0%|          | 0/1 [00:00<?, ?ba/s]"
      ]
     },
     "metadata": {},
     "output_type": "display_data"
    },
    {
     "name": "stdout",
     "output_type": "stream",
     "text": [
      " "
     ]
    },
    {
     "data": {
      "application/vnd.jupyter.widget-view+json": {
       "model_id": "9488a356db4b44c2bc841288863aebd6",
       "version_major": 2,
       "version_minor": 0
      },
      "text/plain": [
       "#17:   0%|          | 0/1 [00:00<?, ?ba/s]"
      ]
     },
     "metadata": {},
     "output_type": "display_data"
    },
    {
     "name": "stdout",
     "output_type": "stream",
     "text": [
      " "
     ]
    },
    {
     "data": {
      "application/vnd.jupyter.widget-view+json": {
       "model_id": "76feb5375903423c8aee0d5ebf236b49",
       "version_major": 2,
       "version_minor": 0
      },
      "text/plain": [
       "#18:   0%|          | 0/1 [00:00<?, ?ba/s]"
      ]
     },
     "metadata": {},
     "output_type": "display_data"
    },
    {
     "name": "stdout",
     "output_type": "stream",
     "text": [
      " "
     ]
    },
    {
     "data": {
      "application/vnd.jupyter.widget-view+json": {
       "model_id": "b0f82c662cf64fe5a47e0ff3e7d96133",
       "version_major": 2,
       "version_minor": 0
      },
      "text/plain": [
       "#19:   0%|          | 0/1 [00:00<?, ?ba/s]"
      ]
     },
     "metadata": {},
     "output_type": "display_data"
    },
    {
     "name": "stdout",
     "output_type": "stream",
     "text": [
      " "
     ]
    },
    {
     "data": {
      "application/vnd.jupyter.widget-view+json": {
       "model_id": "d4f5d7deedb2429f90800e7960b95517",
       "version_major": 2,
       "version_minor": 0
      },
      "text/plain": [
       "#20:   0%|          | 0/1 [00:00<?, ?ba/s]"
      ]
     },
     "metadata": {},
     "output_type": "display_data"
    },
    {
     "name": "stdout",
     "output_type": "stream",
     "text": [
      " "
     ]
    },
    {
     "data": {
      "application/vnd.jupyter.widget-view+json": {
       "model_id": "62b9e8fa480d457c9e1db939d63e1a93",
       "version_major": 2,
       "version_minor": 0
      },
      "text/plain": [
       "#21:   0%|          | 0/1 [00:00<?, ?ba/s]"
      ]
     },
     "metadata": {},
     "output_type": "display_data"
    },
    {
     "name": "stdout",
     "output_type": "stream",
     "text": [
      " "
     ]
    },
    {
     "data": {
      "application/vnd.jupyter.widget-view+json": {
       "model_id": "2516647b38634443a86cbde132298c74",
       "version_major": 2,
       "version_minor": 0
      },
      "text/plain": [
       "#22:   0%|          | 0/1 [00:00<?, ?ba/s]"
      ]
     },
     "metadata": {},
     "output_type": "display_data"
    },
    {
     "data": {
      "application/vnd.jupyter.widget-view+json": {
       "model_id": "f38d7295f8ee4cc8936dd6b839516cbd",
       "version_major": 2,
       "version_minor": 0
      },
      "text/plain": [
       "#23:   0%|          | 0/1 [00:00<?, ?ba/s]"
      ]
     },
     "metadata": {},
     "output_type": "display_data"
    },
    {
     "name": "stdout",
     "output_type": "stream",
     "text": [
      "  "
     ]
    },
    {
     "data": {
      "application/vnd.jupyter.widget-view+json": {
       "model_id": "3a73d0777b9743f5ac336fef3bae5e1d",
       "version_major": 2,
       "version_minor": 0
      },
      "text/plain": [
       "#26:   0%|          | 0/1 [00:00<?, ?ba/s]"
      ]
     },
     "metadata": {},
     "output_type": "display_data"
    },
    {
     "name": "stdout",
     "output_type": "stream",
     "text": [
      "  "
     ]
    },
    {
     "data": {
      "application/vnd.jupyter.widget-view+json": {
       "model_id": "b4fbeabea2b14c50a07d3dce6975efcf",
       "version_major": 2,
       "version_minor": 0
      },
      "text/plain": [
       "#27:   0%|          | 0/1 [00:00<?, ?ba/s]"
      ]
     },
     "metadata": {},
     "output_type": "display_data"
    },
    {
     "name": "stdout",
     "output_type": "stream",
     "text": [
      "  "
     ]
    },
    {
     "data": {
      "application/vnd.jupyter.widget-view+json": {
       "model_id": "dda96350cf994c53aeed2dfe9a39ded1",
       "version_major": 2,
       "version_minor": 0
      },
      "text/plain": [
       "#28:   0%|          | 0/1 [00:00<?, ?ba/s]"
      ]
     },
     "metadata": {},
     "output_type": "display_data"
    },
    {
     "name": "stdout",
     "output_type": "stream",
     "text": [
      " "
     ]
    },
    {
     "data": {
      "application/vnd.jupyter.widget-view+json": {
       "model_id": "d807f0040b5540eb924440e3ab219307",
       "version_major": 2,
       "version_minor": 0
      },
      "text/plain": [
       "#29:   0%|          | 0/1 [00:00<?, ?ba/s]"
      ]
     },
     "metadata": {},
     "output_type": "display_data"
    },
    {
     "data": {
      "application/vnd.jupyter.widget-view+json": {
       "model_id": "2730a9d23acc45e49c146a059ff014cb",
       "version_major": 2,
       "version_minor": 0
      },
      "text/plain": [
       "#24:   0%|          | 0/1 [00:00<?, ?ba/s]"
      ]
     },
     "metadata": {},
     "output_type": "display_data"
    },
    {
     "name": "stdout",
     "output_type": "stream",
     "text": [
      " "
     ]
    },
    {
     "data": {
      "application/vnd.jupyter.widget-view+json": {
       "model_id": "3af5c87f8da04828948d19c7f230f186",
       "version_major": 2,
       "version_minor": 0
      },
      "text/plain": [
       "#25:   0%|          | 0/1 [00:00<?, ?ba/s]"
      ]
     },
     "metadata": {},
     "output_type": "display_data"
    },
    {
     "data": {
      "application/vnd.jupyter.widget-view+json": {
       "model_id": "f4e115e3c4b14f6fac43006f92666b8c",
       "version_major": 2,
       "version_minor": 0
      },
      "text/plain": [
       "#30:   0%|          | 0/1 [00:00<?, ?ba/s]"
      ]
     },
     "metadata": {},
     "output_type": "display_data"
    },
    {
     "data": {
      "application/vnd.jupyter.widget-view+json": {
       "model_id": "b2cf94ed87cd4aea8228b0d5481aaa7d",
       "version_major": 2,
       "version_minor": 0
      },
      "text/plain": [
       "#31:   0%|          | 0/1 [00:00<?, ?ba/s]"
      ]
     },
     "metadata": {},
     "output_type": "display_data"
    }
   ],
   "source": [
    "# test dry run\n",
    "ds = load_dataset(\"wikitext\", \"wikitext-103-v1\", split=\"train[:1%]\")\n",
    "logger.info(f\"Original dataset size: {len(ds)}\")\n",
    "datasources = [\n",
    "    {\n",
    "        \"dataset\": ds,\n",
    "        \"columns\": [\"text\"],\n",
    "        \"filters\": [check_char_repetition, check_flagged_words],\n",
    "        \"cleaners\": [remove_empty_lines, normalize_whitespace],\n",
    "    },\n",
    "    # ...\n",
    "]\n",
    "\n",
    "pipeline = Pipeline(datasources)\n",
    "pipeline.run(dry_run=True, global_filters=[minhash_dedup])\n",
    "\n",
    "assert len(ds) == len(pipeline.datasources[0][\"dataset\"])\n",
    "assert \"check_char_repetition_criteria\" in pipeline.datasources[0][\"dataset\"].features\n",
    "assert \"check_flagged_words_criteria\" in pipeline.datasources[0][\"dataset\"].features\n",
    "assert \"duplicate\" in pipeline.datasources[0][\"dataset\"].features\n",
    "assert \"meta_data\" in pipeline.datasources[0][\"dataset\"].features\n",
    "assert \"__id__\" in pipeline.datasources[0][\"dataset\"].features"
   ]
  },
  {
   "cell_type": "code",
   "execution_count": null,
   "metadata": {},
   "outputs": [
    {
     "data": {
      "text/html": [
       "<pre style=\"white-space:pre;overflow-x:auto;line-height:normal;font-family:Menlo,'DejaVu Sans Mono',consolas,'Courier New',monospace\"><span style=\"color: #7fbfbf; text-decoration-color: #7fbfbf\">[11/30/22 01:41:00] </span><span style=\"color: #000080; text-decoration-color: #000080\">INFO    </span> Original dataset size: <span style=\"color: #008080; text-decoration-color: #008080; font-weight: bold\">18014</span>                                            <a href=\"file:///tmp/ipykernel_72012/131731803.py\" target=\"_blank\"><span style=\"color: #7f7f7f; text-decoration-color: #7f7f7f\">131731803.py</span></a><span style=\"color: #7f7f7f; text-decoration-color: #7f7f7f\">:</span><a href=\"file:///tmp/ipykernel_72012/131731803.py#2\" target=\"_blank\"><span style=\"color: #7f7f7f; text-decoration-color: #7f7f7f\">2</span></a>\n",
       "</pre>\n"
      ],
      "text/plain": [
       "\u001b[2;36m[11/30/22 01:41:00]\u001b[0m\u001b[2;36m \u001b[0m\u001b[34mINFO    \u001b[0m Original dataset size: \u001b[1;36m18014\u001b[0m                                            \u001b]8;id=52930;file:///tmp/ipykernel_72012/131731803.py\u001b\\\u001b[2m131731803.py\u001b[0m\u001b]8;;\u001b\\\u001b[2m:\u001b[0m\u001b]8;id=554163;file:///tmp/ipykernel_72012/131731803.py#2\u001b\\\u001b[2m2\u001b[0m\u001b]8;;\u001b\\\n"
      ]
     },
     "metadata": {},
     "output_type": "display_data"
    },
    {
     "data": {
      "text/html": [
       "<pre style=\"white-space:pre;overflow-x:auto;line-height:normal;font-family:Menlo,'DejaVu Sans Mono',consolas,'Courier New',monospace\"><span style=\"color: #7fbfbf; text-decoration-color: #7fbfbf\">                    </span><span style=\"color: #000080; text-decoration-color: #000080\">INFO    </span> Running datasource: wikitext                                          <a href=\"file:///tmp/ipykernel_72012/1743738010.py\" target=\"_blank\"><span style=\"color: #7f7f7f; text-decoration-color: #7f7f7f\">1743738010.py</span></a><span style=\"color: #7f7f7f; text-decoration-color: #7f7f7f\">:</span><a href=\"file:///tmp/ipykernel_72012/1743738010.py#25\" target=\"_blank\"><span style=\"color: #7f7f7f; text-decoration-color: #7f7f7f\">25</span></a>\n",
       "</pre>\n"
      ],
      "text/plain": [
       "\u001b[2;36m                   \u001b[0m\u001b[2;36m \u001b[0m\u001b[34mINFO    \u001b[0m Running datasource: wikitext                                          \u001b]8;id=960827;file:///tmp/ipykernel_72012/1743738010.py\u001b\\\u001b[2m1743738010.py\u001b[0m\u001b]8;;\u001b\\\u001b[2m:\u001b[0m\u001b]8;id=279094;file:///tmp/ipykernel_72012/1743738010.py#25\u001b\\\u001b[2m25\u001b[0m\u001b]8;;\u001b\\\n"
      ]
     },
     "metadata": {},
     "output_type": "display_data"
    },
    {
     "data": {
      "text/html": [
       "<pre style=\"white-space:pre;overflow-x:auto;line-height:normal;font-family:Menlo,'DejaVu Sans Mono',consolas,'Courier New',monospace\"><span style=\"color: #7fbfbf; text-decoration-color: #7fbfbf\">                    </span><span style=\"color: #000080; text-decoration-color: #000080\">INFO    </span> Running filter: check_char_repetition on text                         <a href=\"file:///tmp/ipykernel_72012/1743738010.py\" target=\"_blank\"><span style=\"color: #7f7f7f; text-decoration-color: #7f7f7f\">1743738010.py</span></a><span style=\"color: #7f7f7f; text-decoration-color: #7f7f7f\">:</span><a href=\"file:///tmp/ipykernel_72012/1743738010.py#48\" target=\"_blank\"><span style=\"color: #7f7f7f; text-decoration-color: #7f7f7f\">48</span></a>\n",
       "</pre>\n"
      ],
      "text/plain": [
       "\u001b[2;36m                   \u001b[0m\u001b[2;36m \u001b[0m\u001b[34mINFO    \u001b[0m Running filter: check_char_repetition on text                         \u001b]8;id=769038;file:///tmp/ipykernel_72012/1743738010.py\u001b\\\u001b[2m1743738010.py\u001b[0m\u001b]8;;\u001b\\\u001b[2m:\u001b[0m\u001b]8;id=515734;file:///tmp/ipykernel_72012/1743738010.py#48\u001b\\\u001b[2m48\u001b[0m\u001b]8;;\u001b\\\n"
      ]
     },
     "metadata": {},
     "output_type": "display_data"
    },
    {
     "name": "stdout",
     "output_type": "stream",
     "text": [
      "                                "
     ]
    },
    {
     "data": {
      "text/html": [
       "<pre style=\"white-space:pre;overflow-x:auto;line-height:normal;font-family:Menlo,'DejaVu Sans Mono',consolas,'Courier New',monospace\"><span style=\"color: #7fbfbf; text-decoration-color: #7fbfbf\">                    </span><span style=\"color: #000080; text-decoration-color: #000080\">INFO    </span> Running filter: check_flagged_words on text                           <a href=\"file:///tmp/ipykernel_72012/1743738010.py\" target=\"_blank\"><span style=\"color: #7f7f7f; text-decoration-color: #7f7f7f\">1743738010.py</span></a><span style=\"color: #7f7f7f; text-decoration-color: #7f7f7f\">:</span><a href=\"file:///tmp/ipykernel_72012/1743738010.py#48\" target=\"_blank\"><span style=\"color: #7f7f7f; text-decoration-color: #7f7f7f\">48</span></a>\n",
       "</pre>\n"
      ],
      "text/plain": [
       "\u001b[2;36m                   \u001b[0m\u001b[2;36m \u001b[0m\u001b[34mINFO    \u001b[0m Running filter: check_flagged_words on text                           \u001b]8;id=176487;file:///tmp/ipykernel_72012/1743738010.py\u001b\\\u001b[2m1743738010.py\u001b[0m\u001b]8;;\u001b\\\u001b[2m:\u001b[0m\u001b]8;id=360949;file:///tmp/ipykernel_72012/1743738010.py#48\u001b\\\u001b[2m48\u001b[0m\u001b]8;;\u001b\\\n"
      ]
     },
     "metadata": {},
     "output_type": "display_data"
    },
    {
     "name": "stdout",
     "output_type": "stream",
     "text": [
      "                                "
     ]
    },
    {
     "data": {
      "text/html": [
       "<pre style=\"white-space:pre;overflow-x:auto;line-height:normal;font-family:Menlo,'DejaVu Sans Mono',consolas,'Courier New',monospace\"><span style=\"color: #7fbfbf; text-decoration-color: #7fbfbf\">                    </span><span style=\"color: #000080; text-decoration-color: #000080\">INFO    </span> Running cleaner: remove_empty_lines on text                           <a href=\"file:///tmp/ipykernel_72012/1743738010.py\" target=\"_blank\"><span style=\"color: #7f7f7f; text-decoration-color: #7f7f7f\">1743738010.py</span></a><span style=\"color: #7f7f7f; text-decoration-color: #7f7f7f\">:</span><a href=\"file:///tmp/ipykernel_72012/1743738010.py#61\" target=\"_blank\"><span style=\"color: #7f7f7f; text-decoration-color: #7f7f7f\">61</span></a>\n",
       "</pre>\n"
      ],
      "text/plain": [
       "\u001b[2;36m                   \u001b[0m\u001b[2;36m \u001b[0m\u001b[34mINFO    \u001b[0m Running cleaner: remove_empty_lines on text                           \u001b]8;id=110157;file:///tmp/ipykernel_72012/1743738010.py\u001b\\\u001b[2m1743738010.py\u001b[0m\u001b]8;;\u001b\\\u001b[2m:\u001b[0m\u001b]8;id=333624;file:///tmp/ipykernel_72012/1743738010.py#61\u001b\\\u001b[2m61\u001b[0m\u001b]8;;\u001b\\\n"
      ]
     },
     "metadata": {},
     "output_type": "display_data"
    },
    {
     "name": "stdout",
     "output_type": "stream",
     "text": [
      "                                "
     ]
    },
    {
     "data": {
      "text/html": [
       "<pre style=\"white-space:pre;overflow-x:auto;line-height:normal;font-family:Menlo,'DejaVu Sans Mono',consolas,'Courier New',monospace\"><span style=\"color: #7fbfbf; text-decoration-color: #7fbfbf\">                    </span><span style=\"color: #000080; text-decoration-color: #000080\">INFO    </span> Running cleaner: normalize_whitespace on text                         <a href=\"file:///tmp/ipykernel_72012/1743738010.py\" target=\"_blank\"><span style=\"color: #7f7f7f; text-decoration-color: #7f7f7f\">1743738010.py</span></a><span style=\"color: #7f7f7f; text-decoration-color: #7f7f7f\">:</span><a href=\"file:///tmp/ipykernel_72012/1743738010.py#61\" target=\"_blank\"><span style=\"color: #7f7f7f; text-decoration-color: #7f7f7f\">61</span></a>\n",
       "</pre>\n"
      ],
      "text/plain": [
       "\u001b[2;36m                   \u001b[0m\u001b[2;36m \u001b[0m\u001b[34mINFO    \u001b[0m Running cleaner: normalize_whitespace on text                         \u001b]8;id=257224;file:///tmp/ipykernel_72012/1743738010.py\u001b\\\u001b[2m1743738010.py\u001b[0m\u001b]8;;\u001b\\\u001b[2m:\u001b[0m\u001b]8;id=543484;file:///tmp/ipykernel_72012/1743738010.py#61\u001b\\\u001b[2m61\u001b[0m\u001b]8;;\u001b\\\n"
      ]
     },
     "metadata": {},
     "output_type": "display_data"
    },
    {
     "name": "stdout",
     "output_type": "stream",
     "text": [
      "                                    "
     ]
    },
    {
     "data": {
      "application/vnd.jupyter.widget-view+json": {
       "model_id": "576f12719394414ba3a2bad319bb1c29",
       "version_major": 2,
       "version_minor": 0
      },
      "text/plain": [
       "#0:   0%|          | 0/563 [00:00<?, ?ex/s]"
      ]
     },
     "metadata": {},
     "output_type": "display_data"
    },
    {
     "data": {
      "application/vnd.jupyter.widget-view+json": {
       "model_id": "48e982d87e0c42dda85c318d9a79263c",
       "version_major": 2,
       "version_minor": 0
      },
      "text/plain": [
       "#1:   0%|          | 0/563 [00:00<?, ?ex/s]"
      ]
     },
     "metadata": {},
     "output_type": "display_data"
    },
    {
     "data": {
      "application/vnd.jupyter.widget-view+json": {
       "model_id": "480796193d1c4910a4c2c60587c9d908",
       "version_major": 2,
       "version_minor": 0
      },
      "text/plain": [
       "#2:   0%|          | 0/563 [00:00<?, ?ex/s]"
      ]
     },
     "metadata": {},
     "output_type": "display_data"
    },
    {
     "name": "stdout",
     "output_type": "stream",
     "text": [
      " "
     ]
    },
    {
     "data": {
      "application/vnd.jupyter.widget-view+json": {
       "model_id": "538ee551c19a4192bd23d560149335ad",
       "version_major": 2,
       "version_minor": 0
      },
      "text/plain": [
       "#3:   0%|          | 0/563 [00:00<?, ?ex/s]"
      ]
     },
     "metadata": {},
     "output_type": "display_data"
    },
    {
     "name": "stdout",
     "output_type": "stream",
     "text": [
      " "
     ]
    },
    {
     "data": {
      "application/vnd.jupyter.widget-view+json": {
       "model_id": "fb88740bb1ce490ba2aeca40d7a31d67",
       "version_major": 2,
       "version_minor": 0
      },
      "text/plain": [
       "#4:   0%|          | 0/563 [00:00<?, ?ex/s]"
      ]
     },
     "metadata": {},
     "output_type": "display_data"
    },
    {
     "name": "stdout",
     "output_type": "stream",
     "text": [
      " "
     ]
    },
    {
     "data": {
      "application/vnd.jupyter.widget-view+json": {
       "model_id": "76eae41076e2476fa446893b369ee089",
       "version_major": 2,
       "version_minor": 0
      },
      "text/plain": [
       "#5:   0%|          | 0/563 [00:00<?, ?ex/s]"
      ]
     },
     "metadata": {},
     "output_type": "display_data"
    },
    {
     "name": "stdout",
     "output_type": "stream",
     "text": [
      " "
     ]
    },
    {
     "data": {
      "application/vnd.jupyter.widget-view+json": {
       "model_id": "39f7a614dde743c1b747c04f309e5be6",
       "version_major": 2,
       "version_minor": 0
      },
      "text/plain": [
       "#6:   0%|          | 0/563 [00:00<?, ?ex/s]"
      ]
     },
     "metadata": {},
     "output_type": "display_data"
    },
    {
     "name": "stdout",
     "output_type": "stream",
     "text": [
      " "
     ]
    },
    {
     "data": {
      "application/vnd.jupyter.widget-view+json": {
       "model_id": "8101a4363fa5411db999b100f918522d",
       "version_major": 2,
       "version_minor": 0
      },
      "text/plain": [
       "#7:   0%|          | 0/563 [00:00<?, ?ex/s]"
      ]
     },
     "metadata": {},
     "output_type": "display_data"
    },
    {
     "name": "stdout",
     "output_type": "stream",
     "text": [
      " "
     ]
    },
    {
     "data": {
      "application/vnd.jupyter.widget-view+json": {
       "model_id": "c6457d303bbd44b1b0961f5ca3fe6530",
       "version_major": 2,
       "version_minor": 0
      },
      "text/plain": [
       "#8:   0%|          | 0/563 [00:00<?, ?ex/s]"
      ]
     },
     "metadata": {},
     "output_type": "display_data"
    },
    {
     "name": "stdout",
     "output_type": "stream",
     "text": [
      " "
     ]
    },
    {
     "data": {
      "application/vnd.jupyter.widget-view+json": {
       "model_id": "82c7fb913f6145fa82754ee64e9466c7",
       "version_major": 2,
       "version_minor": 0
      },
      "text/plain": [
       "#9:   0%|          | 0/563 [00:00<?, ?ex/s]"
      ]
     },
     "metadata": {},
     "output_type": "display_data"
    },
    {
     "name": "stdout",
     "output_type": "stream",
     "text": [
      " "
     ]
    },
    {
     "data": {
      "application/vnd.jupyter.widget-view+json": {
       "model_id": "1c21d50dbc92472d9c18fbe7ab20182e",
       "version_major": 2,
       "version_minor": 0
      },
      "text/plain": [
       "#10:   0%|          | 0/563 [00:00<?, ?ex/s]"
      ]
     },
     "metadata": {},
     "output_type": "display_data"
    },
    {
     "data": {
      "application/vnd.jupyter.widget-view+json": {
       "model_id": "51c7045e833043028a19d4d6b384f723",
       "version_major": 2,
       "version_minor": 0
      },
      "text/plain": [
       "#11:   0%|          | 0/563 [00:00<?, ?ex/s]"
      ]
     },
     "metadata": {},
     "output_type": "display_data"
    },
    {
     "name": "stdout",
     "output_type": "stream",
     "text": [
      "  "
     ]
    },
    {
     "data": {
      "application/vnd.jupyter.widget-view+json": {
       "model_id": "e8468dacdf874acf9e15765dd4f1f3a0",
       "version_major": 2,
       "version_minor": 0
      },
      "text/plain": [
       "#12:   0%|          | 0/563 [00:00<?, ?ex/s]"
      ]
     },
     "metadata": {},
     "output_type": "display_data"
    },
    {
     "name": "stdout",
     "output_type": "stream",
     "text": [
      " "
     ]
    },
    {
     "data": {
      "application/vnd.jupyter.widget-view+json": {
       "model_id": "34289a8df1984a678d0750e088953d1c",
       "version_major": 2,
       "version_minor": 0
      },
      "text/plain": [
       "#13:   0%|          | 0/563 [00:00<?, ?ex/s]"
      ]
     },
     "metadata": {},
     "output_type": "display_data"
    },
    {
     "name": "stdout",
     "output_type": "stream",
     "text": [
      " "
     ]
    },
    {
     "data": {
      "application/vnd.jupyter.widget-view+json": {
       "model_id": "9ce93fc45aab4ca7a0dff863d5d14af7",
       "version_major": 2,
       "version_minor": 0
      },
      "text/plain": [
       "#14:   0%|          | 0/563 [00:00<?, ?ex/s]"
      ]
     },
     "metadata": {},
     "output_type": "display_data"
    },
    {
     "name": "stdout",
     "output_type": "stream",
     "text": [
      "  "
     ]
    },
    {
     "data": {
      "application/vnd.jupyter.widget-view+json": {
       "model_id": "da50a12791e54e91b9b595cb8e3a76d8",
       "version_major": 2,
       "version_minor": 0
      },
      "text/plain": [
       "#15:   0%|          | 0/563 [00:00<?, ?ex/s]"
      ]
     },
     "metadata": {},
     "output_type": "display_data"
    },
    {
     "name": "stdout",
     "output_type": "stream",
     "text": [
      " "
     ]
    },
    {
     "data": {
      "application/vnd.jupyter.widget-view+json": {
       "model_id": "52972b4c52824a15b3dbcfcf9b2c4bb6",
       "version_major": 2,
       "version_minor": 0
      },
      "text/plain": [
       "#16:   0%|          | 0/563 [00:00<?, ?ex/s]"
      ]
     },
     "metadata": {},
     "output_type": "display_data"
    },
    {
     "name": "stdout",
     "output_type": "stream",
     "text": [
      " "
     ]
    },
    {
     "data": {
      "application/vnd.jupyter.widget-view+json": {
       "model_id": "e4ae4de1ea574e6d887ee69dca3a70a8",
       "version_major": 2,
       "version_minor": 0
      },
      "text/plain": [
       "#17:   0%|          | 0/563 [00:00<?, ?ex/s]"
      ]
     },
     "metadata": {},
     "output_type": "display_data"
    },
    {
     "data": {
      "application/vnd.jupyter.widget-view+json": {
       "model_id": "0cfd76b576fa490b8e9b8f4ff96c8954",
       "version_major": 2,
       "version_minor": 0
      },
      "text/plain": [
       "#18:   0%|          | 0/563 [00:00<?, ?ex/s]"
      ]
     },
     "metadata": {},
     "output_type": "display_data"
    },
    {
     "name": "stdout",
     "output_type": "stream",
     "text": [
      " "
     ]
    },
    {
     "data": {
      "application/vnd.jupyter.widget-view+json": {
       "model_id": "4ef25cbf645445ae87b92702e3a75986",
       "version_major": 2,
       "version_minor": 0
      },
      "text/plain": [
       "#19:   0%|          | 0/563 [00:00<?, ?ex/s]"
      ]
     },
     "metadata": {},
     "output_type": "display_data"
    },
    {
     "name": "stdout",
     "output_type": "stream",
     "text": [
      " "
     ]
    },
    {
     "data": {
      "application/vnd.jupyter.widget-view+json": {
       "model_id": "c157f202c91c40e0a30b2755c8459fcf",
       "version_major": 2,
       "version_minor": 0
      },
      "text/plain": [
       "#20:   0%|          | 0/563 [00:00<?, ?ex/s]"
      ]
     },
     "metadata": {},
     "output_type": "display_data"
    },
    {
     "name": "stdout",
     "output_type": "stream",
     "text": [
      " "
     ]
    },
    {
     "data": {
      "application/vnd.jupyter.widget-view+json": {
       "model_id": "36a357f37a194fd6bcf417e49d52f548",
       "version_major": 2,
       "version_minor": 0
      },
      "text/plain": [
       "#21:   0%|          | 0/563 [00:00<?, ?ex/s]"
      ]
     },
     "metadata": {},
     "output_type": "display_data"
    },
    {
     "name": "stdout",
     "output_type": "stream",
     "text": [
      " "
     ]
    },
    {
     "data": {
      "application/vnd.jupyter.widget-view+json": {
       "model_id": "ff6582f569f445599b4d8b5eae548583",
       "version_major": 2,
       "version_minor": 0
      },
      "text/plain": [
       "#22:   0%|          | 0/563 [00:00<?, ?ex/s]"
      ]
     },
     "metadata": {},
     "output_type": "display_data"
    },
    {
     "data": {
      "application/vnd.jupyter.widget-view+json": {
       "model_id": "ac09e19e8f5b4af5b6e417a436c74e63",
       "version_major": 2,
       "version_minor": 0
      },
      "text/plain": [
       "#23:   0%|          | 0/563 [00:00<?, ?ex/s]"
      ]
     },
     "metadata": {},
     "output_type": "display_data"
    },
    {
     "name": "stdout",
     "output_type": "stream",
     "text": [
      "  "
     ]
    },
    {
     "data": {
      "application/vnd.jupyter.widget-view+json": {
       "model_id": "2c3946f80d21414c9a91c1f418294b39",
       "version_major": 2,
       "version_minor": 0
      },
      "text/plain": [
       "#26:   0%|          | 0/563 [00:00<?, ?ex/s]"
      ]
     },
     "metadata": {},
     "output_type": "display_data"
    },
    {
     "name": "stdout",
     "output_type": "stream",
     "text": [
      "    "
     ]
    },
    {
     "data": {
      "application/vnd.jupyter.widget-view+json": {
       "model_id": "5495a05f7d754a3e87ce88c1fe853cb8",
       "version_major": 2,
       "version_minor": 0
      },
      "text/plain": [
       "#28:   0%|          | 0/562 [00:00<?, ?ex/s]"
      ]
     },
     "metadata": {},
     "output_type": "display_data"
    },
    {
     "name": "stdout",
     "output_type": "stream",
     "text": [
      " "
     ]
    },
    {
     "data": {
      "application/vnd.jupyter.widget-view+json": {
       "model_id": "9d0baae5901247158ea4e1a6317275dd",
       "version_major": 2,
       "version_minor": 0
      },
      "text/plain": [
       "#27:   0%|          | 0/562 [00:00<?, ?ex/s]"
      ]
     },
     "metadata": {},
     "output_type": "display_data"
    },
    {
     "data": {
      "application/vnd.jupyter.widget-view+json": {
       "model_id": "4151c14cb8ff468387ba763a1928e6ae",
       "version_major": 2,
       "version_minor": 0
      },
      "text/plain": [
       "#29:   0%|          | 0/562 [00:00<?, ?ex/s]"
      ]
     },
     "metadata": {},
     "output_type": "display_data"
    },
    {
     "data": {
      "application/vnd.jupyter.widget-view+json": {
       "model_id": "f1218f8314e84d96a4e3b13c116d6dda",
       "version_major": 2,
       "version_minor": 0
      },
      "text/plain": [
       "#24:   0%|          | 0/563 [00:00<?, ?ex/s]"
      ]
     },
     "metadata": {},
     "output_type": "display_data"
    },
    {
     "name": "stdout",
     "output_type": "stream",
     "text": [
      " "
     ]
    },
    {
     "data": {
      "application/vnd.jupyter.widget-view+json": {
       "model_id": "2618f9bcb35246dda91e301ba5109f4b",
       "version_major": 2,
       "version_minor": 0
      },
      "text/plain": [
       "#30:   0%|          | 0/562 [00:00<?, ?ex/s]"
      ]
     },
     "metadata": {},
     "output_type": "display_data"
    },
    {
     "data": {
      "application/vnd.jupyter.widget-view+json": {
       "model_id": "4ff069f110a44af28f74f383e535ed87",
       "version_major": 2,
       "version_minor": 0
      },
      "text/plain": [
       "#31:   0%|          | 0/562 [00:00<?, ?ex/s]"
      ]
     },
     "metadata": {},
     "output_type": "display_data"
    },
    {
     "data": {
      "application/vnd.jupyter.widget-view+json": {
       "model_id": "b3f20d7c80844f5397e56560e67e7d32",
       "version_major": 2,
       "version_minor": 0
      },
      "text/plain": [
       "#25:   0%|          | 0/563 [00:00<?, ?ex/s]"
      ]
     },
     "metadata": {},
     "output_type": "display_data"
    },
    {
     "data": {
      "text/html": [
       "<pre style=\"white-space:pre;overflow-x:auto;line-height:normal;font-family:Menlo,'DejaVu Sans Mono',consolas,'Courier New',monospace\"><span style=\"color: #7fbfbf; text-decoration-color: #7fbfbf\">[11/30/22 01:41:01] </span><span style=\"color: #000080; text-decoration-color: #000080\">INFO    </span> Running global filter: minhash_dedup                                  <a href=\"file:///tmp/ipykernel_72012/1743738010.py\" target=\"_blank\"><span style=\"color: #7f7f7f; text-decoration-color: #7f7f7f\">1743738010.py</span></a><span style=\"color: #7f7f7f; text-decoration-color: #7f7f7f\">:</span><a href=\"file:///tmp/ipykernel_72012/1743738010.py#85\" target=\"_blank\"><span style=\"color: #7f7f7f; text-decoration-color: #7f7f7f\">85</span></a>\n",
       "</pre>\n"
      ],
      "text/plain": [
       "\u001b[2;36m[11/30/22 01:41:01]\u001b[0m\u001b[2;36m \u001b[0m\u001b[34mINFO    \u001b[0m Running global filter: minhash_dedup                                  \u001b]8;id=78011;file:///tmp/ipykernel_72012/1743738010.py\u001b\\\u001b[2m1743738010.py\u001b[0m\u001b]8;;\u001b\\\u001b[2m:\u001b[0m\u001b]8;id=833340;file:///tmp/ipykernel_72012/1743738010.py#85\u001b\\\u001b[2m85\u001b[0m\u001b]8;;\u001b\\\n"
      ]
     },
     "metadata": {},
     "output_type": "display_data"
    },
    {
     "name": "stdout",
     "output_type": "stream",
     "text": [
      "                                  "
     ]
    },
    {
     "data": {
      "application/vnd.jupyter.widget-view+json": {
       "model_id": "5fc7ea84f4cb49329d6f59ec0a8bcc23",
       "version_major": 2,
       "version_minor": 0
      },
      "text/plain": [
       "Adding index... #0:   0%|          | 0/563 [00:00<?, ?ex/s]"
      ]
     },
     "metadata": {},
     "output_type": "display_data"
    },
    {
     "name": "stdout",
     "output_type": "stream",
     "text": [
      " "
     ]
    },
    {
     "data": {
      "application/vnd.jupyter.widget-view+json": {
       "model_id": "705ad8bb188744b0968d07229d5d8fe4",
       "version_major": 2,
       "version_minor": 0
      },
      "text/plain": [
       "Adding index... #1:   0%|          | 0/563 [00:00<?, ?ex/s]"
      ]
     },
     "metadata": {},
     "output_type": "display_data"
    },
    {
     "name": "stdout",
     "output_type": "stream",
     "text": [
      " "
     ]
    },
    {
     "data": {
      "application/vnd.jupyter.widget-view+json": {
       "model_id": "43e6e050665245d480360ace6df9aa68",
       "version_major": 2,
       "version_minor": 0
      },
      "text/plain": [
       "Adding index... #2:   0%|          | 0/563 [00:00<?, ?ex/s]"
      ]
     },
     "metadata": {},
     "output_type": "display_data"
    },
    {
     "name": "stdout",
     "output_type": "stream",
     "text": [
      " "
     ]
    },
    {
     "data": {
      "application/vnd.jupyter.widget-view+json": {
       "model_id": "0d48fbd1600c417f8d0a5c2ffa0e0878",
       "version_major": 2,
       "version_minor": 0
      },
      "text/plain": [
       "Adding index... #3:   0%|          | 0/563 [00:00<?, ?ex/s]"
      ]
     },
     "metadata": {},
     "output_type": "display_data"
    },
    {
     "name": "stdout",
     "output_type": "stream",
     "text": [
      " "
     ]
    },
    {
     "data": {
      "application/vnd.jupyter.widget-view+json": {
       "model_id": "5d7d80f44ade435f968e153115b10606",
       "version_major": 2,
       "version_minor": 0
      },
      "text/plain": [
       "Adding index... #4:   0%|          | 0/563 [00:00<?, ?ex/s]"
      ]
     },
     "metadata": {},
     "output_type": "display_data"
    },
    {
     "name": "stdout",
     "output_type": "stream",
     "text": [
      " "
     ]
    },
    {
     "data": {
      "application/vnd.jupyter.widget-view+json": {
       "model_id": "3aff64d8379242eca83b82718c681656",
       "version_major": 2,
       "version_minor": 0
      },
      "text/plain": [
       "Adding index... #5:   0%|          | 0/563 [00:00<?, ?ex/s]"
      ]
     },
     "metadata": {},
     "output_type": "display_data"
    },
    {
     "data": {
      "application/vnd.jupyter.widget-view+json": {
       "model_id": "6d6b1f06a4e748d8ae9d1e84b2db334d",
       "version_major": 2,
       "version_minor": 0
      },
      "text/plain": [
       "Adding index... #6:   0%|          | 0/563 [00:00<?, ?ex/s]"
      ]
     },
     "metadata": {},
     "output_type": "display_data"
    },
    {
     "name": "stdout",
     "output_type": "stream",
     "text": [
      "  "
     ]
    },
    {
     "data": {
      "application/vnd.jupyter.widget-view+json": {
       "model_id": "86db4e8aa62544938270c2193b41e1b1",
       "version_major": 2,
       "version_minor": 0
      },
      "text/plain": [
       "Adding index... #7:   0%|          | 0/563 [00:00<?, ?ex/s]"
      ]
     },
     "metadata": {},
     "output_type": "display_data"
    },
    {
     "name": "stdout",
     "output_type": "stream",
     "text": [
      " "
     ]
    },
    {
     "data": {
      "application/vnd.jupyter.widget-view+json": {
       "model_id": "13ce7b3b17a54fd8aaaa5516cf03854e",
       "version_major": 2,
       "version_minor": 0
      },
      "text/plain": [
       "Adding index... #8:   0%|          | 0/563 [00:00<?, ?ex/s]"
      ]
     },
     "metadata": {},
     "output_type": "display_data"
    },
    {
     "data": {
      "application/vnd.jupyter.widget-view+json": {
       "model_id": "f72ddc90366b4adaad2f9a802bd159e3",
       "version_major": 2,
       "version_minor": 0
      },
      "text/plain": [
       "Adding index... #9:   0%|          | 0/563 [00:00<?, ?ex/s]"
      ]
     },
     "metadata": {},
     "output_type": "display_data"
    },
    {
     "name": "stdout",
     "output_type": "stream",
     "text": [
      " "
     ]
    },
    {
     "data": {
      "application/vnd.jupyter.widget-view+json": {
       "model_id": "27f3eb7561d941c78a5ce8f9282cddbe",
       "version_major": 2,
       "version_minor": 0
      },
      "text/plain": [
       "Adding index... #10:   0%|          | 0/563 [00:00<?, ?ex/s]"
      ]
     },
     "metadata": {},
     "output_type": "display_data"
    },
    {
     "name": "stdout",
     "output_type": "stream",
     "text": [
      "  "
     ]
    },
    {
     "data": {
      "application/vnd.jupyter.widget-view+json": {
       "model_id": "fa698d574ecf440eb71e01d171c01507",
       "version_major": 2,
       "version_minor": 0
      },
      "text/plain": [
       "Adding index... #11:   0%|          | 0/563 [00:00<?, ?ex/s]"
      ]
     },
     "metadata": {},
     "output_type": "display_data"
    },
    {
     "data": {
      "application/vnd.jupyter.widget-view+json": {
       "model_id": "b8bcc4ee963d4b49badeb2ec95cacc38",
       "version_major": 2,
       "version_minor": 0
      },
      "text/plain": [
       "Adding index... #12:   0%|          | 0/563 [00:00<?, ?ex/s]"
      ]
     },
     "metadata": {},
     "output_type": "display_data"
    },
    {
     "name": "stdout",
     "output_type": "stream",
     "text": [
      " "
     ]
    },
    {
     "data": {
      "application/vnd.jupyter.widget-view+json": {
       "model_id": "affaee88d0dd43d4be5817145e9b7174",
       "version_major": 2,
       "version_minor": 0
      },
      "text/plain": [
       "Adding index... #13:   0%|          | 0/563 [00:00<?, ?ex/s]"
      ]
     },
     "metadata": {},
     "output_type": "display_data"
    },
    {
     "name": "stdout",
     "output_type": "stream",
     "text": [
      " "
     ]
    },
    {
     "data": {
      "application/vnd.jupyter.widget-view+json": {
       "model_id": "16610567037d4773b879440089c8ef28",
       "version_major": 2,
       "version_minor": 0
      },
      "text/plain": [
       "Adding index... #14:   0%|          | 0/563 [00:00<?, ?ex/s]"
      ]
     },
     "metadata": {},
     "output_type": "display_data"
    },
    {
     "name": "stdout",
     "output_type": "stream",
     "text": [
      "  "
     ]
    },
    {
     "data": {
      "application/vnd.jupyter.widget-view+json": {
       "model_id": "daf92e39c4624b77bbc5fdad682a4546",
       "version_major": 2,
       "version_minor": 0
      },
      "text/plain": [
       "Adding index... #16:   0%|          | 0/563 [00:00<?, ?ex/s]"
      ]
     },
     "metadata": {},
     "output_type": "display_data"
    },
    {
     "data": {
      "application/vnd.jupyter.widget-view+json": {
       "model_id": "1a6eafcbfa264100977fb5ddbb01565a",
       "version_major": 2,
       "version_minor": 0
      },
      "text/plain": [
       "Adding index... #15:   0%|          | 0/563 [00:00<?, ?ex/s]"
      ]
     },
     "metadata": {},
     "output_type": "display_data"
    },
    {
     "name": "stdout",
     "output_type": "stream",
     "text": [
      "   "
     ]
    },
    {
     "data": {
      "application/vnd.jupyter.widget-view+json": {
       "model_id": "2b3fcceca69d4987a590b326bfefaf5e",
       "version_major": 2,
       "version_minor": 0
      },
      "text/plain": [
       "Adding index... #18:   0%|          | 0/563 [00:00<?, ?ex/s]"
      ]
     },
     "metadata": {},
     "output_type": "display_data"
    },
    {
     "data": {
      "application/vnd.jupyter.widget-view+json": {
       "model_id": "fb93509b2a334a6792932b7cedcd8be4",
       "version_major": 2,
       "version_minor": 0
      },
      "text/plain": [
       "Adding index... #17:   0%|          | 0/563 [00:00<?, ?ex/s]"
      ]
     },
     "metadata": {},
     "output_type": "display_data"
    },
    {
     "name": "stdout",
     "output_type": "stream",
     "text": [
      " "
     ]
    },
    {
     "data": {
      "application/vnd.jupyter.widget-view+json": {
       "model_id": "2ae29db8f4dd46f3addd0ac3677ed054",
       "version_major": 2,
       "version_minor": 0
      },
      "text/plain": [
       "Adding index... #19:   0%|          | 0/563 [00:00<?, ?ex/s]"
      ]
     },
     "metadata": {},
     "output_type": "display_data"
    },
    {
     "name": "stdout",
     "output_type": "stream",
     "text": [
      " "
     ]
    },
    {
     "data": {
      "application/vnd.jupyter.widget-view+json": {
       "model_id": "514796fe5cdd4ef7bf038a995868651f",
       "version_major": 2,
       "version_minor": 0
      },
      "text/plain": [
       "Adding index... #20:   0%|          | 0/563 [00:00<?, ?ex/s]"
      ]
     },
     "metadata": {},
     "output_type": "display_data"
    },
    {
     "name": "stdout",
     "output_type": "stream",
     "text": [
      " "
     ]
    },
    {
     "data": {
      "application/vnd.jupyter.widget-view+json": {
       "model_id": "f10bc9090a0747d29b54c41e27a056ea",
       "version_major": 2,
       "version_minor": 0
      },
      "text/plain": [
       "Adding index... #21:   0%|          | 0/563 [00:00<?, ?ex/s]"
      ]
     },
     "metadata": {},
     "output_type": "display_data"
    },
    {
     "data": {
      "application/vnd.jupyter.widget-view+json": {
       "model_id": "85cd6d4266de4aaead1a8d7d971a232a",
       "version_major": 2,
       "version_minor": 0
      },
      "text/plain": [
       "Adding index... #22:   0%|          | 0/563 [00:00<?, ?ex/s]"
      ]
     },
     "metadata": {},
     "output_type": "display_data"
    },
    {
     "name": "stdout",
     "output_type": "stream",
     "text": [
      " "
     ]
    },
    {
     "data": {
      "application/vnd.jupyter.widget-view+json": {
       "model_id": "8c732c15bc464e818c86e16ca37802a6",
       "version_major": 2,
       "version_minor": 0
      },
      "text/plain": [
       "Adding index... #23:   0%|          | 0/563 [00:00<?, ?ex/s]"
      ]
     },
     "metadata": {},
     "output_type": "display_data"
    },
    {
     "name": "stdout",
     "output_type": "stream",
     "text": [
      "   "
     ]
    },
    {
     "data": {
      "application/vnd.jupyter.widget-view+json": {
       "model_id": "a6b95578b7f54e0ab64a255c830e8c86",
       "version_major": 2,
       "version_minor": 0
      },
      "text/plain": [
       "Adding index... #26:   0%|          | 0/563 [00:00<?, ?ex/s]"
      ]
     },
     "metadata": {},
     "output_type": "display_data"
    },
    {
     "data": {
      "application/vnd.jupyter.widget-view+json": {
       "model_id": "6d00e7ec386144e5bf4b890fbe77a358",
       "version_major": 2,
       "version_minor": 0
      },
      "text/plain": [
       "Adding index... #27:   0%|          | 0/562 [00:00<?, ?ex/s]"
      ]
     },
     "metadata": {},
     "output_type": "display_data"
    },
    {
     "name": "stdout",
     "output_type": "stream",
     "text": [
      "  "
     ]
    },
    {
     "data": {
      "application/vnd.jupyter.widget-view+json": {
       "model_id": "f8f4e36837cb44a292b4796f736982fc",
       "version_major": 2,
       "version_minor": 0
      },
      "text/plain": [
       "Adding index... #24:   0%|          | 0/563 [00:00<?, ?ex/s]"
      ]
     },
     "metadata": {},
     "output_type": "display_data"
    },
    {
     "name": "stdout",
     "output_type": "stream",
     "text": [
      " "
     ]
    },
    {
     "data": {
      "application/vnd.jupyter.widget-view+json": {
       "model_id": "6f729cc2bd7840939513fc49905e574d",
       "version_major": 2,
       "version_minor": 0
      },
      "text/plain": [
       "Adding index... #28:   0%|          | 0/562 [00:00<?, ?ex/s]"
      ]
     },
     "metadata": {},
     "output_type": "display_data"
    },
    {
     "data": {
      "application/vnd.jupyter.widget-view+json": {
       "model_id": "f03b5d8ad911443e8a485c3b2e2bb5a5",
       "version_major": 2,
       "version_minor": 0
      },
      "text/plain": [
       "Adding index... #25:   0%|          | 0/563 [00:00<?, ?ex/s]"
      ]
     },
     "metadata": {},
     "output_type": "display_data"
    },
    {
     "name": "stdout",
     "output_type": "stream",
     "text": [
      " "
     ]
    },
    {
     "data": {
      "application/vnd.jupyter.widget-view+json": {
       "model_id": "96bfdae07b5d4c93acaaaecd2535f98f",
       "version_major": 2,
       "version_minor": 0
      },
      "text/plain": [
       "Adding index... #29:   0%|          | 0/562 [00:00<?, ?ex/s]"
      ]
     },
     "metadata": {},
     "output_type": "display_data"
    },
    {
     "data": {
      "application/vnd.jupyter.widget-view+json": {
       "model_id": "845e94eaf6c04d39ba1698e009c4e48a",
       "version_major": 2,
       "version_minor": 0
      },
      "text/plain": [
       "Adding index... #30:   0%|          | 0/562 [00:00<?, ?ex/s]"
      ]
     },
     "metadata": {},
     "output_type": "display_data"
    },
    {
     "name": "stdout",
     "output_type": "stream",
     "text": [
      " "
     ]
    },
    {
     "data": {
      "application/vnd.jupyter.widget-view+json": {
       "model_id": "f9544be6a53148079af3eafab71c5041",
       "version_major": 2,
       "version_minor": 0
      },
      "text/plain": [
       "Adding index... #31:   0%|          | 0/562 [00:00<?, ?ex/s]"
      ]
     },
     "metadata": {},
     "output_type": "display_data"
    },
    {
     "name": "stdout",
     "output_type": "stream",
     "text": [
      "                                                        "
     ]
    },
    {
     "data": {
      "application/vnd.jupyter.widget-view+json": {
       "model_id": "c160fbf349bf4a22b2afebe52eccb123",
       "version_major": 2,
       "version_minor": 0
      },
      "text/plain": [
       "Fingerprinting... #4:   0%|          | 0/563 [00:00<?, ?ex/s]"
      ]
     },
     "metadata": {},
     "output_type": "display_data"
    },
    {
     "data": {
      "application/vnd.jupyter.widget-view+json": {
       "model_id": "f02d6c590d4b4716baac5b94114dbe5d",
       "version_major": 2,
       "version_minor": 0
      },
      "text/plain": [
       "Fingerprinting... #2:   0%|          | 0/563 [00:00<?, ?ex/s]"
      ]
     },
     "metadata": {},
     "output_type": "display_data"
    },
    {
     "name": "stdout",
     "output_type": "stream",
     "text": [
      " "
     ]
    },
    {
     "data": {
      "application/vnd.jupyter.widget-view+json": {
       "model_id": "dee35517153c4004be7704f5613955cd",
       "version_major": 2,
       "version_minor": 0
      },
      "text/plain": [
       "Fingerprinting... #5:   0%|          | 0/563 [00:00<?, ?ex/s]"
      ]
     },
     "metadata": {},
     "output_type": "display_data"
    },
    {
     "name": "stdout",
     "output_type": "stream",
     "text": [
      " "
     ]
    },
    {
     "data": {
      "application/vnd.jupyter.widget-view+json": {
       "model_id": "3cfddbdf6f7c42669cda1287a0c9126a",
       "version_major": 2,
       "version_minor": 0
      },
      "text/plain": [
       "Fingerprinting... #9:   0%|          | 0/563 [00:00<?, ?ex/s]"
      ]
     },
     "metadata": {},
     "output_type": "display_data"
    },
    {
     "name": "stdout",
     "output_type": "stream",
     "text": [
      " "
     ]
    },
    {
     "data": {
      "application/vnd.jupyter.widget-view+json": {
       "model_id": "e7dde221507e4c71a7a2396a0a2b838b",
       "version_major": 2,
       "version_minor": 0
      },
      "text/plain": [
       "Fingerprinting... #7:   0%|          | 0/563 [00:00<?, ?ex/s]"
      ]
     },
     "metadata": {},
     "output_type": "display_data"
    },
    {
     "name": "stdout",
     "output_type": "stream",
     "text": [
      " "
     ]
    },
    {
     "data": {
      "application/vnd.jupyter.widget-view+json": {
       "model_id": "d8d0384cce4c4fc7ab5ff71e676cb697",
       "version_major": 2,
       "version_minor": 0
      },
      "text/plain": [
       "Fingerprinting... #3:   0%|          | 0/563 [00:00<?, ?ex/s]"
      ]
     },
     "metadata": {},
     "output_type": "display_data"
    },
    {
     "name": "stdout",
     "output_type": "stream",
     "text": [
      "  "
     ]
    },
    {
     "data": {
      "application/vnd.jupyter.widget-view+json": {
       "model_id": "61bbf48c656145edba547b00b9f688d3",
       "version_major": 2,
       "version_minor": 0
      },
      "text/plain": [
       "Fingerprinting... #1:   0%|          | 0/563 [00:00<?, ?ex/s]"
      ]
     },
     "metadata": {},
     "output_type": "display_data"
    },
    {
     "data": {
      "application/vnd.jupyter.widget-view+json": {
       "model_id": "aa501b810163487b8cbeaa042eb9f71b",
       "version_major": 2,
       "version_minor": 0
      },
      "text/plain": [
       "Fingerprinting... #15:   0%|          | 0/563 [00:00<?, ?ex/s]"
      ]
     },
     "metadata": {},
     "output_type": "display_data"
    },
    {
     "data": {
      "application/vnd.jupyter.widget-view+json": {
       "model_id": "d5b1aee2935a4afe8e5fcf0cbdaeb35f",
       "version_major": 2,
       "version_minor": 0
      },
      "text/plain": [
       "Fingerprinting... #6:   0%|          | 0/563 [00:00<?, ?ex/s]"
      ]
     },
     "metadata": {},
     "output_type": "display_data"
    },
    {
     "data": {
      "application/vnd.jupyter.widget-view+json": {
       "model_id": "74fcea34420840e2b9e59d12c648704d",
       "version_major": 2,
       "version_minor": 0
      },
      "text/plain": [
       "Fingerprinting... #8:   0%|          | 0/563 [00:00<?, ?ex/s]"
      ]
     },
     "metadata": {},
     "output_type": "display_data"
    },
    {
     "data": {
      "application/vnd.jupyter.widget-view+json": {
       "model_id": "ba01bc2ec08646a38274ade134d70b7e",
       "version_major": 2,
       "version_minor": 0
      },
      "text/plain": [
       "Fingerprinting... #10:   0%|          | 0/563 [00:00<?, ?ex/s]"
      ]
     },
     "metadata": {},
     "output_type": "display_data"
    },
    {
     "data": {
      "application/vnd.jupyter.widget-view+json": {
       "model_id": "d5bab273c3f14359911aeac8abf91c6e",
       "version_major": 2,
       "version_minor": 0
      },
      "text/plain": [
       "Fingerprinting... #0:   0%|          | 0/563 [00:00<?, ?ex/s]"
      ]
     },
     "metadata": {},
     "output_type": "display_data"
    },
    {
     "data": {
      "application/vnd.jupyter.widget-view+json": {
       "model_id": "65c7cb0b14e7499fb14deb0fcb65aed5",
       "version_major": 2,
       "version_minor": 0
      },
      "text/plain": [
       "Fingerprinting... #18:   0%|          | 0/563 [00:00<?, ?ex/s]"
      ]
     },
     "metadata": {},
     "output_type": "display_data"
    },
    {
     "data": {
      "application/vnd.jupyter.widget-view+json": {
       "model_id": "33c512ba6af049fe88dc290f03127a2b",
       "version_major": 2,
       "version_minor": 0
      },
      "text/plain": [
       "Fingerprinting... #14:   0%|          | 0/563 [00:00<?, ?ex/s]"
      ]
     },
     "metadata": {},
     "output_type": "display_data"
    },
    {
     "data": {
      "application/vnd.jupyter.widget-view+json": {
       "model_id": "c5ce21b5b6ac4fecb2e91b117950cb8e",
       "version_major": 2,
       "version_minor": 0
      },
      "text/plain": [
       "Fingerprinting... #11:   0%|          | 0/563 [00:00<?, ?ex/s]"
      ]
     },
     "metadata": {},
     "output_type": "display_data"
    },
    {
     "data": {
      "application/vnd.jupyter.widget-view+json": {
       "model_id": "a4108ed87ccb45d2b701afb84236d808",
       "version_major": 2,
       "version_minor": 0
      },
      "text/plain": [
       "Fingerprinting... #26:   0%|          | 0/563 [00:00<?, ?ex/s]"
      ]
     },
     "metadata": {},
     "output_type": "display_data"
    },
    {
     "data": {
      "application/vnd.jupyter.widget-view+json": {
       "model_id": "c5ab4d42096f40858157cd1542cf3376",
       "version_major": 2,
       "version_minor": 0
      },
      "text/plain": [
       "Fingerprinting... #20:   0%|          | 0/563 [00:00<?, ?ex/s]"
      ]
     },
     "metadata": {},
     "output_type": "display_data"
    },
    {
     "data": {
      "application/vnd.jupyter.widget-view+json": {
       "model_id": "d49c630bde4649568a0a7d79de383628",
       "version_major": 2,
       "version_minor": 0
      },
      "text/plain": [
       "Fingerprinting... #16:   0%|          | 0/563 [00:00<?, ?ex/s]"
      ]
     },
     "metadata": {},
     "output_type": "display_data"
    },
    {
     "data": {
      "application/vnd.jupyter.widget-view+json": {
       "model_id": "4c05e1a195cf4f12bb4bf7633566ebf7",
       "version_major": 2,
       "version_minor": 0
      },
      "text/plain": [
       "Fingerprinting... #22:   0%|          | 0/563 [00:00<?, ?ex/s]"
      ]
     },
     "metadata": {},
     "output_type": "display_data"
    },
    {
     "name": "stdout",
     "output_type": "stream",
     "text": [
      " "
     ]
    },
    {
     "data": {
      "application/vnd.jupyter.widget-view+json": {
       "model_id": "c73781577bf4425597ea10d98d6f5607",
       "version_major": 2,
       "version_minor": 0
      },
      "text/plain": [
       "Fingerprinting... #13:   0%|          | 0/563 [00:00<?, ?ex/s]"
      ]
     },
     "metadata": {},
     "output_type": "display_data"
    },
    {
     "data": {
      "application/vnd.jupyter.widget-view+json": {
       "model_id": "349a9492b84b4e8fbce04a56da2750c2",
       "version_major": 2,
       "version_minor": 0
      },
      "text/plain": [
       "Fingerprinting... #12:   0%|          | 0/563 [00:00<?, ?ex/s]"
      ]
     },
     "metadata": {},
     "output_type": "display_data"
    },
    {
     "data": {
      "application/vnd.jupyter.widget-view+json": {
       "model_id": "eb580830d2c34ae6bbfa65849e45f39f",
       "version_major": 2,
       "version_minor": 0
      },
      "text/plain": [
       "Fingerprinting... #17:   0%|          | 0/563 [00:00<?, ?ex/s]"
      ]
     },
     "metadata": {},
     "output_type": "display_data"
    },
    {
     "data": {
      "application/vnd.jupyter.widget-view+json": {
       "model_id": "cef9ab8738b44b8a9b8bf79c7077a763",
       "version_major": 2,
       "version_minor": 0
      },
      "text/plain": [
       "Fingerprinting... #19:   0%|          | 0/563 [00:00<?, ?ex/s]"
      ]
     },
     "metadata": {},
     "output_type": "display_data"
    },
    {
     "data": {
      "application/vnd.jupyter.widget-view+json": {
       "model_id": "b1306ed871ed40de97364f537ef74d4e",
       "version_major": 2,
       "version_minor": 0
      },
      "text/plain": [
       "Fingerprinting... #23:   0%|          | 0/563 [00:00<?, ?ex/s]"
      ]
     },
     "metadata": {},
     "output_type": "display_data"
    },
    {
     "data": {
      "application/vnd.jupyter.widget-view+json": {
       "model_id": "46468478da7241eb8c71574e83479f0f",
       "version_major": 2,
       "version_minor": 0
      },
      "text/plain": [
       "Fingerprinting... #28:   0%|          | 0/562 [00:00<?, ?ex/s]"
      ]
     },
     "metadata": {},
     "output_type": "display_data"
    },
    {
     "data": {
      "application/vnd.jupyter.widget-view+json": {
       "model_id": "5734d7cd2aa241a7b2702bbcba326e06",
       "version_major": 2,
       "version_minor": 0
      },
      "text/plain": [
       "Fingerprinting... #30:   0%|          | 0/562 [00:00<?, ?ex/s]"
      ]
     },
     "metadata": {},
     "output_type": "display_data"
    },
    {
     "name": "stdout",
     "output_type": "stream",
     "text": [
      " "
     ]
    },
    {
     "data": {
      "application/vnd.jupyter.widget-view+json": {
       "model_id": "5934d79cb46f4abca52c2992ab796c87",
       "version_major": 2,
       "version_minor": 0
      },
      "text/plain": [
       "Fingerprinting... #31:   0%|          | 0/562 [00:00<?, ?ex/s]"
      ]
     },
     "metadata": {},
     "output_type": "display_data"
    },
    {
     "data": {
      "application/vnd.jupyter.widget-view+json": {
       "model_id": "f4e6770f27e24cb78e795b7938dc2757",
       "version_major": 2,
       "version_minor": 0
      },
      "text/plain": [
       "Fingerprinting... #27:   0%|          | 0/562 [00:00<?, ?ex/s]"
      ]
     },
     "metadata": {},
     "output_type": "display_data"
    },
    {
     "data": {
      "application/vnd.jupyter.widget-view+json": {
       "model_id": "fd528bca60ac45d8856fbe2f2f3e5437",
       "version_major": 2,
       "version_minor": 0
      },
      "text/plain": [
       "Fingerprinting... #21:   0%|          | 0/563 [00:00<?, ?ex/s]"
      ]
     },
     "metadata": {},
     "output_type": "display_data"
    },
    {
     "data": {
      "application/vnd.jupyter.widget-view+json": {
       "model_id": "01de1ba6a7e94620b7b59b01c9aa79ac",
       "version_major": 2,
       "version_minor": 0
      },
      "text/plain": [
       "Fingerprinting... #29:   0%|          | 0/562 [00:00<?, ?ex/s]"
      ]
     },
     "metadata": {},
     "output_type": "display_data"
    },
    {
     "data": {
      "application/vnd.jupyter.widget-view+json": {
       "model_id": "e763ace0685640079fec2ad799fe13ff",
       "version_major": 2,
       "version_minor": 0
      },
      "text/plain": [
       "Fingerprinting... #24:   0%|          | 0/563 [00:00<?, ?ex/s]"
      ]
     },
     "metadata": {},
     "output_type": "display_data"
    },
    {
     "data": {
      "application/vnd.jupyter.widget-view+json": {
       "model_id": "a7ecfb2b3ada410698809c9c39d553d2",
       "version_major": 2,
       "version_minor": 0
      },
      "text/plain": [
       "Fingerprinting... #25:   0%|          | 0/563 [00:00<?, ?ex/s]"
      ]
     },
     "metadata": {},
     "output_type": "display_data"
    },
    {
     "data": {
      "application/vnd.jupyter.widget-view+json": {
       "model_id": "4b3719ba36ac49c49b66cec1389de382",
       "version_major": 2,
       "version_minor": 0
      },
      "text/plain": [
       "Indexing signatures...:   0%|          | 0/18011 [00:00<?, ?it/s]"
      ]
     },
     "metadata": {},
     "output_type": "display_data"
    },
    {
     "name": "stdout",
     "output_type": "stream",
     "text": [
      "                                       "
     ]
    },
    {
     "data": {
      "application/vnd.jupyter.widget-view+json": {
       "model_id": "31e26dd1d4104140a5bb5a7fd6ba1487",
       "version_major": 2,
       "version_minor": 0
      },
      "text/plain": [
       "Querying... #8:   0%|          | 0/563 [00:00<?, ?ex/s]"
      ]
     },
     "metadata": {},
     "output_type": "display_data"
    },
    {
     "name": "stdout",
     "output_type": "stream",
     "text": [
      "    "
     ]
    },
    {
     "data": {
      "application/vnd.jupyter.widget-view+json": {
       "model_id": "f46fff03c638487c9147cd555d3581ab",
       "version_major": 2,
       "version_minor": 0
      },
      "text/plain": [
       "Querying... #12:   0%|          | 0/563 [00:00<?, ?ex/s]"
      ]
     },
     "metadata": {},
     "output_type": "display_data"
    },
    {
     "data": {
      "application/vnd.jupyter.widget-view+json": {
       "model_id": "7fd12f59f48741ecb89f15799fa094cc",
       "version_major": 2,
       "version_minor": 0
      },
      "text/plain": [
       "Querying... #13:   0%|          | 0/563 [00:00<?, ?ex/s]"
      ]
     },
     "metadata": {},
     "output_type": "display_data"
    },
    {
     "data": {
      "application/vnd.jupyter.widget-view+json": {
       "model_id": "617840491de44f42b015ce6978fa1052",
       "version_major": 2,
       "version_minor": 0
      },
      "text/plain": [
       "Querying... #9:   0%|          | 0/563 [00:00<?, ?ex/s]"
      ]
     },
     "metadata": {},
     "output_type": "display_data"
    },
    {
     "name": "stdout",
     "output_type": "stream",
     "text": [
      "  "
     ]
    },
    {
     "data": {
      "application/vnd.jupyter.widget-view+json": {
       "model_id": "95d50586137e4893a2a9e093d679ade3",
       "version_major": 2,
       "version_minor": 0
      },
      "text/plain": [
       "Querying... #1:   0%|          | 0/563 [00:00<?, ?ex/s]"
      ]
     },
     "metadata": {},
     "output_type": "display_data"
    },
    {
     "name": "stdout",
     "output_type": "stream",
     "text": [
      "  "
     ]
    },
    {
     "data": {
      "application/vnd.jupyter.widget-view+json": {
       "model_id": "71661f54e8f048b0a88241d7684f1d9a",
       "version_major": 2,
       "version_minor": 0
      },
      "text/plain": [
       "Querying... #0:   0%|          | 0/563 [00:00<?, ?ex/s]"
      ]
     },
     "metadata": {},
     "output_type": "display_data"
    },
    {
     "name": "stdout",
     "output_type": "stream",
     "text": [
      "      "
     ]
    },
    {
     "data": {
      "application/vnd.jupyter.widget-view+json": {
       "model_id": "e8f230ee28bf4b64a1ff63637ceea692",
       "version_major": 2,
       "version_minor": 0
      },
      "text/plain": [
       "Querying... #6:   0%|          | 0/563 [00:00<?, ?ex/s]"
      ]
     },
     "metadata": {},
     "output_type": "display_data"
    },
    {
     "name": "stdout",
     "output_type": "stream",
     "text": [
      "         "
     ]
    },
    {
     "data": {
      "application/vnd.jupyter.widget-view+json": {
       "model_id": "0a608531d92740e4818c80d1963ad65f",
       "version_major": 2,
       "version_minor": 0
      },
      "text/plain": [
       "Querying... #5:   0%|          | 0/563 [00:00<?, ?ex/s]"
      ]
     },
     "metadata": {},
     "output_type": "display_data"
    },
    {
     "data": {
      "application/vnd.jupyter.widget-view+json": {
       "model_id": "9e4dc24edd44443f8ad6234b49a8d16f",
       "version_major": 2,
       "version_minor": 0
      },
      "text/plain": [
       "Querying... #7:   0%|          | 0/563 [00:00<?, ?ex/s]"
      ]
     },
     "metadata": {},
     "output_type": "display_data"
    },
    {
     "data": {
      "application/vnd.jupyter.widget-view+json": {
       "model_id": "5d8c62721b4f4ca0b046c38c6bf2a1c1",
       "version_major": 2,
       "version_minor": 0
      },
      "text/plain": [
       "Querying... #14:   0%|          | 0/563 [00:00<?, ?ex/s]"
      ]
     },
     "metadata": {},
     "output_type": "display_data"
    },
    {
     "data": {
      "application/vnd.jupyter.widget-view+json": {
       "model_id": "d78cb0ea4c614fb8a07ed8f1996f6244",
       "version_major": 2,
       "version_minor": 0
      },
      "text/plain": [
       "Querying... #4:   0%|          | 0/563 [00:00<?, ?ex/s]"
      ]
     },
     "metadata": {},
     "output_type": "display_data"
    },
    {
     "data": {
      "application/vnd.jupyter.widget-view+json": {
       "model_id": "e00dc2a8df074f15b0120e436e087e4d",
       "version_major": 2,
       "version_minor": 0
      },
      "text/plain": [
       "Querying... #17:   0%|          | 0/563 [00:00<?, ?ex/s]"
      ]
     },
     "metadata": {},
     "output_type": "display_data"
    },
    {
     "data": {
      "application/vnd.jupyter.widget-view+json": {
       "model_id": "d5e572389aea49caacdeb486be733575",
       "version_major": 2,
       "version_minor": 0
      },
      "text/plain": [
       "Querying... #23:   0%|          | 0/563 [00:00<?, ?ex/s]"
      ]
     },
     "metadata": {},
     "output_type": "display_data"
    },
    {
     "data": {
      "application/vnd.jupyter.widget-view+json": {
       "model_id": "feb0966ddc7c41faa04f907c06b156d9",
       "version_major": 2,
       "version_minor": 0
      },
      "text/plain": [
       "Querying... #15:   0%|          | 0/563 [00:00<?, ?ex/s]"
      ]
     },
     "metadata": {},
     "output_type": "display_data"
    },
    {
     "data": {
      "application/vnd.jupyter.widget-view+json": {
       "model_id": "0ab498e78b9b411cb2da6642ab9ea6f0",
       "version_major": 2,
       "version_minor": 0
      },
      "text/plain": [
       "Querying... #19:   0%|          | 0/563 [00:00<?, ?ex/s]"
      ]
     },
     "metadata": {},
     "output_type": "display_data"
    },
    {
     "data": {
      "application/vnd.jupyter.widget-view+json": {
       "model_id": "e4b99b4530654c2ba2434146e9c87bd6",
       "version_major": 2,
       "version_minor": 0
      },
      "text/plain": [
       "Querying... #2:   0%|          | 0/563 [00:00<?, ?ex/s]"
      ]
     },
     "metadata": {},
     "output_type": "display_data"
    },
    {
     "data": {
      "application/vnd.jupyter.widget-view+json": {
       "model_id": "161bf9f9987e41b1a16c4ea287911878",
       "version_major": 2,
       "version_minor": 0
      },
      "text/plain": [
       "Querying... #16:   0%|          | 0/563 [00:00<?, ?ex/s]"
      ]
     },
     "metadata": {},
     "output_type": "display_data"
    },
    {
     "data": {
      "application/vnd.jupyter.widget-view+json": {
       "model_id": "cc0bb680507f44be8694d6b41f8bbe0d",
       "version_major": 2,
       "version_minor": 0
      },
      "text/plain": [
       "Querying... #10:   0%|          | 0/563 [00:00<?, ?ex/s]"
      ]
     },
     "metadata": {},
     "output_type": "display_data"
    },
    {
     "data": {
      "application/vnd.jupyter.widget-view+json": {
       "model_id": "8babf902330d407fb9e49c3bdd4fecb4",
       "version_major": 2,
       "version_minor": 0
      },
      "text/plain": [
       "Querying... #28:   0%|          | 0/562 [00:00<?, ?ex/s]"
      ]
     },
     "metadata": {},
     "output_type": "display_data"
    },
    {
     "data": {
      "application/vnd.jupyter.widget-view+json": {
       "model_id": "b096e30b9a594b988aecaad14d8d8ad5",
       "version_major": 2,
       "version_minor": 0
      },
      "text/plain": [
       "Querying... #22:   0%|          | 0/563 [00:00<?, ?ex/s]"
      ]
     },
     "metadata": {},
     "output_type": "display_data"
    },
    {
     "data": {
      "application/vnd.jupyter.widget-view+json": {
       "model_id": "9090b841f1ce4bba8773f8e265f44d9e",
       "version_major": 2,
       "version_minor": 0
      },
      "text/plain": [
       "Querying... #18:   0%|          | 0/563 [00:00<?, ?ex/s]"
      ]
     },
     "metadata": {},
     "output_type": "display_data"
    },
    {
     "name": "stdout",
     "output_type": "stream",
     "text": [
      " "
     ]
    },
    {
     "data": {
      "application/vnd.jupyter.widget-view+json": {
       "model_id": "ebafd7498fd14601aaf171379405f21c",
       "version_major": 2,
       "version_minor": 0
      },
      "text/plain": [
       "Querying... #30:   0%|          | 0/562 [00:00<?, ?ex/s]"
      ]
     },
     "metadata": {},
     "output_type": "display_data"
    },
    {
     "data": {
      "application/vnd.jupyter.widget-view+json": {
       "model_id": "43dd005062d84a20b8f30ac1198ed390",
       "version_major": 2,
       "version_minor": 0
      },
      "text/plain": [
       "Querying... #11:   0%|          | 0/563 [00:00<?, ?ex/s]"
      ]
     },
     "metadata": {},
     "output_type": "display_data"
    },
    {
     "data": {
      "application/vnd.jupyter.widget-view+json": {
       "model_id": "5549b38c5c7a43e5acccdb564cf33e2b",
       "version_major": 2,
       "version_minor": 0
      },
      "text/plain": [
       "Querying... #26:   0%|          | 0/563 [00:00<?, ?ex/s]"
      ]
     },
     "metadata": {},
     "output_type": "display_data"
    },
    {
     "name": "stdout",
     "output_type": "stream",
     "text": [
      " "
     ]
    },
    {
     "data": {
      "application/vnd.jupyter.widget-view+json": {
       "model_id": "b6e67ec8d1e9453d827f78eb698f7618",
       "version_major": 2,
       "version_minor": 0
      },
      "text/plain": [
       "Querying... #20:   0%|          | 0/563 [00:00<?, ?ex/s]"
      ]
     },
     "metadata": {},
     "output_type": "display_data"
    },
    {
     "data": {
      "application/vnd.jupyter.widget-view+json": {
       "model_id": "366b58a3b90a43999c12eb1775f35b09",
       "version_major": 2,
       "version_minor": 0
      },
      "text/plain": [
       "Querying... #29:   0%|          | 0/562 [00:00<?, ?ex/s]"
      ]
     },
     "metadata": {},
     "output_type": "display_data"
    },
    {
     "data": {
      "application/vnd.jupyter.widget-view+json": {
       "model_id": "428ee0419e6e4476a0e81d4d456a06a0",
       "version_major": 2,
       "version_minor": 0
      },
      "text/plain": [
       "Querying... #3:   0%|          | 0/563 [00:00<?, ?ex/s]"
      ]
     },
     "metadata": {},
     "output_type": "display_data"
    },
    {
     "data": {
      "application/vnd.jupyter.widget-view+json": {
       "model_id": "05be4dd687274a708597596a8aec21a3",
       "version_major": 2,
       "version_minor": 0
      },
      "text/plain": [
       "Querying... #31:   0%|          | 0/562 [00:00<?, ?ex/s]"
      ]
     },
     "metadata": {},
     "output_type": "display_data"
    },
    {
     "data": {
      "application/vnd.jupyter.widget-view+json": {
       "model_id": "275ac8c7eb0c4d4aa86a9260de826eff",
       "version_major": 2,
       "version_minor": 0
      },
      "text/plain": [
       "Querying... #21:   0%|          | 0/563 [00:00<?, ?ex/s]"
      ]
     },
     "metadata": {},
     "output_type": "display_data"
    },
    {
     "data": {
      "application/vnd.jupyter.widget-view+json": {
       "model_id": "35789c02dfba400dbf4a1cbd4d7ddde6",
       "version_major": 2,
       "version_minor": 0
      },
      "text/plain": [
       "Querying... #27:   0%|          | 0/562 [00:00<?, ?ex/s]"
      ]
     },
     "metadata": {},
     "output_type": "display_data"
    },
    {
     "data": {
      "application/vnd.jupyter.widget-view+json": {
       "model_id": "37193f380c264d85b9461508e4c17664",
       "version_major": 2,
       "version_minor": 0
      },
      "text/plain": [
       "Querying... #24:   0%|          | 0/563 [00:00<?, ?ex/s]"
      ]
     },
     "metadata": {},
     "output_type": "display_data"
    },
    {
     "data": {
      "application/vnd.jupyter.widget-view+json": {
       "model_id": "bf8738cee9524df49de567dd18458f0e",
       "version_major": 2,
       "version_minor": 0
      },
      "text/plain": [
       "Querying... #25:   0%|          | 0/563 [00:00<?, ?ex/s]"
      ]
     },
     "metadata": {},
     "output_type": "display_data"
    },
    {
     "name": "stdout",
     "output_type": "stream",
     "text": [
      "                                   "
     ]
    },
    {
     "data": {
      "application/vnd.jupyter.widget-view+json": {
       "model_id": "f23038faeb7d4d27af3676484984ee6e",
       "version_major": 2,
       "version_minor": 0
      },
      "text/plain": [
       "Finding duplicates... #0:   0%|          | 0/1 [00:00<?, ?ba/s]"
      ]
     },
     "metadata": {},
     "output_type": "display_data"
    },
    {
     "name": "stdout",
     "output_type": "stream",
     "text": [
      "  "
     ]
    },
    {
     "data": {
      "application/vnd.jupyter.widget-view+json": {
       "model_id": "3d032ddabd8a4b0cbded37b53eefee63",
       "version_major": 2,
       "version_minor": 0
      },
      "text/plain": [
       "Finding duplicates... #1:   0%|          | 0/1 [00:00<?, ?ba/s]"
      ]
     },
     "metadata": {},
     "output_type": "display_data"
    },
    {
     "data": {
      "application/vnd.jupyter.widget-view+json": {
       "model_id": "982fc23fb6854171a78426f17f3b5800",
       "version_major": 2,
       "version_minor": 0
      },
      "text/plain": [
       "Finding duplicates... #2:   0%|          | 0/1 [00:00<?, ?ba/s]"
      ]
     },
     "metadata": {},
     "output_type": "display_data"
    },
    {
     "name": "stdout",
     "output_type": "stream",
     "text": [
      " "
     ]
    },
    {
     "data": {
      "application/vnd.jupyter.widget-view+json": {
       "model_id": "492ce5a038dd490ab7d790aed58109ff",
       "version_major": 2,
       "version_minor": 0
      },
      "text/plain": [
       "Finding duplicates... #3:   0%|          | 0/1 [00:00<?, ?ba/s]"
      ]
     },
     "metadata": {},
     "output_type": "display_data"
    },
    {
     "name": "stdout",
     "output_type": "stream",
     "text": [
      " "
     ]
    },
    {
     "data": {
      "application/vnd.jupyter.widget-view+json": {
       "model_id": "040c61baaa2f4c81976606e3155d6f0d",
       "version_major": 2,
       "version_minor": 0
      },
      "text/plain": [
       "Finding duplicates... #4:   0%|          | 0/1 [00:00<?, ?ba/s]"
      ]
     },
     "metadata": {},
     "output_type": "display_data"
    },
    {
     "name": "stdout",
     "output_type": "stream",
     "text": [
      " "
     ]
    },
    {
     "data": {
      "application/vnd.jupyter.widget-view+json": {
       "model_id": "2c5fe5fda5784496bae5dae5505e3efc",
       "version_major": 2,
       "version_minor": 0
      },
      "text/plain": [
       "Finding duplicates... #5:   0%|          | 0/1 [00:00<?, ?ba/s]"
      ]
     },
     "metadata": {},
     "output_type": "display_data"
    },
    {
     "name": "stdout",
     "output_type": "stream",
     "text": [
      " "
     ]
    },
    {
     "data": {
      "application/vnd.jupyter.widget-view+json": {
       "model_id": "46ff200978464727b132c2f4229101b5",
       "version_major": 2,
       "version_minor": 0
      },
      "text/plain": [
       "Finding duplicates... #6:   0%|          | 0/1 [00:00<?, ?ba/s]"
      ]
     },
     "metadata": {},
     "output_type": "display_data"
    },
    {
     "data": {
      "application/vnd.jupyter.widget-view+json": {
       "model_id": "0b2d1fae387d4658b9278dc5226b453e",
       "version_major": 2,
       "version_minor": 0
      },
      "text/plain": [
       "Finding duplicates... #7:   0%|          | 0/1 [00:00<?, ?ba/s]"
      ]
     },
     "metadata": {},
     "output_type": "display_data"
    },
    {
     "name": "stdout",
     "output_type": "stream",
     "text": [
      " "
     ]
    },
    {
     "data": {
      "application/vnd.jupyter.widget-view+json": {
       "model_id": "b89e24a7b639408f85078b4882ffa2e0",
       "version_major": 2,
       "version_minor": 0
      },
      "text/plain": [
       "Finding duplicates... #8:   0%|          | 0/1 [00:00<?, ?ba/s]"
      ]
     },
     "metadata": {},
     "output_type": "display_data"
    },
    {
     "name": "stdout",
     "output_type": "stream",
     "text": [
      " "
     ]
    },
    {
     "data": {
      "application/vnd.jupyter.widget-view+json": {
       "model_id": "39f817fe9b834092bde3d6779278dce9",
       "version_major": 2,
       "version_minor": 0
      },
      "text/plain": [
       "Finding duplicates... #9:   0%|          | 0/1 [00:00<?, ?ba/s]"
      ]
     },
     "metadata": {},
     "output_type": "display_data"
    },
    {
     "name": "stdout",
     "output_type": "stream",
     "text": [
      " "
     ]
    },
    {
     "data": {
      "application/vnd.jupyter.widget-view+json": {
       "model_id": "e0693279daf44d269ea37521cf3a3d27",
       "version_major": 2,
       "version_minor": 0
      },
      "text/plain": [
       "Finding duplicates... #10:   0%|          | 0/1 [00:00<?, ?ba/s]"
      ]
     },
     "metadata": {},
     "output_type": "display_data"
    },
    {
     "name": "stdout",
     "output_type": "stream",
     "text": [
      " "
     ]
    },
    {
     "data": {
      "application/vnd.jupyter.widget-view+json": {
       "model_id": "dc6b2151fe7e4f71ac5cae1468491342",
       "version_major": 2,
       "version_minor": 0
      },
      "text/plain": [
       "Finding duplicates... #11:   0%|          | 0/1 [00:00<?, ?ba/s]"
      ]
     },
     "metadata": {},
     "output_type": "display_data"
    },
    {
     "name": "stdout",
     "output_type": "stream",
     "text": [
      " "
     ]
    },
    {
     "data": {
      "application/vnd.jupyter.widget-view+json": {
       "model_id": "f2c29a06fc4a4f099c36010c1afa138a",
       "version_major": 2,
       "version_minor": 0
      },
      "text/plain": [
       "Finding duplicates... #12:   0%|          | 0/1 [00:00<?, ?ba/s]"
      ]
     },
     "metadata": {},
     "output_type": "display_data"
    },
    {
     "name": "stdout",
     "output_type": "stream",
     "text": [
      " "
     ]
    },
    {
     "data": {
      "application/vnd.jupyter.widget-view+json": {
       "model_id": "c32a2f697d49401db5a4f257aa27ce12",
       "version_major": 2,
       "version_minor": 0
      },
      "text/plain": [
       "Finding duplicates... #13:   0%|          | 0/1 [00:00<?, ?ba/s]"
      ]
     },
     "metadata": {},
     "output_type": "display_data"
    },
    {
     "name": "stdout",
     "output_type": "stream",
     "text": [
      "  "
     ]
    },
    {
     "data": {
      "application/vnd.jupyter.widget-view+json": {
       "model_id": "11912c94feed4e9ab695cabb90c2970c",
       "version_major": 2,
       "version_minor": 0
      },
      "text/plain": [
       "Finding duplicates... #14:   0%|          | 0/1 [00:00<?, ?ba/s]"
      ]
     },
     "metadata": {},
     "output_type": "display_data"
    },
    {
     "name": "stdout",
     "output_type": "stream",
     "text": [
      " "
     ]
    },
    {
     "data": {
      "application/vnd.jupyter.widget-view+json": {
       "model_id": "1652ceeaf7874d6a947f1b53a36c766c",
       "version_major": 2,
       "version_minor": 0
      },
      "text/plain": [
       "Finding duplicates... #15:   0%|          | 0/1 [00:00<?, ?ba/s]"
      ]
     },
     "metadata": {},
     "output_type": "display_data"
    },
    {
     "data": {
      "application/vnd.jupyter.widget-view+json": {
       "model_id": "06fca22d4dc44c33985737b44efa344e",
       "version_major": 2,
       "version_minor": 0
      },
      "text/plain": [
       "Finding duplicates... #16:   0%|          | 0/1 [00:00<?, ?ba/s]"
      ]
     },
     "metadata": {},
     "output_type": "display_data"
    },
    {
     "name": "stdout",
     "output_type": "stream",
     "text": [
      "  "
     ]
    },
    {
     "data": {
      "application/vnd.jupyter.widget-view+json": {
       "model_id": "827b40bb8a254ff9a7f1e106b91b04d2",
       "version_major": 2,
       "version_minor": 0
      },
      "text/plain": [
       "Finding duplicates... #17:   0%|          | 0/1 [00:00<?, ?ba/s]"
      ]
     },
     "metadata": {},
     "output_type": "display_data"
    },
    {
     "data": {
      "application/vnd.jupyter.widget-view+json": {
       "model_id": "715d1e43e92f4429ac2d76466359d8e0",
       "version_major": 2,
       "version_minor": 0
      },
      "text/plain": [
       "Finding duplicates... #18:   0%|          | 0/1 [00:00<?, ?ba/s]"
      ]
     },
     "metadata": {},
     "output_type": "display_data"
    },
    {
     "name": "stdout",
     "output_type": "stream",
     "text": [
      " "
     ]
    },
    {
     "data": {
      "application/vnd.jupyter.widget-view+json": {
       "model_id": "00b75c3799a741dab08aee139f10c315",
       "version_major": 2,
       "version_minor": 0
      },
      "text/plain": [
       "Finding duplicates... #19:   0%|          | 0/1 [00:00<?, ?ba/s]"
      ]
     },
     "metadata": {},
     "output_type": "display_data"
    },
    {
     "name": "stdout",
     "output_type": "stream",
     "text": [
      " "
     ]
    },
    {
     "data": {
      "application/vnd.jupyter.widget-view+json": {
       "model_id": "a0d3faa598c94c0c983d77af9539f434",
       "version_major": 2,
       "version_minor": 0
      },
      "text/plain": [
       "Finding duplicates... #20:   0%|          | 0/1 [00:00<?, ?ba/s]"
      ]
     },
     "metadata": {},
     "output_type": "display_data"
    },
    {
     "name": "stdout",
     "output_type": "stream",
     "text": [
      "  "
     ]
    },
    {
     "data": {
      "application/vnd.jupyter.widget-view+json": {
       "model_id": "591eb0428d5c4afea43f4f127c0c630b",
       "version_major": 2,
       "version_minor": 0
      },
      "text/plain": [
       "Finding duplicates... #22:   0%|          | 0/1 [00:00<?, ?ba/s]"
      ]
     },
     "metadata": {},
     "output_type": "display_data"
    },
    {
     "data": {
      "application/vnd.jupyter.widget-view+json": {
       "model_id": "1a50dbc2ba844692a36eed7a0c90552a",
       "version_major": 2,
       "version_minor": 0
      },
      "text/plain": [
       "Finding duplicates... #21:   0%|          | 0/1 [00:00<?, ?ba/s]"
      ]
     },
     "metadata": {},
     "output_type": "display_data"
    },
    {
     "data": {
      "application/vnd.jupyter.widget-view+json": {
       "model_id": "90edfdda01a742cbb661665262510860",
       "version_major": 2,
       "version_minor": 0
      },
      "text/plain": [
       "Finding duplicates... #23:   0%|          | 0/1 [00:00<?, ?ba/s]"
      ]
     },
     "metadata": {},
     "output_type": "display_data"
    },
    {
     "name": "stdout",
     "output_type": "stream",
     "text": [
      "     "
     ]
    },
    {
     "data": {
      "application/vnd.jupyter.widget-view+json": {
       "model_id": "eae1fc6a64da42adb7c71a2afb86bcaf",
       "version_major": 2,
       "version_minor": 0
      },
      "text/plain": [
       "Finding duplicates... #26:   0%|          | 0/1 [00:00<?, ?ba/s]"
      ]
     },
     "metadata": {},
     "output_type": "display_data"
    },
    {
     "name": "stdout",
     "output_type": "stream",
     "text": [
      "  "
     ]
    },
    {
     "data": {
      "application/vnd.jupyter.widget-view+json": {
       "model_id": "0d54ff11016f4883af5060f34332320e",
       "version_major": 2,
       "version_minor": 0
      },
      "text/plain": [
       "Finding duplicates... #27:   0%|          | 0/1 [00:00<?, ?ba/s]"
      ]
     },
     "metadata": {},
     "output_type": "display_data"
    },
    {
     "name": "stdout",
     "output_type": "stream",
     "text": [
      " "
     ]
    },
    {
     "data": {
      "application/vnd.jupyter.widget-view+json": {
       "model_id": "f710bba5803e49e08bf7557081727d97",
       "version_major": 2,
       "version_minor": 0
      },
      "text/plain": [
       "Finding duplicates... #24:   0%|          | 0/1 [00:00<?, ?ba/s]"
      ]
     },
     "metadata": {},
     "output_type": "display_data"
    },
    {
     "data": {
      "application/vnd.jupyter.widget-view+json": {
       "model_id": "4d7980e10cad47dcab728ae51da92ad0",
       "version_major": 2,
       "version_minor": 0
      },
      "text/plain": [
       "Finding duplicates... #25:   0%|          | 0/1 [00:00<?, ?ba/s]"
      ]
     },
     "metadata": {},
     "output_type": "display_data"
    },
    {
     "data": {
      "application/vnd.jupyter.widget-view+json": {
       "model_id": "b816ef2c157643beb87f8df75022fec1",
       "version_major": 2,
       "version_minor": 0
      },
      "text/plain": [
       "Finding duplicates... #28:   0%|          | 0/1 [00:00<?, ?ba/s]"
      ]
     },
     "metadata": {},
     "output_type": "display_data"
    },
    {
     "data": {
      "application/vnd.jupyter.widget-view+json": {
       "model_id": "9b0f4155dcd94700bc0552eaf029277e",
       "version_major": 2,
       "version_minor": 0
      },
      "text/plain": [
       "Finding duplicates... #30:   0%|          | 0/1 [00:00<?, ?ba/s]"
      ]
     },
     "metadata": {},
     "output_type": "display_data"
    },
    {
     "data": {
      "application/vnd.jupyter.widget-view+json": {
       "model_id": "05e2acb29c5149b49f9e921cc13f569a",
       "version_major": 2,
       "version_minor": 0
      },
      "text/plain": [
       "Finding duplicates... #29:   0%|          | 0/1 [00:00<?, ?ba/s]"
      ]
     },
     "metadata": {},
     "output_type": "display_data"
    },
    {
     "data": {
      "application/vnd.jupyter.widget-view+json": {
       "model_id": "b2a11197ab96467d822a85ceba2e04b6",
       "version_major": 2,
       "version_minor": 0
      },
      "text/plain": [
       "Finding duplicates... #31:   0%|          | 0/1 [00:00<?, ?ba/s]"
      ]
     },
     "metadata": {},
     "output_type": "display_data"
    },
    {
     "data": {
      "application/vnd.jupyter.widget-view+json": {
       "model_id": "7940c1396014465eac6cdb55da472163",
       "version_major": 2,
       "version_minor": 0
      },
      "text/plain": [
       "Constructing graph...:   0%|          | 0/7757 [00:00<?, ?it/s]"
      ]
     },
     "metadata": {},
     "output_type": "display_data"
    },
    {
     "data": {
      "application/vnd.jupyter.widget-view+json": {
       "model_id": "9d1487390b8541ccbedc4b523d4c2b44",
       "version_major": 2,
       "version_minor": 0
      },
      "text/plain": [
       "Iterating over components...:   0%|          | 0/10557 [00:00<?, ?it/s]"
      ]
     },
     "metadata": {},
     "output_type": "display_data"
    },
    {
     "name": "stdout",
     "output_type": "stream",
     "text": [
      "                                                        "
     ]
    },
    {
     "data": {
      "application/vnd.jupyter.widget-view+json": {
       "model_id": "9cca15969a294d43844f6cdcf1b7c1e1",
       "version_major": 2,
       "version_minor": 0
      },
      "text/plain": [
       "Filtering duplicates... #0:   0%|          | 0/1 [00:00<?, ?ba/s]"
      ]
     },
     "metadata": {},
     "output_type": "display_data"
    },
    {
     "name": "stdout",
     "output_type": "stream",
     "text": [
      " "
     ]
    },
    {
     "data": {
      "application/vnd.jupyter.widget-view+json": {
       "model_id": "f9d89cdcdbac432a8714f2ee0f525915",
       "version_major": 2,
       "version_minor": 0
      },
      "text/plain": [
       "Filtering duplicates... #1:   0%|          | 0/1 [00:00<?, ?ba/s]"
      ]
     },
     "metadata": {},
     "output_type": "display_data"
    },
    {
     "name": "stdout",
     "output_type": "stream",
     "text": [
      " "
     ]
    },
    {
     "data": {
      "application/vnd.jupyter.widget-view+json": {
       "model_id": "7c7ee7db2d674f2091cd916e6108e01c",
       "version_major": 2,
       "version_minor": 0
      },
      "text/plain": [
       "Filtering duplicates... #8:   0%|          | 0/1 [00:00<?, ?ba/s]"
      ]
     },
     "metadata": {},
     "output_type": "display_data"
    },
    {
     "name": "stdout",
     "output_type": "stream",
     "text": [
      " "
     ]
    },
    {
     "data": {
      "application/vnd.jupyter.widget-view+json": {
       "model_id": "27f14a4c1d2d449d9a3a3463026ae5ae",
       "version_major": 2,
       "version_minor": 0
      },
      "text/plain": [
       "Filtering duplicates... #3:   0%|          | 0/1 [00:00<?, ?ba/s]"
      ]
     },
     "metadata": {},
     "output_type": "display_data"
    },
    {
     "data": {
      "application/vnd.jupyter.widget-view+json": {
       "model_id": "55d6b11170644f6abfc80a1ae38a837e",
       "version_major": 2,
       "version_minor": 0
      },
      "text/plain": [
       "Filtering duplicates... #4:   0%|          | 0/1 [00:00<?, ?ba/s]"
      ]
     },
     "metadata": {},
     "output_type": "display_data"
    },
    {
     "name": "stdout",
     "output_type": "stream",
     "text": [
      "   "
     ]
    },
    {
     "data": {
      "application/vnd.jupyter.widget-view+json": {
       "model_id": "d045572c9f1746ac8fbb6be6ae385f75",
       "version_major": 2,
       "version_minor": 0
      },
      "text/plain": [
       "Filtering duplicates... #6:   0%|          | 0/1 [00:00<?, ?ba/s]"
      ]
     },
     "metadata": {},
     "output_type": "display_data"
    },
    {
     "data": {
      "application/vnd.jupyter.widget-view+json": {
       "model_id": "cb8854a45025415aa4eaea1949d20d57",
       "version_major": 2,
       "version_minor": 0
      },
      "text/plain": [
       "Filtering duplicates... #2:   0%|          | 0/1 [00:00<?, ?ba/s]"
      ]
     },
     "metadata": {},
     "output_type": "display_data"
    },
    {
     "data": {
      "application/vnd.jupyter.widget-view+json": {
       "model_id": "90e9dfa75dba47399b5eec5f1634ca13",
       "version_major": 2,
       "version_minor": 0
      },
      "text/plain": [
       "Filtering duplicates... #10:   0%|          | 0/1 [00:00<?, ?ba/s]"
      ]
     },
     "metadata": {},
     "output_type": "display_data"
    },
    {
     "data": {
      "application/vnd.jupyter.widget-view+json": {
       "model_id": "04a0dab3ced644e89e182758bf628e14",
       "version_major": 2,
       "version_minor": 0
      },
      "text/plain": [
       "Filtering duplicates... #13:   0%|          | 0/1 [00:00<?, ?ba/s]"
      ]
     },
     "metadata": {},
     "output_type": "display_data"
    },
    {
     "data": {
      "application/vnd.jupyter.widget-view+json": {
       "model_id": "d2a680ca408945c081afb5c1aa1630a1",
       "version_major": 2,
       "version_minor": 0
      },
      "text/plain": [
       "Filtering duplicates... #5:   0%|          | 0/1 [00:00<?, ?ba/s]"
      ]
     },
     "metadata": {},
     "output_type": "display_data"
    },
    {
     "data": {
      "application/vnd.jupyter.widget-view+json": {
       "model_id": "84de4765805f449380eb570c7d9ae2f2",
       "version_major": 2,
       "version_minor": 0
      },
      "text/plain": [
       "Filtering duplicates... #11:   0%|          | 0/1 [00:00<?, ?ba/s]"
      ]
     },
     "metadata": {},
     "output_type": "display_data"
    },
    {
     "data": {
      "application/vnd.jupyter.widget-view+json": {
       "model_id": "0422136044794a53bd3ec6bce6472dcb",
       "version_major": 2,
       "version_minor": 0
      },
      "text/plain": [
       "Filtering duplicates... #9:   0%|          | 0/1 [00:00<?, ?ba/s]"
      ]
     },
     "metadata": {},
     "output_type": "display_data"
    },
    {
     "data": {
      "application/vnd.jupyter.widget-view+json": {
       "model_id": "ae7ee8d8d39c49829c5b63cfe16ee41d",
       "version_major": 2,
       "version_minor": 0
      },
      "text/plain": [
       "Filtering duplicates... #7:   0%|          | 0/1 [00:00<?, ?ba/s]"
      ]
     },
     "metadata": {},
     "output_type": "display_data"
    },
    {
     "data": {
      "application/vnd.jupyter.widget-view+json": {
       "model_id": "15e9fc0f245749089b363a958525bfcf",
       "version_major": 2,
       "version_minor": 0
      },
      "text/plain": [
       "Filtering duplicates... #17:   0%|          | 0/1 [00:00<?, ?ba/s]"
      ]
     },
     "metadata": {},
     "output_type": "display_data"
    },
    {
     "data": {
      "application/vnd.jupyter.widget-view+json": {
       "model_id": "c73e9414f56d4761bfe7cc99d81368ad",
       "version_major": 2,
       "version_minor": 0
      },
      "text/plain": [
       "Filtering duplicates... #12:   0%|          | 0/1 [00:00<?, ?ba/s]"
      ]
     },
     "metadata": {},
     "output_type": "display_data"
    },
    {
     "data": {
      "application/vnd.jupyter.widget-view+json": {
       "model_id": "13e84da4ef554c65b759a5999c3723bf",
       "version_major": 2,
       "version_minor": 0
      },
      "text/plain": [
       "Filtering duplicates... #18:   0%|          | 0/1 [00:00<?, ?ba/s]"
      ]
     },
     "metadata": {},
     "output_type": "display_data"
    },
    {
     "name": "stdout",
     "output_type": "stream",
     "text": [
      " "
     ]
    },
    {
     "data": {
      "application/vnd.jupyter.widget-view+json": {
       "model_id": "6f6a07e825a0444da224b59a7beef8da",
       "version_major": 2,
       "version_minor": 0
      },
      "text/plain": [
       "Filtering duplicates... #14:   0%|          | 0/1 [00:00<?, ?ba/s]"
      ]
     },
     "metadata": {},
     "output_type": "display_data"
    },
    {
     "data": {
      "application/vnd.jupyter.widget-view+json": {
       "model_id": "86d45dc82f4c47b3b79b701fecc374af",
       "version_major": 2,
       "version_minor": 0
      },
      "text/plain": [
       "Filtering duplicates... #16:   0%|          | 0/1 [00:00<?, ?ba/s]"
      ]
     },
     "metadata": {},
     "output_type": "display_data"
    },
    {
     "data": {
      "application/vnd.jupyter.widget-view+json": {
       "model_id": "918ae858fd2543dc9dfeb287cf88d296",
       "version_major": 2,
       "version_minor": 0
      },
      "text/plain": [
       "Filtering duplicates... #19:   0%|          | 0/1 [00:00<?, ?ba/s]"
      ]
     },
     "metadata": {},
     "output_type": "display_data"
    },
    {
     "data": {
      "application/vnd.jupyter.widget-view+json": {
       "model_id": "b6cd5ea2d2f74cb2b4db1fe88dc42a35",
       "version_major": 2,
       "version_minor": 0
      },
      "text/plain": [
       "Filtering duplicates... #20:   0%|          | 0/1 [00:00<?, ?ba/s]"
      ]
     },
     "metadata": {},
     "output_type": "display_data"
    },
    {
     "data": {
      "application/vnd.jupyter.widget-view+json": {
       "model_id": "5196f204364f4340992029528bbbc9f4",
       "version_major": 2,
       "version_minor": 0
      },
      "text/plain": [
       "Filtering duplicates... #15:   0%|          | 0/1 [00:00<?, ?ba/s]"
      ]
     },
     "metadata": {},
     "output_type": "display_data"
    },
    {
     "data": {
      "application/vnd.jupyter.widget-view+json": {
       "model_id": "1d0180f16c2c4c47a1ee4f8c7b610929",
       "version_major": 2,
       "version_minor": 0
      },
      "text/plain": [
       "Filtering duplicates... #23:   0%|          | 0/1 [00:00<?, ?ba/s]"
      ]
     },
     "metadata": {},
     "output_type": "display_data"
    },
    {
     "data": {
      "application/vnd.jupyter.widget-view+json": {
       "model_id": "1a1c3ecdd136439888d612686d779579",
       "version_major": 2,
       "version_minor": 0
      },
      "text/plain": [
       "Filtering duplicates... #22:   0%|          | 0/1 [00:00<?, ?ba/s]"
      ]
     },
     "metadata": {},
     "output_type": "display_data"
    },
    {
     "data": {
      "application/vnd.jupyter.widget-view+json": {
       "model_id": "e4ee540466a14d2da1ee4426b2a81737",
       "version_major": 2,
       "version_minor": 0
      },
      "text/plain": [
       "Filtering duplicates... #31:   0%|          | 0/1 [00:00<?, ?ba/s]"
      ]
     },
     "metadata": {},
     "output_type": "display_data"
    },
    {
     "data": {
      "application/vnd.jupyter.widget-view+json": {
       "model_id": "445cd83afa5f48119330ad8e6e34f159",
       "version_major": 2,
       "version_minor": 0
      },
      "text/plain": [
       "Filtering duplicates... #29:   0%|          | 0/1 [00:00<?, ?ba/s]"
      ]
     },
     "metadata": {},
     "output_type": "display_data"
    },
    {
     "name": "stdout",
     "output_type": "stream",
     "text": [
      " "
     ]
    },
    {
     "data": {
      "application/vnd.jupyter.widget-view+json": {
       "model_id": "533c5d2c818d4e0eb64bf406a707d0b0",
       "version_major": 2,
       "version_minor": 0
      },
      "text/plain": [
       "Filtering duplicates... #27:   0%|          | 0/1 [00:00<?, ?ba/s]"
      ]
     },
     "metadata": {},
     "output_type": "display_data"
    },
    {
     "data": {
      "application/vnd.jupyter.widget-view+json": {
       "model_id": "0a828c2cc12349148a8c0b26f9b44249",
       "version_major": 2,
       "version_minor": 0
      },
      "text/plain": [
       "Filtering duplicates... #28:   0%|          | 0/1 [00:00<?, ?ba/s]"
      ]
     },
     "metadata": {},
     "output_type": "display_data"
    },
    {
     "data": {
      "application/vnd.jupyter.widget-view+json": {
       "model_id": "2a39bae235344553849bbdfb5dde6528",
       "version_major": 2,
       "version_minor": 0
      },
      "text/plain": [
       "Filtering duplicates... #30:   0%|          | 0/1 [00:00<?, ?ba/s]"
      ]
     },
     "metadata": {},
     "output_type": "display_data"
    },
    {
     "data": {
      "application/vnd.jupyter.widget-view+json": {
       "model_id": "fedcf3ded4ef4abda233b26b22662780",
       "version_major": 2,
       "version_minor": 0
      },
      "text/plain": [
       "Filtering duplicates... #21:   0%|          | 0/1 [00:00<?, ?ba/s]"
      ]
     },
     "metadata": {},
     "output_type": "display_data"
    },
    {
     "data": {
      "application/vnd.jupyter.widget-view+json": {
       "model_id": "9ce7b112ef69413389ad5d1b2608ae73",
       "version_major": 2,
       "version_minor": 0
      },
      "text/plain": [
       "Filtering duplicates... #26:   0%|          | 0/1 [00:00<?, ?ba/s]"
      ]
     },
     "metadata": {},
     "output_type": "display_data"
    },
    {
     "data": {
      "application/vnd.jupyter.widget-view+json": {
       "model_id": "70e9313adecf4ddb800f00679f53e37d",
       "version_major": 2,
       "version_minor": 0
      },
      "text/plain": [
       "Filtering duplicates... #24:   0%|          | 0/1 [00:00<?, ?ba/s]"
      ]
     },
     "metadata": {},
     "output_type": "display_data"
    },
    {
     "data": {
      "application/vnd.jupyter.widget-view+json": {
       "model_id": "f9c1823ab45a4423bae7ac007d472340",
       "version_major": 2,
       "version_minor": 0
      },
      "text/plain": [
       "Filtering duplicates... #25:   0%|          | 0/1 [00:00<?, ?ba/s]"
      ]
     },
     "metadata": {},
     "output_type": "display_data"
    },
    {
     "name": "stdout",
     "output_type": "stream",
     "text": [
      "                                  "
     ]
    },
    {
     "data": {
      "application/vnd.jupyter.widget-view+json": {
       "model_id": "13bd07c942d44c9bafb51045b8f319ed",
       "version_major": 2,
       "version_minor": 0
      },
      "text/plain": [
       "#0:   0%|          | 0/1 [00:00<?, ?ba/s]"
      ]
     },
     "metadata": {},
     "output_type": "display_data"
    },
    {
     "name": "stdout",
     "output_type": "stream",
     "text": [
      " "
     ]
    },
    {
     "data": {
      "application/vnd.jupyter.widget-view+json": {
       "model_id": "9d14a457e302490bacb759104d3b4974",
       "version_major": 2,
       "version_minor": 0
      },
      "text/plain": [
       "#1:   0%|          | 0/1 [00:00<?, ?ba/s]"
      ]
     },
     "metadata": {},
     "output_type": "display_data"
    },
    {
     "name": "stdout",
     "output_type": "stream",
     "text": [
      " "
     ]
    },
    {
     "data": {
      "application/vnd.jupyter.widget-view+json": {
       "model_id": "a636473881154faea0dac7b1a7848809",
       "version_major": 2,
       "version_minor": 0
      },
      "text/plain": [
       "#2:   0%|          | 0/1 [00:00<?, ?ba/s]"
      ]
     },
     "metadata": {},
     "output_type": "display_data"
    },
    {
     "data": {
      "application/vnd.jupyter.widget-view+json": {
       "model_id": "17e7ead692d54d50a2ed8523c5f57820",
       "version_major": 2,
       "version_minor": 0
      },
      "text/plain": [
       "#3:   0%|          | 0/1 [00:00<?, ?ba/s]"
      ]
     },
     "metadata": {},
     "output_type": "display_data"
    },
    {
     "name": "stdout",
     "output_type": "stream",
     "text": [
      "  "
     ]
    },
    {
     "data": {
      "application/vnd.jupyter.widget-view+json": {
       "model_id": "fdbec260e3634c1e985665896244be40",
       "version_major": 2,
       "version_minor": 0
      },
      "text/plain": [
       "#4:   0%|          | 0/1 [00:00<?, ?ba/s]"
      ]
     },
     "metadata": {},
     "output_type": "display_data"
    },
    {
     "name": "stdout",
     "output_type": "stream",
     "text": [
      " "
     ]
    },
    {
     "data": {
      "application/vnd.jupyter.widget-view+json": {
       "model_id": "83005aede9894984bfaf2229568b0d7e",
       "version_major": 2,
       "version_minor": 0
      },
      "text/plain": [
       "#5:   0%|          | 0/1 [00:00<?, ?ba/s]"
      ]
     },
     "metadata": {},
     "output_type": "display_data"
    },
    {
     "name": "stdout",
     "output_type": "stream",
     "text": [
      " "
     ]
    },
    {
     "data": {
      "application/vnd.jupyter.widget-view+json": {
       "model_id": "7a08ea391552479382d5bfc146959727",
       "version_major": 2,
       "version_minor": 0
      },
      "text/plain": [
       "#6:   0%|          | 0/1 [00:00<?, ?ba/s]"
      ]
     },
     "metadata": {},
     "output_type": "display_data"
    },
    {
     "name": "stdout",
     "output_type": "stream",
     "text": [
      " "
     ]
    },
    {
     "data": {
      "application/vnd.jupyter.widget-view+json": {
       "model_id": "bb3cc019bbb740568b06f735dda8e32e",
       "version_major": 2,
       "version_minor": 0
      },
      "text/plain": [
       "#7:   0%|          | 0/1 [00:00<?, ?ba/s]"
      ]
     },
     "metadata": {},
     "output_type": "display_data"
    },
    {
     "name": "stdout",
     "output_type": "stream",
     "text": [
      " "
     ]
    },
    {
     "data": {
      "application/vnd.jupyter.widget-view+json": {
       "model_id": "48dc6698283a4594a58f0f2e2d552256",
       "version_major": 2,
       "version_minor": 0
      },
      "text/plain": [
       "#8:   0%|          | 0/1 [00:00<?, ?ba/s]"
      ]
     },
     "metadata": {},
     "output_type": "display_data"
    },
    {
     "name": "stdout",
     "output_type": "stream",
     "text": [
      " "
     ]
    },
    {
     "data": {
      "application/vnd.jupyter.widget-view+json": {
       "model_id": "e8d686b6ebdc4edca3f0be47a0fb2c20",
       "version_major": 2,
       "version_minor": 0
      },
      "text/plain": [
       "#9:   0%|          | 0/1 [00:00<?, ?ba/s]"
      ]
     },
     "metadata": {},
     "output_type": "display_data"
    },
    {
     "name": "stdout",
     "output_type": "stream",
     "text": [
      " "
     ]
    },
    {
     "data": {
      "application/vnd.jupyter.widget-view+json": {
       "model_id": "933f4ccd59244f2abde2b9e3dbe335c6",
       "version_major": 2,
       "version_minor": 0
      },
      "text/plain": [
       "#10:   0%|          | 0/1 [00:00<?, ?ba/s]"
      ]
     },
     "metadata": {},
     "output_type": "display_data"
    },
    {
     "name": "stdout",
     "output_type": "stream",
     "text": [
      " "
     ]
    },
    {
     "data": {
      "application/vnd.jupyter.widget-view+json": {
       "model_id": "98cf92741cc54b2bbc28ee969e2ff0b1",
       "version_major": 2,
       "version_minor": 0
      },
      "text/plain": [
       "#11:   0%|          | 0/1 [00:00<?, ?ba/s]"
      ]
     },
     "metadata": {},
     "output_type": "display_data"
    },
    {
     "name": "stdout",
     "output_type": "stream",
     "text": [
      " "
     ]
    },
    {
     "data": {
      "application/vnd.jupyter.widget-view+json": {
       "model_id": "8d6b5e63be7745e091628b3d4bb045ca",
       "version_major": 2,
       "version_minor": 0
      },
      "text/plain": [
       "#12:   0%|          | 0/1 [00:00<?, ?ba/s]"
      ]
     },
     "metadata": {},
     "output_type": "display_data"
    },
    {
     "name": "stdout",
     "output_type": "stream",
     "text": [
      " "
     ]
    },
    {
     "data": {
      "application/vnd.jupyter.widget-view+json": {
       "model_id": "6a95bae94f1947e39104ce18cba1bb50",
       "version_major": 2,
       "version_minor": 0
      },
      "text/plain": [
       "#13:   0%|          | 0/1 [00:00<?, ?ba/s]"
      ]
     },
     "metadata": {},
     "output_type": "display_data"
    },
    {
     "name": "stdout",
     "output_type": "stream",
     "text": [
      " "
     ]
    },
    {
     "data": {
      "application/vnd.jupyter.widget-view+json": {
       "model_id": "f847b098f46a44cf91b5fe23b700b22b",
       "version_major": 2,
       "version_minor": 0
      },
      "text/plain": [
       "#14:   0%|          | 0/1 [00:00<?, ?ba/s]"
      ]
     },
     "metadata": {},
     "output_type": "display_data"
    },
    {
     "data": {
      "application/vnd.jupyter.widget-view+json": {
       "model_id": "c3912b0fc60a41c6b5b8524f82540046",
       "version_major": 2,
       "version_minor": 0
      },
      "text/plain": [
       "#15:   0%|          | 0/1 [00:00<?, ?ba/s]"
      ]
     },
     "metadata": {},
     "output_type": "display_data"
    },
    {
     "name": "stdout",
     "output_type": "stream",
     "text": [
      "  "
     ]
    },
    {
     "data": {
      "application/vnd.jupyter.widget-view+json": {
       "model_id": "0287da7d37be431485a2361d6d280b02",
       "version_major": 2,
       "version_minor": 0
      },
      "text/plain": [
       "#16:   0%|          | 0/1 [00:00<?, ?ba/s]"
      ]
     },
     "metadata": {},
     "output_type": "display_data"
    },
    {
     "name": "stdout",
     "output_type": "stream",
     "text": [
      " "
     ]
    },
    {
     "data": {
      "application/vnd.jupyter.widget-view+json": {
       "model_id": "067efa6b29314f38ba6104872312a5bd",
       "version_major": 2,
       "version_minor": 0
      },
      "text/plain": [
       "#17:   0%|          | 0/1 [00:00<?, ?ba/s]"
      ]
     },
     "metadata": {},
     "output_type": "display_data"
    },
    {
     "name": "stdout",
     "output_type": "stream",
     "text": [
      " "
     ]
    },
    {
     "data": {
      "application/vnd.jupyter.widget-view+json": {
       "model_id": "0c8390d38ace42abafb6f904729a4887",
       "version_major": 2,
       "version_minor": 0
      },
      "text/plain": [
       "#18:   0%|          | 0/1 [00:00<?, ?ba/s]"
      ]
     },
     "metadata": {},
     "output_type": "display_data"
    },
    {
     "name": "stdout",
     "output_type": "stream",
     "text": [
      " "
     ]
    },
    {
     "data": {
      "application/vnd.jupyter.widget-view+json": {
       "model_id": "b8780afd05de49ca95191bcb63722592",
       "version_major": 2,
       "version_minor": 0
      },
      "text/plain": [
       "#19:   0%|          | 0/1 [00:00<?, ?ba/s]"
      ]
     },
     "metadata": {},
     "output_type": "display_data"
    },
    {
     "name": "stdout",
     "output_type": "stream",
     "text": [
      " "
     ]
    },
    {
     "data": {
      "application/vnd.jupyter.widget-view+json": {
       "model_id": "c45996e8f547417cb754b04a0a5d07be",
       "version_major": 2,
       "version_minor": 0
      },
      "text/plain": [
       "#20:   0%|          | 0/1 [00:00<?, ?ba/s]"
      ]
     },
     "metadata": {},
     "output_type": "display_data"
    },
    {
     "data": {
      "application/vnd.jupyter.widget-view+json": {
       "model_id": "e8f30a077e384d4782ca6409ca26c0ff",
       "version_major": 2,
       "version_minor": 0
      },
      "text/plain": [
       "#21:   0%|          | 0/1 [00:00<?, ?ba/s]"
      ]
     },
     "metadata": {},
     "output_type": "display_data"
    },
    {
     "name": "stdout",
     "output_type": "stream",
     "text": [
      "  "
     ]
    },
    {
     "data": {
      "application/vnd.jupyter.widget-view+json": {
       "model_id": "e62716891b4d4bd28de2500264732613",
       "version_major": 2,
       "version_minor": 0
      },
      "text/plain": [
       "#22:   0%|          | 0/1 [00:00<?, ?ba/s]"
      ]
     },
     "metadata": {},
     "output_type": "display_data"
    },
    {
     "data": {
      "application/vnd.jupyter.widget-view+json": {
       "model_id": "782e65f459f94f599a0d4e5ced2504ea",
       "version_major": 2,
       "version_minor": 0
      },
      "text/plain": [
       "#23:   0%|          | 0/1 [00:00<?, ?ba/s]"
      ]
     },
     "metadata": {},
     "output_type": "display_data"
    },
    {
     "name": "stdout",
     "output_type": "stream",
     "text": [
      "   "
     ]
    },
    {
     "data": {
      "application/vnd.jupyter.widget-view+json": {
       "model_id": "5f22c883672b4dc69dd99eed7a26a14c",
       "version_major": 2,
       "version_minor": 0
      },
      "text/plain": [
       "#26:   0%|          | 0/1 [00:00<?, ?ba/s]"
      ]
     },
     "metadata": {},
     "output_type": "display_data"
    },
    {
     "name": "stdout",
     "output_type": "stream",
     "text": [
      "  "
     ]
    },
    {
     "data": {
      "application/vnd.jupyter.widget-view+json": {
       "model_id": "066b018b1cef436391abf2f6b9378638",
       "version_major": 2,
       "version_minor": 0
      },
      "text/plain": [
       "#24:   0%|          | 0/1 [00:00<?, ?ba/s]"
      ]
     },
     "metadata": {},
     "output_type": "display_data"
    },
    {
     "data": {
      "application/vnd.jupyter.widget-view+json": {
       "model_id": "863d92b872e046fc96d3ca25d5942922",
       "version_major": 2,
       "version_minor": 0
      },
      "text/plain": [
       "#27:   0%|          | 0/1 [00:00<?, ?ba/s]"
      ]
     },
     "metadata": {},
     "output_type": "display_data"
    },
    {
     "name": "stdout",
     "output_type": "stream",
     "text": [
      " "
     ]
    },
    {
     "data": {
      "application/vnd.jupyter.widget-view+json": {
       "model_id": "ded757b2f25948a58baed1bf1c36c441",
       "version_major": 2,
       "version_minor": 0
      },
      "text/plain": [
       "#28:   0%|          | 0/1 [00:00<?, ?ba/s]"
      ]
     },
     "metadata": {},
     "output_type": "display_data"
    },
    {
     "data": {
      "application/vnd.jupyter.widget-view+json": {
       "model_id": "acf0a727d44b4493b23d2f21685b3afe",
       "version_major": 2,
       "version_minor": 0
      },
      "text/plain": [
       "#25:   0%|          | 0/1 [00:00<?, ?ba/s]"
      ]
     },
     "metadata": {},
     "output_type": "display_data"
    },
    {
     "name": "stdout",
     "output_type": "stream",
     "text": [
      " "
     ]
    },
    {
     "data": {
      "application/vnd.jupyter.widget-view+json": {
       "model_id": "784e64dfb0004f439c1c6b47927ff4f5",
       "version_major": 2,
       "version_minor": 0
      },
      "text/plain": [
       "#29:   0%|          | 0/1 [00:00<?, ?ba/s]"
      ]
     },
     "metadata": {},
     "output_type": "display_data"
    },
    {
     "name": "stdout",
     "output_type": "stream",
     "text": [
      " "
     ]
    },
    {
     "data": {
      "application/vnd.jupyter.widget-view+json": {
       "model_id": "a7358b349ebb461d88033ac5ef93c472",
       "version_major": 2,
       "version_minor": 0
      },
      "text/plain": [
       "#30:   0%|          | 0/1 [00:00<?, ?ba/s]"
      ]
     },
     "metadata": {},
     "output_type": "display_data"
    },
    {
     "data": {
      "application/vnd.jupyter.widget-view+json": {
       "model_id": "a2d7c8ce9f5648108e1fea84cb3b99d1",
       "version_major": 2,
       "version_minor": 0
      },
      "text/plain": [
       "#31:   0%|          | 0/1 [00:00<?, ?ba/s]"
      ]
     },
     "metadata": {},
     "output_type": "display_data"
    },
    {
     "data": {
      "text/html": [
       "<pre style=\"white-space:pre;overflow-x:auto;line-height:normal;font-family:Menlo,'DejaVu Sans Mono',consolas,'Courier New',monospace\"><span style=\"color: #7fbfbf; text-decoration-color: #7fbfbf\">[11/30/22 01:41:50] </span><span style=\"color: #000080; text-decoration-color: #000080\">INFO    </span> Final dataset size: <span style=\"color: #008080; text-decoration-color: #008080; font-weight: bold\">10557</span>                                              <a href=\"file:///tmp/ipykernel_72012/131731803.py\" target=\"_blank\"><span style=\"color: #7f7f7f; text-decoration-color: #7f7f7f\">131731803.py</span></a><span style=\"color: #7f7f7f; text-decoration-color: #7f7f7f\">:</span><a href=\"file:///tmp/ipykernel_72012/131731803.py#16\" target=\"_blank\"><span style=\"color: #7f7f7f; text-decoration-color: #7f7f7f\">16</span></a>\n",
       "</pre>\n"
      ],
      "text/plain": [
       "\u001b[2;36m[11/30/22 01:41:50]\u001b[0m\u001b[2;36m \u001b[0m\u001b[34mINFO    \u001b[0m Final dataset size: \u001b[1;36m10557\u001b[0m                                              \u001b]8;id=654371;file:///tmp/ipykernel_72012/131731803.py\u001b\\\u001b[2m131731803.py\u001b[0m\u001b]8;;\u001b\\\u001b[2m:\u001b[0m\u001b]8;id=406136;file:///tmp/ipykernel_72012/131731803.py#16\u001b\\\u001b[2m16\u001b[0m\u001b]8;;\u001b\\\n"
      ]
     },
     "metadata": {},
     "output_type": "display_data"
    }
   ],
   "source": [
    "ds = load_dataset(\"wikitext\", \"wikitext-103-v1\", split=\"train[:1%]\")\n",
    "logger.info(f\"Original dataset size: {len(ds)}\")\n",
    "datasources = [\n",
    "    {\n",
    "        \"dataset\": ds,\n",
    "        \"columns\": [\"text\"],\n",
    "        \"filters\": [check_char_repetition, check_flagged_words],\n",
    "        \"cleaners\": [remove_empty_lines, normalize_whitespace],\n",
    "    },\n",
    "    # ...\n",
    "]\n",
    "\n",
    "global_filters = [minhash_dedup]\n",
    "pipeline = Pipeline(datasources)\n",
    "pipeline.run(global_filters=global_filters)\n",
    "logger.info(f\"Final dataset size: {len(pipeline.datasources[0]['dataset'])}\")\n",
    "\n",
    "assert len(ds) > len(pipeline.datasources[0][\"dataset\"])"
   ]
  },
  {
   "cell_type": "code",
   "execution_count": null,
   "metadata": {},
   "outputs": [
    {
     "data": {
      "text/html": [
       "<pre style=\"white-space:pre;overflow-x:auto;line-height:normal;font-family:Menlo,'DejaVu Sans Mono',consolas,'Courier New',monospace\"><span style=\"color: #7fbfbf; text-decoration-color: #7fbfbf\">[11/30/22 01:41:53] </span><span style=\"color: #000080; text-decoration-color: #000080\">INFO    </span> Running datasource: wikitext                                          <a href=\"file:///tmp/ipykernel_72012/1743738010.py\" target=\"_blank\"><span style=\"color: #7f7f7f; text-decoration-color: #7f7f7f\">1743738010.py</span></a><span style=\"color: #7f7f7f; text-decoration-color: #7f7f7f\">:</span><a href=\"file:///tmp/ipykernel_72012/1743738010.py#25\" target=\"_blank\"><span style=\"color: #7f7f7f; text-decoration-color: #7f7f7f\">25</span></a>\n",
       "</pre>\n"
      ],
      "text/plain": [
       "\u001b[2;36m[11/30/22 01:41:53]\u001b[0m\u001b[2;36m \u001b[0m\u001b[34mINFO    \u001b[0m Running datasource: wikitext                                          \u001b]8;id=179809;file:///tmp/ipykernel_72012/1743738010.py\u001b\\\u001b[2m1743738010.py\u001b[0m\u001b]8;;\u001b\\\u001b[2m:\u001b[0m\u001b]8;id=952882;file:///tmp/ipykernel_72012/1743738010.py#25\u001b\\\u001b[2m25\u001b[0m\u001b]8;;\u001b\\\n"
      ]
     },
     "metadata": {},
     "output_type": "display_data"
    },
    {
     "data": {
      "text/html": [
       "<pre style=\"white-space:pre;overflow-x:auto;line-height:normal;font-family:Menlo,'DejaVu Sans Mono',consolas,'Courier New',monospace\"><span style=\"color: #7fbfbf; text-decoration-color: #7fbfbf\">                    </span><span style=\"color: #000080; text-decoration-color: #000080\">INFO    </span> Running filter: check_char_repetition on text                         <a href=\"file:///tmp/ipykernel_72012/1743738010.py\" target=\"_blank\"><span style=\"color: #7f7f7f; text-decoration-color: #7f7f7f\">1743738010.py</span></a><span style=\"color: #7f7f7f; text-decoration-color: #7f7f7f\">:</span><a href=\"file:///tmp/ipykernel_72012/1743738010.py#48\" target=\"_blank\"><span style=\"color: #7f7f7f; text-decoration-color: #7f7f7f\">48</span></a>\n",
       "</pre>\n"
      ],
      "text/plain": [
       "\u001b[2;36m                   \u001b[0m\u001b[2;36m \u001b[0m\u001b[34mINFO    \u001b[0m Running filter: check_char_repetition on text                         \u001b]8;id=740765;file:///tmp/ipykernel_72012/1743738010.py\u001b\\\u001b[2m1743738010.py\u001b[0m\u001b]8;;\u001b\\\u001b[2m:\u001b[0m\u001b]8;id=567845;file:///tmp/ipykernel_72012/1743738010.py#48\u001b\\\u001b[2m48\u001b[0m\u001b]8;;\u001b\\\n"
      ]
     },
     "metadata": {},
     "output_type": "display_data"
    },
    {
     "name": "stdout",
     "output_type": "stream",
     "text": [
      "                                "
     ]
    },
    {
     "data": {
      "text/html": [
       "<pre style=\"white-space:pre;overflow-x:auto;line-height:normal;font-family:Menlo,'DejaVu Sans Mono',consolas,'Courier New',monospace\"><span style=\"color: #7fbfbf; text-decoration-color: #7fbfbf\">                    </span><span style=\"color: #000080; text-decoration-color: #000080\">INFO    </span> Running filter: check_flagged_words on text                           <a href=\"file:///tmp/ipykernel_72012/1743738010.py\" target=\"_blank\"><span style=\"color: #7f7f7f; text-decoration-color: #7f7f7f\">1743738010.py</span></a><span style=\"color: #7f7f7f; text-decoration-color: #7f7f7f\">:</span><a href=\"file:///tmp/ipykernel_72012/1743738010.py#48\" target=\"_blank\"><span style=\"color: #7f7f7f; text-decoration-color: #7f7f7f\">48</span></a>\n",
       "</pre>\n"
      ],
      "text/plain": [
       "\u001b[2;36m                   \u001b[0m\u001b[2;36m \u001b[0m\u001b[34mINFO    \u001b[0m Running filter: check_flagged_words on text                           \u001b]8;id=702184;file:///tmp/ipykernel_72012/1743738010.py\u001b\\\u001b[2m1743738010.py\u001b[0m\u001b]8;;\u001b\\\u001b[2m:\u001b[0m\u001b]8;id=116188;file:///tmp/ipykernel_72012/1743738010.py#48\u001b\\\u001b[2m48\u001b[0m\u001b]8;;\u001b\\\n"
      ]
     },
     "metadata": {},
     "output_type": "display_data"
    },
    {
     "name": "stdout",
     "output_type": "stream",
     "text": [
      "                                "
     ]
    },
    {
     "data": {
      "text/html": [
       "<pre style=\"white-space:pre;overflow-x:auto;line-height:normal;font-family:Menlo,'DejaVu Sans Mono',consolas,'Courier New',monospace\"><span style=\"color: #7fbfbf; text-decoration-color: #7fbfbf\">                    </span><span style=\"color: #000080; text-decoration-color: #000080\">INFO    </span> Running cleaner: remove_empty_lines on text                           <a href=\"file:///tmp/ipykernel_72012/1743738010.py\" target=\"_blank\"><span style=\"color: #7f7f7f; text-decoration-color: #7f7f7f\">1743738010.py</span></a><span style=\"color: #7f7f7f; text-decoration-color: #7f7f7f\">:</span><a href=\"file:///tmp/ipykernel_72012/1743738010.py#61\" target=\"_blank\"><span style=\"color: #7f7f7f; text-decoration-color: #7f7f7f\">61</span></a>\n",
       "</pre>\n"
      ],
      "text/plain": [
       "\u001b[2;36m                   \u001b[0m\u001b[2;36m \u001b[0m\u001b[34mINFO    \u001b[0m Running cleaner: remove_empty_lines on text                           \u001b]8;id=555736;file:///tmp/ipykernel_72012/1743738010.py\u001b\\\u001b[2m1743738010.py\u001b[0m\u001b]8;;\u001b\\\u001b[2m:\u001b[0m\u001b]8;id=259800;file:///tmp/ipykernel_72012/1743738010.py#61\u001b\\\u001b[2m61\u001b[0m\u001b]8;;\u001b\\\n"
      ]
     },
     "metadata": {},
     "output_type": "display_data"
    },
    {
     "name": "stdout",
     "output_type": "stream",
     "text": [
      "                                "
     ]
    },
    {
     "data": {
      "text/html": [
       "<pre style=\"white-space:pre;overflow-x:auto;line-height:normal;font-family:Menlo,'DejaVu Sans Mono',consolas,'Courier New',monospace\"><span style=\"color: #7fbfbf; text-decoration-color: #7fbfbf\">                    </span><span style=\"color: #000080; text-decoration-color: #000080\">INFO    </span> Running cleaner: normalize_whitespace on text                         <a href=\"file:///tmp/ipykernel_72012/1743738010.py\" target=\"_blank\"><span style=\"color: #7f7f7f; text-decoration-color: #7f7f7f\">1743738010.py</span></a><span style=\"color: #7f7f7f; text-decoration-color: #7f7f7f\">:</span><a href=\"file:///tmp/ipykernel_72012/1743738010.py#61\" target=\"_blank\"><span style=\"color: #7f7f7f; text-decoration-color: #7f7f7f\">61</span></a>\n",
       "</pre>\n"
      ],
      "text/plain": [
       "\u001b[2;36m                   \u001b[0m\u001b[2;36m \u001b[0m\u001b[34mINFO    \u001b[0m Running cleaner: normalize_whitespace on text                         \u001b]8;id=134950;file:///tmp/ipykernel_72012/1743738010.py\u001b\\\u001b[2m1743738010.py\u001b[0m\u001b]8;;\u001b\\\u001b[2m:\u001b[0m\u001b]8;id=830635;file:///tmp/ipykernel_72012/1743738010.py#61\u001b\\\u001b[2m61\u001b[0m\u001b]8;;\u001b\\\n"
      ]
     },
     "metadata": {},
     "output_type": "display_data"
    },
    {
     "name": "stdout",
     "output_type": "stream",
     "text": [
      "                                "
     ]
    },
    {
     "data": {
      "text/html": [
       "<pre style=\"white-space:pre;overflow-x:auto;line-height:normal;font-family:Menlo,'DejaVu Sans Mono',consolas,'Courier New',monospace\"><span style=\"color: #7fbfbf; text-decoration-color: #7fbfbf\">                    </span><span style=\"color: #000080; text-decoration-color: #000080\">INFO    </span> Running datasource: wikitext                                          <a href=\"file:///tmp/ipykernel_72012/1743738010.py\" target=\"_blank\"><span style=\"color: #7f7f7f; text-decoration-color: #7f7f7f\">1743738010.py</span></a><span style=\"color: #7f7f7f; text-decoration-color: #7f7f7f\">:</span><a href=\"file:///tmp/ipykernel_72012/1743738010.py#25\" target=\"_blank\"><span style=\"color: #7f7f7f; text-decoration-color: #7f7f7f\">25</span></a>\n",
       "</pre>\n"
      ],
      "text/plain": [
       "\u001b[2;36m                   \u001b[0m\u001b[2;36m \u001b[0m\u001b[34mINFO    \u001b[0m Running datasource: wikitext                                          \u001b]8;id=14408;file:///tmp/ipykernel_72012/1743738010.py\u001b\\\u001b[2m1743738010.py\u001b[0m\u001b]8;;\u001b\\\u001b[2m:\u001b[0m\u001b]8;id=637105;file:///tmp/ipykernel_72012/1743738010.py#25\u001b\\\u001b[2m25\u001b[0m\u001b]8;;\u001b\\\n"
      ]
     },
     "metadata": {},
     "output_type": "display_data"
    },
    {
     "data": {
      "text/html": [
       "<pre style=\"white-space:pre;overflow-x:auto;line-height:normal;font-family:Menlo,'DejaVu Sans Mono',consolas,'Courier New',monospace\"><span style=\"color: #7fbfbf; text-decoration-color: #7fbfbf\">                    </span><span style=\"color: #000080; text-decoration-color: #000080\">INFO    </span> Running filter: check_char_repetition on text                         <a href=\"file:///tmp/ipykernel_72012/1743738010.py\" target=\"_blank\"><span style=\"color: #7f7f7f; text-decoration-color: #7f7f7f\">1743738010.py</span></a><span style=\"color: #7f7f7f; text-decoration-color: #7f7f7f\">:</span><a href=\"file:///tmp/ipykernel_72012/1743738010.py#48\" target=\"_blank\"><span style=\"color: #7f7f7f; text-decoration-color: #7f7f7f\">48</span></a>\n",
       "</pre>\n"
      ],
      "text/plain": [
       "\u001b[2;36m                   \u001b[0m\u001b[2;36m \u001b[0m\u001b[34mINFO    \u001b[0m Running filter: check_char_repetition on text                         \u001b]8;id=510781;file:///tmp/ipykernel_72012/1743738010.py\u001b\\\u001b[2m1743738010.py\u001b[0m\u001b]8;;\u001b\\\u001b[2m:\u001b[0m\u001b]8;id=530883;file:///tmp/ipykernel_72012/1743738010.py#48\u001b\\\u001b[2m48\u001b[0m\u001b]8;;\u001b\\\n"
      ]
     },
     "metadata": {},
     "output_type": "display_data"
    },
    {
     "name": "stdout",
     "output_type": "stream",
     "text": [
      "                                "
     ]
    },
    {
     "data": {
      "text/html": [
       "<pre style=\"white-space:pre;overflow-x:auto;line-height:normal;font-family:Menlo,'DejaVu Sans Mono',consolas,'Courier New',monospace\"><span style=\"color: #7fbfbf; text-decoration-color: #7fbfbf\">                    </span><span style=\"color: #000080; text-decoration-color: #000080\">INFO    </span> Running filter: check_flagged_words on text                           <a href=\"file:///tmp/ipykernel_72012/1743738010.py\" target=\"_blank\"><span style=\"color: #7f7f7f; text-decoration-color: #7f7f7f\">1743738010.py</span></a><span style=\"color: #7f7f7f; text-decoration-color: #7f7f7f\">:</span><a href=\"file:///tmp/ipykernel_72012/1743738010.py#48\" target=\"_blank\"><span style=\"color: #7f7f7f; text-decoration-color: #7f7f7f\">48</span></a>\n",
       "</pre>\n"
      ],
      "text/plain": [
       "\u001b[2;36m                   \u001b[0m\u001b[2;36m \u001b[0m\u001b[34mINFO    \u001b[0m Running filter: check_flagged_words on text                           \u001b]8;id=971967;file:///tmp/ipykernel_72012/1743738010.py\u001b\\\u001b[2m1743738010.py\u001b[0m\u001b]8;;\u001b\\\u001b[2m:\u001b[0m\u001b]8;id=117421;file:///tmp/ipykernel_72012/1743738010.py#48\u001b\\\u001b[2m48\u001b[0m\u001b]8;;\u001b\\\n"
      ]
     },
     "metadata": {},
     "output_type": "display_data"
    },
    {
     "name": "stdout",
     "output_type": "stream",
     "text": [
      "                                "
     ]
    },
    {
     "data": {
      "text/html": [
       "<pre style=\"white-space:pre;overflow-x:auto;line-height:normal;font-family:Menlo,'DejaVu Sans Mono',consolas,'Courier New',monospace\"><span style=\"color: #7fbfbf; text-decoration-color: #7fbfbf\">                    </span><span style=\"color: #000080; text-decoration-color: #000080\">INFO    </span> Running cleaner: remove_empty_lines on text                           <a href=\"file:///tmp/ipykernel_72012/1743738010.py\" target=\"_blank\"><span style=\"color: #7f7f7f; text-decoration-color: #7f7f7f\">1743738010.py</span></a><span style=\"color: #7f7f7f; text-decoration-color: #7f7f7f\">:</span><a href=\"file:///tmp/ipykernel_72012/1743738010.py#61\" target=\"_blank\"><span style=\"color: #7f7f7f; text-decoration-color: #7f7f7f\">61</span></a>\n",
       "</pre>\n"
      ],
      "text/plain": [
       "\u001b[2;36m                   \u001b[0m\u001b[2;36m \u001b[0m\u001b[34mINFO    \u001b[0m Running cleaner: remove_empty_lines on text                           \u001b]8;id=294286;file:///tmp/ipykernel_72012/1743738010.py\u001b\\\u001b[2m1743738010.py\u001b[0m\u001b]8;;\u001b\\\u001b[2m:\u001b[0m\u001b]8;id=65344;file:///tmp/ipykernel_72012/1743738010.py#61\u001b\\\u001b[2m61\u001b[0m\u001b]8;;\u001b\\\n"
      ]
     },
     "metadata": {},
     "output_type": "display_data"
    },
    {
     "name": "stdout",
     "output_type": "stream",
     "text": [
      "                                "
     ]
    },
    {
     "data": {
      "text/html": [
       "<pre style=\"white-space:pre;overflow-x:auto;line-height:normal;font-family:Menlo,'DejaVu Sans Mono',consolas,'Courier New',monospace\"><span style=\"color: #7fbfbf; text-decoration-color: #7fbfbf\">[11/30/22 01:41:54] </span><span style=\"color: #000080; text-decoration-color: #000080\">INFO    </span> Running cleaner: normalize_whitespace on text                         <a href=\"file:///tmp/ipykernel_72012/1743738010.py\" target=\"_blank\"><span style=\"color: #7f7f7f; text-decoration-color: #7f7f7f\">1743738010.py</span></a><span style=\"color: #7f7f7f; text-decoration-color: #7f7f7f\">:</span><a href=\"file:///tmp/ipykernel_72012/1743738010.py#61\" target=\"_blank\"><span style=\"color: #7f7f7f; text-decoration-color: #7f7f7f\">61</span></a>\n",
       "</pre>\n"
      ],
      "text/plain": [
       "\u001b[2;36m[11/30/22 01:41:54]\u001b[0m\u001b[2;36m \u001b[0m\u001b[34mINFO    \u001b[0m Running cleaner: normalize_whitespace on text                         \u001b]8;id=901607;file:///tmp/ipykernel_72012/1743738010.py\u001b\\\u001b[2m1743738010.py\u001b[0m\u001b]8;;\u001b\\\u001b[2m:\u001b[0m\u001b]8;id=948680;file:///tmp/ipykernel_72012/1743738010.py#61\u001b\\\u001b[2m61\u001b[0m\u001b]8;;\u001b\\\n"
      ]
     },
     "metadata": {},
     "output_type": "display_data"
    },
    {
     "name": "stdout",
     "output_type": "stream",
     "text": [
      "                                "
     ]
    },
    {
     "data": {
      "text/html": [
       "<pre style=\"white-space:pre;overflow-x:auto;line-height:normal;font-family:Menlo,'DejaVu Sans Mono',consolas,'Courier New',monospace\"><span style=\"color: #7fbfbf; text-decoration-color: #7fbfbf\">                    </span><span style=\"color: #000080; text-decoration-color: #000080\">INFO    </span> Running global filter: minhash_dedup                                  <a href=\"file:///tmp/ipykernel_72012/1743738010.py\" target=\"_blank\"><span style=\"color: #7f7f7f; text-decoration-color: #7f7f7f\">1743738010.py</span></a><span style=\"color: #7f7f7f; text-decoration-color: #7f7f7f\">:</span><a href=\"file:///tmp/ipykernel_72012/1743738010.py#85\" target=\"_blank\"><span style=\"color: #7f7f7f; text-decoration-color: #7f7f7f\">85</span></a>\n",
       "</pre>\n"
      ],
      "text/plain": [
       "\u001b[2;36m                   \u001b[0m\u001b[2;36m \u001b[0m\u001b[34mINFO    \u001b[0m Running global filter: minhash_dedup                                  \u001b]8;id=950836;file:///tmp/ipykernel_72012/1743738010.py\u001b\\\u001b[2m1743738010.py\u001b[0m\u001b]8;;\u001b\\\u001b[2m:\u001b[0m\u001b]8;id=439296;file:///tmp/ipykernel_72012/1743738010.py#85\u001b\\\u001b[2m85\u001b[0m\u001b]8;;\u001b\\\n"
      ]
     },
     "metadata": {},
     "output_type": "display_data"
    },
    {
     "name": "stdout",
     "output_type": "stream",
     "text": [
      "                                                                "
     ]
    },
    {
     "data": {
      "application/vnd.jupyter.widget-view+json": {
       "model_id": "0ecc42f87b8a40379635a26396846666",
       "version_major": 2,
       "version_minor": 0
      },
      "text/plain": [
       "Indexing signatures...:   0%|          | 0/18011 [00:00<?, ?it/s]"
      ]
     },
     "metadata": {},
     "output_type": "display_data"
    },
    {
     "name": "stdout",
     "output_type": "stream",
     "text": [
      "                                                                "
     ]
    },
    {
     "data": {
      "application/vnd.jupyter.widget-view+json": {
       "model_id": "215ad1f381cc489b9c302807db9b6dc8",
       "version_major": 2,
       "version_minor": 0
      },
      "text/plain": [
       "Constructing graph...:   0%|          | 0/7757 [00:00<?, ?it/s]"
      ]
     },
     "metadata": {},
     "output_type": "display_data"
    },
    {
     "data": {
      "application/vnd.jupyter.widget-view+json": {
       "model_id": "7d21e19393d344b0a7074d0a94c146ca",
       "version_major": 2,
       "version_minor": 0
      },
      "text/plain": [
       "Iterating over components...:   0%|          | 0/10557 [00:00<?, ?it/s]"
      ]
     },
     "metadata": {},
     "output_type": "display_data"
    },
    {
     "name": "stdout",
     "output_type": "stream",
     "text": [
      "                                                                "
     ]
    },
    {
     "data": {
      "text/html": [
       "<pre style=\"white-space:pre;overflow-x:auto;line-height:normal;font-family:Menlo,'DejaVu Sans Mono',consolas,'Courier New',monospace\"><span style=\"color: #7fbfbf; text-decoration-color: #7fbfbf\">[11/30/22 01:42:35] </span><span style=\"color: #000080; text-decoration-color: #000080\">INFO    </span> Final dataset size: <span style=\"color: #008080; text-decoration-color: #008080; font-weight: bold\">10557</span>                                              <a href=\"file:///tmp/ipykernel_72012/285196897.py\" target=\"_blank\"><span style=\"color: #7f7f7f; text-decoration-color: #7f7f7f\">285196897.py</span></a><span style=\"color: #7f7f7f; text-decoration-color: #7f7f7f\">:</span><a href=\"file:///tmp/ipykernel_72012/285196897.py#24\" target=\"_blank\"><span style=\"color: #7f7f7f; text-decoration-color: #7f7f7f\">24</span></a>\n",
       "</pre>\n"
      ],
      "text/plain": [
       "\u001b[2;36m[11/30/22 01:42:35]\u001b[0m\u001b[2;36m \u001b[0m\u001b[34mINFO    \u001b[0m Final dataset size: \u001b[1;36m10557\u001b[0m                                              \u001b]8;id=923059;file:///tmp/ipykernel_72012/285196897.py\u001b\\\u001b[2m285196897.py\u001b[0m\u001b]8;;\u001b\\\u001b[2m:\u001b[0m\u001b]8;id=589576;file:///tmp/ipykernel_72012/285196897.py#24\u001b\\\u001b[2m24\u001b[0m\u001b]8;;\u001b\\\n"
      ]
     },
     "metadata": {},
     "output_type": "display_data"
    }
   ],
   "source": [
    "# test the ability to skip global filters\n",
    "ds_1 = load_dataset(\"wikitext\", \"wikitext-103-v1\", split=\"train[:1%]\")\n",
    "\n",
    "datasources = [\n",
    "    {\n",
    "        \"dataset\": ds,\n",
    "        \"columns\": [\"text\"],\n",
    "        \"filters\": [check_char_repetition, check_flagged_words],\n",
    "        \"cleaners\": [remove_empty_lines, normalize_whitespace],\n",
    "        \"skip_global\": False,\n",
    "    },\n",
    "    {\n",
    "        \"dataset\": ds_1,\n",
    "        \"columns\": [\"text\"],\n",
    "        \"filters\": [check_char_repetition, check_flagged_words],\n",
    "        \"cleaners\": [remove_empty_lines, normalize_whitespace],\n",
    "        \"skip_global\": True,\n",
    "    },\n",
    "    # ...\n",
    "]\n",
    "pipeline = Pipeline(datasources)\n",
    "pipeline.run(global_filters=global_filters)\n",
    "logger.info(f\"Final dataset size: {len(pipeline.datasources[0]['dataset'])}\")\n",
    "\n",
    "assert len(pipeline.datasources[0][\"dataset\"]) < len(pipeline.datasources[1][\"dataset\"])"
   ]
  },
  {
   "cell_type": "code",
   "execution_count": null,
   "metadata": {},
   "outputs": [],
   "source": [
    "#| hide\n",
    "import nbdev; nbdev.nbdev_export()"
   ]
  }
 ],
 "metadata": {
  "kernelspec": {
   "display_name": "Python 3.10.8 ('squeakily')",
   "language": "python",
   "name": "python3"
  }
 },
 "nbformat": 4,
 "nbformat_minor": 4
}
