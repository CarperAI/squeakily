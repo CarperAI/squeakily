{
 "cells": [
  {
   "cell_type": "markdown",
   "metadata": {},
   "source": [
    "# core\n",
    "\n",
    "> This module contains all the core functions used in the library."
   ]
  },
  {
   "cell_type": "code",
   "execution_count": null,
   "metadata": {},
   "outputs": [],
   "source": [
    "#| default_exp core"
   ]
  },
  {
   "cell_type": "code",
   "execution_count": null,
   "metadata": {},
   "outputs": [],
   "source": [
    "#| export\n",
    "import logging\n",
    "import os\n",
    "\n",
    "from rich.logging import RichHandler\n",
    "\n",
    "logger = logging.getLogger(__name__)\n",
    "logger.setLevel(logging.INFO)\n",
    "logger.addHandler(RichHandler(rich_tracebacks=True))"
   ]
  },
  {
   "cell_type": "code",
   "execution_count": null,
   "metadata": {},
   "outputs": [],
   "source": [
    "#| hide\n",
    "from nbdev.showdoc import *"
   ]
  },
  {
   "cell_type": "code",
   "execution_count": null,
   "metadata": {},
   "outputs": [],
   "source": [
    "#| hide\n",
    "from datasets import load_dataset\n",
    "from squeakily.filter import check_char_repetition, check_flagged_words\n",
    "from squeakily.clean import remove_empty_lines, normalize_whitespace\n",
    "\n",
    "logging.getLogger(\"datasets\").setLevel(logging.ERROR)"
   ]
  },
  {
   "cell_type": "code",
   "execution_count": null,
   "metadata": {},
   "outputs": [],
   "source": [
    "#| export\n",
    "class Pipeline:\n",
    "    \"\"\"\n",
    "    A pipeline is a collection of datasources and their associated transformations to be run.\n",
    "    \"\"\"\n",
    "    def __init__(\n",
    "        self,\n",
    "        datasources # The datasources to be run\n",
    "    ):\n",
    "        self.datasources = datasources\n",
    "    \n",
    "    def run(\n",
    "        self,\n",
    "        cleaning_first=False # Whether to run the cleaning transformations first\n",
    "    ):\n",
    "        \"\"\"\n",
    "        Run the pipeline.\n",
    "        \"\"\"\n",
    "        for datasource in self.datasources:\n",
    "            dataset = datasource[\"dataset\"]\n",
    "            column = datasource[\"columns\"][0]\n",
    "            logger.info(f\"Running datasource: {dataset.builder_name}\")\n",
    "            if cleaning_first:\n",
    "                for c in datasource[\"cleaners\"]:\n",
    "                    logger.info(f\"Running cleaner: {c.__name__} on {column}\")\n",
    "                    dataset = dataset.map(\n",
    "                        lambda x: {column: c(x[column])},\n",
    "                        num_proc=os.cpu_count(),\n",
    "                    )\n",
    "                for f in datasource[\"filters\"]:\n",
    "                    logger.info(f\"Running filter: {f.__name__} on {column}\")\n",
    "                    dataset = dataset.filter(lambda x: f(x[column]))\n",
    "            else:\n",
    "                for f in datasource[\"filters\"]:\n",
    "                    logger.info(f\"Running filter: {f.__name__} on {column}\")\n",
    "                    dataset = dataset.filter(lambda x: f(x[column]))\n",
    "                for c in datasource[\"cleaners\"]:\n",
    "                    logger.info(f\"Running cleaner: {c.__name__} on {column}\")\n",
    "                    dataset = dataset.map(\n",
    "                        lambda x: {column: c(x[column])},\n",
    "                        num_proc=os.cpu_count(),\n",
    "                    )"
   ]
  },
  {
   "cell_type": "code",
   "execution_count": null,
   "metadata": {},
   "outputs": [
    {
     "data": {
      "text/html": [
       "<pre style=\"white-space:pre;overflow-x:auto;line-height:normal;font-family:Menlo,'DejaVu Sans Mono',consolas,'Courier New',monospace\"><span style=\"color: #7fbfbf; text-decoration-color: #7fbfbf\">[11/06/22 21:12:02] </span><span style=\"color: #000080; text-decoration-color: #000080\">INFO    </span> Running datasource: wikitext                                          <a href=\"file:///tmp/ipykernel_280307/3163439817.py\" target=\"_blank\"><span style=\"color: #7f7f7f; text-decoration-color: #7f7f7f\">3163439817.py</span></a><span style=\"color: #7f7f7f; text-decoration-color: #7f7f7f\">:</span><a href=\"file:///tmp/ipykernel_280307/3163439817.py#22\" target=\"_blank\"><span style=\"color: #7f7f7f; text-decoration-color: #7f7f7f\">22</span></a>\n",
       "</pre>\n"
      ],
      "text/plain": [
       "\u001b[2;36m[11/06/22 21:12:02]\u001b[0m\u001b[2;36m \u001b[0m\u001b[34mINFO    \u001b[0m Running datasource: wikitext                                          \u001b]8;id=537018;file:///tmp/ipykernel_280307/3163439817.py\u001b\\\u001b[2m3163439817.py\u001b[0m\u001b]8;;\u001b\\\u001b[2m:\u001b[0m\u001b]8;id=411647;file:///tmp/ipykernel_280307/3163439817.py#22\u001b\\\u001b[2m22\u001b[0m\u001b]8;;\u001b\\\n"
      ]
     },
     "metadata": {},
     "output_type": "display_data"
    },
    {
     "data": {
      "text/html": [
       "<pre style=\"white-space:pre;overflow-x:auto;line-height:normal;font-family:Menlo,'DejaVu Sans Mono',consolas,'Courier New',monospace\"><span style=\"color: #7fbfbf; text-decoration-color: #7fbfbf\">                    </span><span style=\"color: #000080; text-decoration-color: #000080\">INFO    </span> Running filter: check_char_repetition on text                         <a href=\"file:///tmp/ipykernel_280307/3163439817.py\" target=\"_blank\"><span style=\"color: #7f7f7f; text-decoration-color: #7f7f7f\">3163439817.py</span></a><span style=\"color: #7f7f7f; text-decoration-color: #7f7f7f\">:</span><a href=\"file:///tmp/ipykernel_280307/3163439817.py#35\" target=\"_blank\"><span style=\"color: #7f7f7f; text-decoration-color: #7f7f7f\">35</span></a>\n",
       "</pre>\n"
      ],
      "text/plain": [
       "\u001b[2;36m                   \u001b[0m\u001b[2;36m \u001b[0m\u001b[34mINFO    \u001b[0m Running filter: check_char_repetition on text                         \u001b]8;id=577052;file:///tmp/ipykernel_280307/3163439817.py\u001b\\\u001b[2m3163439817.py\u001b[0m\u001b]8;;\u001b\\\u001b[2m:\u001b[0m\u001b]8;id=150348;file:///tmp/ipykernel_280307/3163439817.py#35\u001b\\\u001b[2m35\u001b[0m\u001b]8;;\u001b\\\n"
      ]
     },
     "metadata": {},
     "output_type": "display_data"
    },
    {
     "data": {
      "text/html": [
       "<pre style=\"white-space:pre;overflow-x:auto;line-height:normal;font-family:Menlo,'DejaVu Sans Mono',consolas,'Courier New',monospace\"><span style=\"color: #7fbfbf; text-decoration-color: #7fbfbf\">                    </span><span style=\"color: #000080; text-decoration-color: #000080\">INFO    </span> Running filter: check_flagged_words on text                           <a href=\"file:///tmp/ipykernel_280307/3163439817.py\" target=\"_blank\"><span style=\"color: #7f7f7f; text-decoration-color: #7f7f7f\">3163439817.py</span></a><span style=\"color: #7f7f7f; text-decoration-color: #7f7f7f\">:</span><a href=\"file:///tmp/ipykernel_280307/3163439817.py#35\" target=\"_blank\"><span style=\"color: #7f7f7f; text-decoration-color: #7f7f7f\">35</span></a>\n",
       "</pre>\n"
      ],
      "text/plain": [
       "\u001b[2;36m                   \u001b[0m\u001b[2;36m \u001b[0m\u001b[34mINFO    \u001b[0m Running filter: check_flagged_words on text                           \u001b]8;id=808825;file:///tmp/ipykernel_280307/3163439817.py\u001b\\\u001b[2m3163439817.py\u001b[0m\u001b]8;;\u001b\\\u001b[2m:\u001b[0m\u001b]8;id=821956;file:///tmp/ipykernel_280307/3163439817.py#35\u001b\\\u001b[2m35\u001b[0m\u001b]8;;\u001b\\\n"
      ]
     },
     "metadata": {},
     "output_type": "display_data"
    },
    {
     "data": {
      "text/html": [
       "<pre style=\"white-space:pre;overflow-x:auto;line-height:normal;font-family:Menlo,'DejaVu Sans Mono',consolas,'Courier New',monospace\"><span style=\"color: #7fbfbf; text-decoration-color: #7fbfbf\">                    </span><span style=\"color: #000080; text-decoration-color: #000080\">INFO    </span> Running cleaner: remove_empty_lines on text                           <a href=\"file:///tmp/ipykernel_280307/3163439817.py\" target=\"_blank\"><span style=\"color: #7f7f7f; text-decoration-color: #7f7f7f\">3163439817.py</span></a><span style=\"color: #7f7f7f; text-decoration-color: #7f7f7f\">:</span><a href=\"file:///tmp/ipykernel_280307/3163439817.py#38\" target=\"_blank\"><span style=\"color: #7f7f7f; text-decoration-color: #7f7f7f\">38</span></a>\n",
       "</pre>\n"
      ],
      "text/plain": [
       "\u001b[2;36m                   \u001b[0m\u001b[2;36m \u001b[0m\u001b[34mINFO    \u001b[0m Running cleaner: remove_empty_lines on text                           \u001b]8;id=672553;file:///tmp/ipykernel_280307/3163439817.py\u001b\\\u001b[2m3163439817.py\u001b[0m\u001b]8;;\u001b\\\u001b[2m:\u001b[0m\u001b]8;id=786979;file:///tmp/ipykernel_280307/3163439817.py#38\u001b\\\u001b[2m38\u001b[0m\u001b]8;;\u001b\\\n"
      ]
     },
     "metadata": {},
     "output_type": "display_data"
    },
    {
     "name": "stdout",
     "output_type": "stream",
     "text": [
      "            "
     ]
    },
    {
     "data": {
      "text/html": [
       "<pre style=\"white-space:pre;overflow-x:auto;line-height:normal;font-family:Menlo,'DejaVu Sans Mono',consolas,'Courier New',monospace\"><span style=\"color: #7fbfbf; text-decoration-color: #7fbfbf\">                    </span><span style=\"color: #000080; text-decoration-color: #000080\">INFO    </span> Running cleaner: normalize_whitespace on text                         <a href=\"file:///tmp/ipykernel_280307/3163439817.py\" target=\"_blank\"><span style=\"color: #7f7f7f; text-decoration-color: #7f7f7f\">3163439817.py</span></a><span style=\"color: #7f7f7f; text-decoration-color: #7f7f7f\">:</span><a href=\"file:///tmp/ipykernel_280307/3163439817.py#38\" target=\"_blank\"><span style=\"color: #7f7f7f; text-decoration-color: #7f7f7f\">38</span></a>\n",
       "</pre>\n"
      ],
      "text/plain": [
       "\u001b[2;36m                   \u001b[0m\u001b[2;36m \u001b[0m\u001b[34mINFO    \u001b[0m Running cleaner: normalize_whitespace on text                         \u001b]8;id=296654;file:///tmp/ipykernel_280307/3163439817.py\u001b\\\u001b[2m3163439817.py\u001b[0m\u001b]8;;\u001b\\\u001b[2m:\u001b[0m\u001b]8;id=778363;file:///tmp/ipykernel_280307/3163439817.py#38\u001b\\\u001b[2m38\u001b[0m\u001b]8;;\u001b\\\n"
      ]
     },
     "metadata": {},
     "output_type": "display_data"
    },
    {
     "name": "stdout",
     "output_type": "stream",
     "text": [
      "            "
     ]
    }
   ],
   "source": [
    "ds = load_dataset(\"wikitext\", \"wikitext-103-v1\", split=\"train[:10%]\")\n",
    "datasources = [\n",
    "    {\n",
    "        \"dataset\": ds,\n",
    "        \"columns\": [\"text\"],\n",
    "        \"filters\": [check_char_repetition, check_flagged_words],\n",
    "        \"cleaners\": [remove_empty_lines, normalize_whitespace],\n",
    "    },\n",
    "    # ...\n",
    "]\n",
    "\n",
    "pipeline = Pipeline(datasources)\n",
    "pipeline.run()"
   ]
  },
  {
   "cell_type": "code",
   "execution_count": null,
   "metadata": {},
   "outputs": [],
   "source": [
    "#| hide\n",
    "import nbdev; nbdev.nbdev_export()"
   ]
  }
 ],
 "metadata": {
  "kernelspec": {
   "display_name": "Python 3.9.13 ('squeakily')",
   "language": "python",
   "name": "python3"
  }
 },
 "nbformat": 4,
 "nbformat_minor": 4
}
