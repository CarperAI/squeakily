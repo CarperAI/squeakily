{
 "cells": [
  {
   "cell_type": "markdown",
   "metadata": {},
   "source": [
    "# core\n",
    "\n",
    "> This module contains all the core functions used in the library."
   ]
  },
  {
   "cell_type": "code",
   "execution_count": null,
   "metadata": {},
   "outputs": [],
   "source": [
    "#| default_exp core"
   ]
  },
  {
   "cell_type": "code",
   "execution_count": null,
   "metadata": {},
   "outputs": [
    {
     "name": "stderr",
     "output_type": "stream",
     "text": [
      "/home/nathan/miniconda3/envs/squeakily/lib/python3.10/site-packages/tqdm/auto.py:22: TqdmWarning: IProgress not found. Please update jupyter and ipywidgets. See https://ipywidgets.readthedocs.io/en/stable/user_install.html\n",
      "  from .autonotebook import tqdm as notebook_tqdm\n"
     ]
    }
   ],
   "source": [
    "#| export\n",
    "import logging\n",
    "import os\n",
    "\n",
    "from datasets import concatenate_datasets, Dataset\n",
    "from rich.logging import RichHandler\n",
    "\n",
    "logger = logging.getLogger(__name__)\n",
    "logger.setLevel(logging.INFO)\n",
    "logger.addHandler(RichHandler(rich_tracebacks=True))\n",
    "# Turn off logging for datasets\n",
    "logging.getLogger(\"datasets\").setLevel(logging.ERROR)"
   ]
  },
  {
   "cell_type": "code",
   "execution_count": null,
   "metadata": {},
   "outputs": [],
   "source": [
    "#| hide\n",
    "from nbdev.showdoc import *"
   ]
  },
  {
   "cell_type": "code",
   "execution_count": null,
   "metadata": {},
   "outputs": [],
   "source": [
    "#| hide\n",
    "from datasets import load_dataset\n",
    "from squeakily.filter import check_char_repetition, check_flagged_words, minhash_dedup\n",
    "from squeakily.clean import remove_empty_lines, normalize_whitespace"
   ]
  },
  {
   "cell_type": "code",
   "execution_count": null,
   "metadata": {},
   "outputs": [],
   "source": [
    "#| export\n",
    "class Pipeline:\n",
    "    \"\"\"\n",
    "    A pipeline is a collection of datasources and their associated transformations to be run.\n",
    "    \"\"\"\n",
    "    def __init__(\n",
    "        self,\n",
    "        datasources # The datasources to be run\n",
    "    ):\n",
    "        self.datasources = datasources\n",
    "    \n",
    "    def run(\n",
    "        self,\n",
    "        global_filters=[], # Filters to be run at the dataset level rather than the example level\n",
    "        global_cleaners=[], # Cleaners to be run at the dataset level rather than the example level\n",
    "        cleaning_first=False, # Whether to run the cleaning transformations first\n",
    "        globals_first=False, # Whether to run the global transformations first\n",
    "    ):\n",
    "        \"\"\"\n",
    "        Run the pipeline.\n",
    "        \"\"\"\n",
    "        for datasource in self.datasources:\n",
    "            dataset = datasource[\"dataset\"]\n",
    "            column = datasource[\"columns\"][0]\n",
    "            logger.info(f\"Running datasource: {dataset.builder_name}\")\n",
    "            if cleaning_first:\n",
    "                for c in datasource[\"cleaners\"]:\n",
    "                    logger.info(f\"Running cleaner: {c.__name__} on {column}\")\n",
    "                    dataset = dataset.map(\n",
    "                        lambda x: {column: c(x[column])},\n",
    "                        num_proc=os.cpu_count(),\n",
    "                    )\n",
    "                for f in datasource[\"filters\"]:\n",
    "                    logger.info(f\"Running filter: {f.__name__} on {column}\")\n",
    "                    dataset = dataset.filter(\n",
    "                        lambda x: f(x[column]),\n",
    "                        num_proc=os.cpu_count(),\n",
    "                    )\n",
    "            else:\n",
    "                for f in datasource[\"filters\"]:\n",
    "                    logger.info(f\"Running filter: {f.__name__} on {column}\")\n",
    "                    dataset = dataset.filter(\n",
    "                        lambda x: f(x[column]),\n",
    "                        num_proc=os.cpu_count(),\n",
    "                    )\n",
    "                for c in datasource[\"cleaners\"]:\n",
    "                    logger.info(f\"Running cleaner: {c.__name__} on {column}\")\n",
    "                    dataset = dataset.map(\n",
    "                        lambda x: {column: c(x[column])},\n",
    "                        num_proc=os.cpu_count(),\n",
    "                    )\n",
    "        \n",
    "        if len(global_filters) > 0:\n",
    "            # concatenate all datasets\n",
    "            datasets = [\n",
    "                d[\"dataset\"] for d in self.datasources\n",
    "                if not d.get(\"skip_global\", False)\n",
    "            ]\n",
    "            global_column = self.datasources[0][\"columns\"][0]\n",
    "            global_dataset = concatenate_datasets(datasets)\n",
    "\n",
    "            # Add a column representing the original dataset name\n",
    "            md = []\n",
    "            for d in datasets:\n",
    "                md.extend([d.builder_name] * len(d))\n",
    "            meta_data = Dataset.from_dict({\"meta_data\": md})\n",
    "            global_dataset_with_meta = concatenate_datasets([global_dataset, meta_data], axis=1)\n",
    "\n",
    "            # Run the global filters\n",
    "            for f in global_filters:\n",
    "                logger.info(f\"Running global filter: {f.__name__}\")\n",
    "                global_dataset_with_meta = f(global_dataset_with_meta, global_column)\n",
    "\n",
    "            # Split the dataset back up\n",
    "            for i, dataset in enumerate(datasets):\n",
    "                self.datasources[i][\"dataset\"] = global_dataset_with_meta.filter(\n",
    "                    lambda x: x[\"meta_data\"] == dataset.builder_name,\n",
    "                    num_proc=os.cpu_count(),\n",
    "                )"
   ]
  },
  {
   "cell_type": "code",
   "execution_count": null,
   "metadata": {},
   "outputs": [
    {
     "data": {
      "text/markdown": [
       "---\n",
       "\n",
       "[source](https://github.com/CarperAI/squeakily/blob/main/squeakily/core.py#L30){target=\"_blank\" style=\"float:right; font-size:smaller\"}\n",
       "\n",
       "### Pipeline.run\n",
       "\n",
       ">      Pipeline.run (global_filters=[], global_cleaners=[],\n",
       ">                    cleaning_first=False, globals_first=False)\n",
       "\n",
       "Run the pipeline.\n",
       "\n",
       "|    | **Type** | **Default** | **Details** |\n",
       "| -- | -------- | ----------- | ----------- |\n",
       "| global_filters | list | [] | Filters to be run at the dataset level rather than the example level |\n",
       "| global_cleaners | list | [] | Cleaners to be run at the dataset level rather than the example level |\n",
       "| cleaning_first | bool | False | Whether to run the cleaning transformations first |\n",
       "| globals_first | bool | False | Whether to run the global transformations first |"
      ],
      "text/plain": [
       "---\n",
       "\n",
       "[source](https://github.com/CarperAI/squeakily/blob/main/squeakily/core.py#L30){target=\"_blank\" style=\"float:right; font-size:smaller\"}\n",
       "\n",
       "### Pipeline.run\n",
       "\n",
       ">      Pipeline.run (global_filters=[], global_cleaners=[],\n",
       ">                    cleaning_first=False, globals_first=False)\n",
       "\n",
       "Run the pipeline.\n",
       "\n",
       "|    | **Type** | **Default** | **Details** |\n",
       "| -- | -------- | ----------- | ----------- |\n",
       "| global_filters | list | [] | Filters to be run at the dataset level rather than the example level |\n",
       "| global_cleaners | list | [] | Cleaners to be run at the dataset level rather than the example level |\n",
       "| cleaning_first | bool | False | Whether to run the cleaning transformations first |\n",
       "| globals_first | bool | False | Whether to run the global transformations first |"
      ]
     },
     "execution_count": null,
     "metadata": {},
     "output_type": "execute_result"
    }
   ],
   "source": [
    "#|echo: true\n",
    "show_doc(Pipeline.run)"
   ]
  },
  {
   "cell_type": "code",
   "execution_count": null,
   "metadata": {},
   "outputs": [
    {
     "data": {
      "text/html": [
       "<pre style=\"white-space:pre;overflow-x:auto;line-height:normal;font-family:Menlo,'DejaVu Sans Mono',consolas,'Courier New',monospace\"><span style=\"color: #7fbfbf; text-decoration-color: #7fbfbf\">[11/26/22 16:54:24] </span><span style=\"color: #000080; text-decoration-color: #000080\">INFO    </span> Original dataset size: <span style=\"color: #008080; text-decoration-color: #008080; font-weight: bold\">18014</span>                                           <a href=\"file:///tmp/ipykernel_132178/1617443191.py\" target=\"_blank\"><span style=\"color: #7f7f7f; text-decoration-color: #7f7f7f\">1617443191.py</span></a><span style=\"color: #7f7f7f; text-decoration-color: #7f7f7f\">:</span><a href=\"file:///tmp/ipykernel_132178/1617443191.py#2\" target=\"_blank\"><span style=\"color: #7f7f7f; text-decoration-color: #7f7f7f\">2</span></a>\n",
       "</pre>\n"
      ],
      "text/plain": [
       "\u001b[2;36m[11/26/22 16:54:24]\u001b[0m\u001b[2;36m \u001b[0m\u001b[34mINFO    \u001b[0m Original dataset size: \u001b[1;36m18014\u001b[0m                                           \u001b]8;id=117692;file:///tmp/ipykernel_132178/1617443191.py\u001b\\\u001b[2m1617443191.py\u001b[0m\u001b]8;;\u001b\\\u001b[2m:\u001b[0m\u001b]8;id=350765;file:///tmp/ipykernel_132178/1617443191.py#2\u001b\\\u001b[2m2\u001b[0m\u001b]8;;\u001b\\\n"
      ]
     },
     "metadata": {},
     "output_type": "display_data"
    },
    {
     "data": {
      "text/html": [
       "<pre style=\"white-space:pre;overflow-x:auto;line-height:normal;font-family:Menlo,'DejaVu Sans Mono',consolas,'Courier New',monospace\"><span style=\"color: #7fbfbf; text-decoration-color: #7fbfbf\">                    </span><span style=\"color: #000080; text-decoration-color: #000080\">INFO    </span> Running datasource: wikitext                                          <a href=\"file:///tmp/ipykernel_132178/2234059382.py\" target=\"_blank\"><span style=\"color: #7f7f7f; text-decoration-color: #7f7f7f\">2234059382.py</span></a><span style=\"color: #7f7f7f; text-decoration-color: #7f7f7f\">:</span><a href=\"file:///tmp/ipykernel_132178/2234059382.py#25\" target=\"_blank\"><span style=\"color: #7f7f7f; text-decoration-color: #7f7f7f\">25</span></a>\n",
       "</pre>\n"
      ],
      "text/plain": [
       "\u001b[2;36m                   \u001b[0m\u001b[2;36m \u001b[0m\u001b[34mINFO    \u001b[0m Running datasource: wikitext                                          \u001b]8;id=961561;file:///tmp/ipykernel_132178/2234059382.py\u001b\\\u001b[2m2234059382.py\u001b[0m\u001b]8;;\u001b\\\u001b[2m:\u001b[0m\u001b]8;id=671094;file:///tmp/ipykernel_132178/2234059382.py#25\u001b\\\u001b[2m25\u001b[0m\u001b]8;;\u001b\\\n"
      ]
     },
     "metadata": {},
     "output_type": "display_data"
    },
    {
     "data": {
      "text/html": [
       "<pre style=\"white-space:pre;overflow-x:auto;line-height:normal;font-family:Menlo,'DejaVu Sans Mono',consolas,'Courier New',monospace\"><span style=\"color: #7fbfbf; text-decoration-color: #7fbfbf\">                    </span><span style=\"color: #000080; text-decoration-color: #000080\">INFO    </span> Running filter: check_char_repetition on text                         <a href=\"file:///tmp/ipykernel_132178/2234059382.py\" target=\"_blank\"><span style=\"color: #7f7f7f; text-decoration-color: #7f7f7f\">2234059382.py</span></a><span style=\"color: #7f7f7f; text-decoration-color: #7f7f7f\">:</span><a href=\"file:///tmp/ipykernel_132178/2234059382.py#41\" target=\"_blank\"><span style=\"color: #7f7f7f; text-decoration-color: #7f7f7f\">41</span></a>\n",
       "</pre>\n"
      ],
      "text/plain": [
       "\u001b[2;36m                   \u001b[0m\u001b[2;36m \u001b[0m\u001b[34mINFO    \u001b[0m Running filter: check_char_repetition on text                         \u001b]8;id=573567;file:///tmp/ipykernel_132178/2234059382.py\u001b\\\u001b[2m2234059382.py\u001b[0m\u001b]8;;\u001b\\\u001b[2m:\u001b[0m\u001b]8;id=577814;file:///tmp/ipykernel_132178/2234059382.py#41\u001b\\\u001b[2m41\u001b[0m\u001b]8;;\u001b\\\n"
      ]
     },
     "metadata": {},
     "output_type": "display_data"
    },
    {
     "data": {
      "text/html": [
       "<pre style=\"white-space:pre;overflow-x:auto;line-height:normal;font-family:Menlo,'DejaVu Sans Mono',consolas,'Courier New',monospace\"><span style=\"color: #7fbfbf; text-decoration-color: #7fbfbf\">                    </span><span style=\"color: #000080; text-decoration-color: #000080\">INFO    </span> Running filter: check_flagged_words on text                           <a href=\"file:///tmp/ipykernel_132178/2234059382.py\" target=\"_blank\"><span style=\"color: #7f7f7f; text-decoration-color: #7f7f7f\">2234059382.py</span></a><span style=\"color: #7f7f7f; text-decoration-color: #7f7f7f\">:</span><a href=\"file:///tmp/ipykernel_132178/2234059382.py#41\" target=\"_blank\"><span style=\"color: #7f7f7f; text-decoration-color: #7f7f7f\">41</span></a>\n",
       "</pre>\n"
      ],
      "text/plain": [
       "\u001b[2;36m                   \u001b[0m\u001b[2;36m \u001b[0m\u001b[34mINFO    \u001b[0m Running filter: check_flagged_words on text                           \u001b]8;id=910600;file:///tmp/ipykernel_132178/2234059382.py\u001b\\\u001b[2m2234059382.py\u001b[0m\u001b]8;;\u001b\\\u001b[2m:\u001b[0m\u001b]8;id=856234;file:///tmp/ipykernel_132178/2234059382.py#41\u001b\\\u001b[2m41\u001b[0m\u001b]8;;\u001b\\\n"
      ]
     },
     "metadata": {},
     "output_type": "display_data"
    },
    {
     "data": {
      "text/html": [
       "<pre style=\"white-space:pre;overflow-x:auto;line-height:normal;font-family:Menlo,'DejaVu Sans Mono',consolas,'Courier New',monospace\"><span style=\"color: #7fbfbf; text-decoration-color: #7fbfbf\">                    </span><span style=\"color: #000080; text-decoration-color: #000080\">INFO    </span> Running cleaner: remove_empty_lines on text                           <a href=\"file:///tmp/ipykernel_132178/2234059382.py\" target=\"_blank\"><span style=\"color: #7f7f7f; text-decoration-color: #7f7f7f\">2234059382.py</span></a><span style=\"color: #7f7f7f; text-decoration-color: #7f7f7f\">:</span><a href=\"file:///tmp/ipykernel_132178/2234059382.py#47\" target=\"_blank\"><span style=\"color: #7f7f7f; text-decoration-color: #7f7f7f\">47</span></a>\n",
       "</pre>\n"
      ],
      "text/plain": [
       "\u001b[2;36m                   \u001b[0m\u001b[2;36m \u001b[0m\u001b[34mINFO    \u001b[0m Running cleaner: remove_empty_lines on text                           \u001b]8;id=615791;file:///tmp/ipykernel_132178/2234059382.py\u001b\\\u001b[2m2234059382.py\u001b[0m\u001b]8;;\u001b\\\u001b[2m:\u001b[0m\u001b]8;id=255930;file:///tmp/ipykernel_132178/2234059382.py#47\u001b\\\u001b[2m47\u001b[0m\u001b]8;;\u001b\\\n"
      ]
     },
     "metadata": {},
     "output_type": "display_data"
    },
    {
     "data": {
      "text/html": [
       "<pre style=\"white-space:pre;overflow-x:auto;line-height:normal;font-family:Menlo,'DejaVu Sans Mono',consolas,'Courier New',monospace\"><span style=\"color: #7fbfbf; text-decoration-color: #7fbfbf\">                    </span><span style=\"color: #000080; text-decoration-color: #000080\">INFO    </span> Running cleaner: normalize_whitespace on text                         <a href=\"file:///tmp/ipykernel_132178/2234059382.py\" target=\"_blank\"><span style=\"color: #7f7f7f; text-decoration-color: #7f7f7f\">2234059382.py</span></a><span style=\"color: #7f7f7f; text-decoration-color: #7f7f7f\">:</span><a href=\"file:///tmp/ipykernel_132178/2234059382.py#47\" target=\"_blank\"><span style=\"color: #7f7f7f; text-decoration-color: #7f7f7f\">47</span></a>\n",
       "</pre>\n"
      ],
      "text/plain": [
       "\u001b[2;36m                   \u001b[0m\u001b[2;36m \u001b[0m\u001b[34mINFO    \u001b[0m Running cleaner: normalize_whitespace on text                         \u001b]8;id=554792;file:///tmp/ipykernel_132178/2234059382.py\u001b\\\u001b[2m2234059382.py\u001b[0m\u001b]8;;\u001b\\\u001b[2m:\u001b[0m\u001b]8;id=228334;file:///tmp/ipykernel_132178/2234059382.py#47\u001b\\\u001b[2m47\u001b[0m\u001b]8;;\u001b\\\n"
      ]
     },
     "metadata": {},
     "output_type": "display_data"
    },
    {
     "name": "stderr",
     "output_type": "stream",
     "text": [
      "#0:   0%|          | 0/563 [00:00<?, ?ex/s]\n",
      "#0: 100%|██████████| 563/563 [00:00<00:00, 49229.54ex/s]\n",
      "\n",
      "\n",
      "#1: 100%|██████████| 563/563 [00:00<00:00, 42426.84ex/s]\n",
      "\n",
      "\n",
      "\n",
      "\u001b[A\u001b[A\u001b[A\n",
      "\n",
      "\n",
      "\n",
      "#2: 100%|██████████| 563/563 [00:00<00:00, 31199.87ex/s]\n",
      "#3: 100%|██████████| 563/563 [00:00<00:00, 37671.99ex/s]\n",
      "\n",
      "\n",
      "\n",
      "\n",
      "\n",
      "#4: 100%|██████████| 563/563 [00:00<00:00, 30492.41ex/s]\u001b[A\u001b[A\u001b[A\u001b[A\u001b[A\u001b[A\n",
      "\n",
      "\n",
      "\n",
      "\n",
      "\n",
      "\n",
      "\n",
      "#6: 100%|██████████| 563/563 [00:00<00:00, 43463.89ex/s]\n",
      "\n",
      "\n",
      "\n",
      "\n",
      "\n",
      "\n",
      "\n",
      "#7: 100%|██████████| 563/563 [00:00<00:00, 46253.76ex/s]\n",
      "\n",
      "\n",
      "\n",
      "\n",
      "\n",
      "\n",
      "\n",
      "\n",
      "#8: 100%|██████████| 563/563 [00:00<00:00, 48583.34ex/s]\n",
      "\n",
      "\n",
      "\n",
      "\n",
      "\n",
      "\n",
      "\n",
      "\n",
      "\n",
      "\u001b[A\u001b[A\u001b[A\u001b[A\u001b[A\u001b[A\u001b[A\u001b[A\u001b[A\n",
      "\n",
      "\n",
      "\n",
      "\n",
      "\n",
      "\n",
      "\n",
      "\n",
      "\n",
      "#10: 100%|██████████| 563/563 [00:00<00:00, 47394.69ex/s]\n",
      "#9: 100%|██████████| 563/563 [00:00<00:00, 25732.49ex/s]\n",
      "\n",
      "\n",
      "\n",
      "\n",
      "\n",
      "\n",
      "\n",
      "\n",
      "\n",
      "\n",
      "\n",
      "#11: 100%|██████████| 563/563 [00:00<00:00, 30829.20ex/s]\n",
      "\n",
      "\n",
      "\n",
      "\n",
      "\n",
      "\n",
      "\n",
      "\n",
      "\n",
      "\n",
      "\n",
      "\n",
      "#12: 100%|██████████| 563/563 [00:00<00:00, 38979.10ex/s]\u001b[A\u001b[A\u001b[A\u001b[A\u001b[A\u001b[A\u001b[A\u001b[A\u001b[A\u001b[A\u001b[A\u001b[A\u001b[A\n",
      "\n",
      "\n",
      "\n",
      "\n",
      "\n",
      "\n",
      "\n",
      "\n",
      "\n",
      "\n",
      "\n",
      "\n",
      "\n",
      "#13: 100%|██████████| 563/563 [00:00<00:00, 44119.22ex/s]\n",
      "\n",
      "\n",
      "\n",
      "\n",
      "\n",
      "\n",
      "\n",
      "\n",
      "\n",
      "\n",
      "\n",
      "\n",
      "\n",
      "\n",
      "\u001b[A\u001b[A\u001b[A\u001b[A\u001b[A\u001b[A\u001b[A\u001b[A\u001b[A\u001b[A\u001b[A\u001b[A\u001b[A\u001b[A\n",
      "\n",
      "\n",
      "\n",
      "\n",
      "\n",
      "\n",
      "\n",
      "\n",
      "\n",
      "\n",
      "\n",
      "\n",
      "\n",
      "\n",
      "#15: 100%|██████████| 563/563 [00:00<00:00, 45037.25ex/s]\n",
      "#14: 100%|██████████| 563/563 [00:00<00:00, 24967.94ex/s]\n",
      "\n",
      "\n",
      "\n",
      "\n",
      "\n",
      "\n",
      "\n",
      "\n",
      "\n",
      "\n",
      "\n",
      "\n",
      "\n",
      "\n",
      "\n",
      "\n",
      "\u001b[A\u001b[A\u001b[A\u001b[A\u001b[A\u001b[A\u001b[A\u001b[A\u001b[A\u001b[A\u001b[A\u001b[A\u001b[A\u001b[A\u001b[A\u001b[A\n",
      "\n",
      "\n",
      "\n",
      "\n",
      "\n",
      "\n",
      "\n",
      "\n",
      "\n",
      "\n",
      "\n",
      "\n",
      "\n",
      "\n",
      "\n",
      "\n",
      "#16: 100%|██████████| 563/563 [00:00<00:00, 42397.89ex/s]\n",
      "\n",
      "\n",
      "\n",
      "\n",
      "\n",
      "\n",
      "\n",
      "\n",
      "\n",
      "\n",
      "\n",
      "\n",
      "\n",
      "\n",
      "\n",
      "\n",
      "\n",
      "\n",
      "#17: 100%|██████████| 563/563 [00:00<00:00, 44275.57ex/s]\n",
      "#18: 100%|██████████| 563/563 [00:00<00:00, 34634.18ex/s]\n",
      "#20: 100%|██████████| 563/563 [00:00<00:00, 43474.29ex/s]\n",
      "#19: 100%|██████████| 563/563 [00:00<00:00, 24843.17ex/s]\n",
      "#21: 100%|██████████| 563/563 [00:00<00:00, 25522.50ex/s]\n",
      "#23: 100%|██████████| 563/563 [00:00<00:00, 48324.84ex/s]\n",
      "#22: 100%|██████████| 563/563 [00:00<00:00, 10197.23ex/s]\n",
      "#24: 100%|██████████| 563/563 [00:00<00:00, 8745.29ex/s]\n",
      "#25: 100%|██████████| 563/563 [00:00<00:00, 6690.77ex/s]\n",
      "#26: 100%|██████████| 563/563 [00:00<00:00, 42802.90ex/s]\n",
      "#30: 100%|██████████| 562/562 [00:00<00:00, 38933.65ex/s]\n",
      "#28: 100%|██████████| 562/562 [00:00<00:00, 36209.45ex/s]\n",
      "#29: 100%|██████████| 562/562 [00:00<00:00, 33920.43ex/s]\n",
      "#31: 100%|██████████| 562/562 [00:00<00:00, 31585.56ex/s]\n",
      "#27: 100%|██████████| 562/562 [00:00<00:00, 29487.10ex/s]\n"
     ]
    },
    {
     "data": {
      "text/html": [
       "<pre style=\"white-space:pre;overflow-x:auto;line-height:normal;font-family:Menlo,'DejaVu Sans Mono',consolas,'Courier New',monospace\"><span style=\"color: #7fbfbf; text-decoration-color: #7fbfbf\">[11/26/22 16:54:25] </span><span style=\"color: #000080; text-decoration-color: #000080\">INFO    </span> Running global filter: minhash_dedup                                  <a href=\"file:///tmp/ipykernel_132178/2234059382.py\" target=\"_blank\"><span style=\"color: #7f7f7f; text-decoration-color: #7f7f7f\">2234059382.py</span></a><span style=\"color: #7f7f7f; text-decoration-color: #7f7f7f\">:</span><a href=\"file:///tmp/ipykernel_132178/2234059382.py#71\" target=\"_blank\"><span style=\"color: #7f7f7f; text-decoration-color: #7f7f7f\">71</span></a>\n",
       "</pre>\n"
      ],
      "text/plain": [
       "\u001b[2;36m[11/26/22 16:54:25]\u001b[0m\u001b[2;36m \u001b[0m\u001b[34mINFO    \u001b[0m Running global filter: minhash_dedup                                  \u001b]8;id=662592;file:///tmp/ipykernel_132178/2234059382.py\u001b\\\u001b[2m2234059382.py\u001b[0m\u001b]8;;\u001b\\\u001b[2m:\u001b[0m\u001b]8;id=870057;file:///tmp/ipykernel_132178/2234059382.py#71\u001b\\\u001b[2m71\u001b[0m\u001b]8;;\u001b\\\n"
      ]
     },
     "metadata": {},
     "output_type": "display_data"
    },
    {
     "data": {
      "text/html": [
       "<pre style=\"white-space:pre;overflow-x:auto;line-height:normal;font-family:Menlo,'DejaVu Sans Mono',consolas,'Courier New',monospace\"><span style=\"color: #7fbfbf; text-decoration-color: #7fbfbf\">[11/26/22 16:54:25] </span><span style=\"color: #000080; text-decoration-color: #000080\">INFO    </span> Dataset columns: <span style=\"font-weight: bold\">[</span><span style=\"color: #008000; text-decoration-color: #008000\">'text'</span>, <span style=\"color: #008000; text-decoration-color: #008000\">'meta_data'</span><span style=\"font-weight: bold\">]</span>                                   <a href=\"file:///work/squeakily/squeakily/filter.py\" target=\"_blank\"><span style=\"color: #7f7f7f; text-decoration-color: #7f7f7f\">filter.py</span></a><span style=\"color: #7f7f7f; text-decoration-color: #7f7f7f\">:</span><a href=\"file:///work/squeakily/squeakily/filter.py#313\" target=\"_blank\"><span style=\"color: #7f7f7f; text-decoration-color: #7f7f7f\">313</span></a>\n",
       "</pre>\n"
      ],
      "text/plain": [
       "\u001b[2;36m[11/26/22 16:54:25]\u001b[0m\u001b[2;36m \u001b[0m\u001b[34mINFO    \u001b[0m Dataset columns: \u001b[1m[\u001b[0m\u001b[32m'text'\u001b[0m, \u001b[32m'meta_data'\u001b[0m\u001b[1m]\u001b[0m                                   \u001b]8;id=244345;file:///work/squeakily/squeakily/filter.py\u001b\\\u001b[2mfilter.py\u001b[0m\u001b]8;;\u001b\\\u001b[2m:\u001b[0m\u001b]8;id=265449;file:///work/squeakily/squeakily/filter.py#313\u001b\\\u001b[2m313\u001b[0m\u001b]8;;\u001b\\\n"
      ]
     },
     "metadata": {},
     "output_type": "display_data"
    },
    {
     "data": {
      "text/html": [
       "<pre style=\"white-space:pre;overflow-x:auto;line-height:normal;font-family:Menlo,'DejaVu Sans Mono',consolas,'Courier New',monospace\"><span style=\"color: #7fbfbf; text-decoration-color: #7fbfbf\">                    </span><span style=\"color: #000080; text-decoration-color: #000080\">INFO    </span> Dataset columns: <span style=\"font-weight: bold\">[</span><span style=\"color: #008000; text-decoration-color: #008000\">'text'</span>, <span style=\"color: #008000; text-decoration-color: #008000\">'meta_data'</span>, <span style=\"color: #008000; text-decoration-color: #008000\">'__id__'</span><span style=\"font-weight: bold\">]</span>                         <a href=\"file:///work/squeakily/squeakily/filter.py\" target=\"_blank\"><span style=\"color: #7f7f7f; text-decoration-color: #7f7f7f\">filter.py</span></a><span style=\"color: #7f7f7f; text-decoration-color: #7f7f7f\">:</span><a href=\"file:///work/squeakily/squeakily/filter.py#321\" target=\"_blank\"><span style=\"color: #7f7f7f; text-decoration-color: #7f7f7f\">321</span></a>\n",
       "</pre>\n"
      ],
      "text/plain": [
       "\u001b[2;36m                   \u001b[0m\u001b[2;36m \u001b[0m\u001b[34mINFO    \u001b[0m Dataset columns: \u001b[1m[\u001b[0m\u001b[32m'text'\u001b[0m, \u001b[32m'meta_data'\u001b[0m, \u001b[32m'__id__'\u001b[0m\u001b[1m]\u001b[0m                         \u001b]8;id=903622;file:///work/squeakily/squeakily/filter.py\u001b\\\u001b[2mfilter.py\u001b[0m\u001b]8;;\u001b\\\u001b[2m:\u001b[0m\u001b]8;id=201214;file:///work/squeakily/squeakily/filter.py#321\u001b\\\u001b[2m321\u001b[0m\u001b]8;;\u001b\\\n"
      ]
     },
     "metadata": {},
     "output_type": "display_data"
    },
    {
     "data": {
      "text/html": [
       "<pre style=\"white-space:pre;overflow-x:auto;line-height:normal;font-family:Menlo,'DejaVu Sans Mono',consolas,'Courier New',monospace\"><span style=\"color: #7fbfbf; text-decoration-color: #7fbfbf\">                    </span><span style=\"color: #000080; text-decoration-color: #000080\">INFO    </span> Dataset columns: <span style=\"font-weight: bold\">[</span><span style=\"color: #008000; text-decoration-color: #008000\">'__id__'</span>, <span style=\"color: #008000; text-decoration-color: #008000\">'__signature__'</span><span style=\"font-weight: bold\">]</span>                             <a href=\"file:///work/squeakily/squeakily/filter.py\" target=\"_blank\"><span style=\"color: #7f7f7f; text-decoration-color: #7f7f7f\">filter.py</span></a><span style=\"color: #7f7f7f; text-decoration-color: #7f7f7f\">:</span><a href=\"file:///work/squeakily/squeakily/filter.py#330\" target=\"_blank\"><span style=\"color: #7f7f7f; text-decoration-color: #7f7f7f\">330</span></a>\n",
       "</pre>\n"
      ],
      "text/plain": [
       "\u001b[2;36m                   \u001b[0m\u001b[2;36m \u001b[0m\u001b[34mINFO    \u001b[0m Dataset columns: \u001b[1m[\u001b[0m\u001b[32m'__id__'\u001b[0m, \u001b[32m'__signature__'\u001b[0m\u001b[1m]\u001b[0m                             \u001b]8;id=915580;file:///work/squeakily/squeakily/filter.py\u001b\\\u001b[2mfilter.py\u001b[0m\u001b]8;;\u001b\\\u001b[2m:\u001b[0m\u001b]8;id=790300;file:///work/squeakily/squeakily/filter.py#330\u001b\\\u001b[2m330\u001b[0m\u001b]8;;\u001b\\\n"
      ]
     },
     "metadata": {},
     "output_type": "display_data"
    },
    {
     "name": "stderr",
     "output_type": "stream",
     "text": [
      "Indexing signatures...: 100%|██████████| 18014/18014 [00:01<00:00, 16042.04it/s]\n"
     ]
    },
    {
     "data": {
      "text/html": [
       "<pre style=\"white-space:pre;overflow-x:auto;line-height:normal;font-family:Menlo,'DejaVu Sans Mono',consolas,'Courier New',monospace\"><span style=\"color: #7fbfbf; text-decoration-color: #7fbfbf\">[11/26/22 16:54:52] </span><span style=\"color: #000080; text-decoration-color: #000080\">INFO    </span> Dataset columns: <span style=\"font-weight: bold\">[</span><span style=\"color: #008000; text-decoration-color: #008000\">'__id__'</span>, <span style=\"color: #008000; text-decoration-color: #008000\">'__neighbors__'</span><span style=\"font-weight: bold\">]</span>                             <a href=\"file:///work/squeakily/squeakily/filter.py\" target=\"_blank\"><span style=\"color: #7f7f7f; text-decoration-color: #7f7f7f\">filter.py</span></a><span style=\"color: #7f7f7f; text-decoration-color: #7f7f7f\">:</span><a href=\"file:///work/squeakily/squeakily/filter.py#364\" target=\"_blank\"><span style=\"color: #7f7f7f; text-decoration-color: #7f7f7f\">364</span></a>\n",
       "</pre>\n"
      ],
      "text/plain": [
       "\u001b[2;36m[11/26/22 16:54:52]\u001b[0m\u001b[2;36m \u001b[0m\u001b[34mINFO    \u001b[0m Dataset columns: \u001b[1m[\u001b[0m\u001b[32m'__id__'\u001b[0m, \u001b[32m'__neighbors__'\u001b[0m\u001b[1m]\u001b[0m                             \u001b]8;id=777968;file:///work/squeakily/squeakily/filter.py\u001b\\\u001b[2mfilter.py\u001b[0m\u001b]8;;\u001b\\\u001b[2m:\u001b[0m\u001b]8;id=600468;file:///work/squeakily/squeakily/filter.py#364\u001b\\\u001b[2m364\u001b[0m\u001b]8;;\u001b\\\n"
      ]
     },
     "metadata": {},
     "output_type": "display_data"
    },
    {
     "name": "stderr",
     "output_type": "stream",
     "text": [
      "Constructing graph...: 100%|██████████| 7757/7757 [00:12<00:00, 637.20it/s]\n",
      "Iterating over components...: 100%|██████████| 10560/10560 [00:00<00:00, 2971610.21it/s]\n"
     ]
    },
    {
     "data": {
      "text/html": [
       "<pre style=\"white-space:pre;overflow-x:auto;line-height:normal;font-family:Menlo,'DejaVu Sans Mono',consolas,'Courier New',monospace\"><span style=\"color: #7fbfbf; text-decoration-color: #7fbfbf\">[11/26/22 16:55:04] </span><span style=\"color: #000080; text-decoration-color: #000080\">INFO    </span> Final dataset size: <span style=\"color: #008080; text-decoration-color: #008080; font-weight: bold\">10560</span>                                             <a href=\"file:///tmp/ipykernel_132178/1617443191.py\" target=\"_blank\"><span style=\"color: #7f7f7f; text-decoration-color: #7f7f7f\">1617443191.py</span></a><span style=\"color: #7f7f7f; text-decoration-color: #7f7f7f\">:</span><a href=\"file:///tmp/ipykernel_132178/1617443191.py#16\" target=\"_blank\"><span style=\"color: #7f7f7f; text-decoration-color: #7f7f7f\">16</span></a>\n",
       "</pre>\n"
      ],
      "text/plain": [
       "\u001b[2;36m[11/26/22 16:55:04]\u001b[0m\u001b[2;36m \u001b[0m\u001b[34mINFO    \u001b[0m Final dataset size: \u001b[1;36m10560\u001b[0m                                             \u001b]8;id=574671;file:///tmp/ipykernel_132178/1617443191.py\u001b\\\u001b[2m1617443191.py\u001b[0m\u001b]8;;\u001b\\\u001b[2m:\u001b[0m\u001b]8;id=742687;file:///tmp/ipykernel_132178/1617443191.py#16\u001b\\\u001b[2m16\u001b[0m\u001b]8;;\u001b\\\n"
      ]
     },
     "metadata": {},
     "output_type": "display_data"
    }
   ],
   "source": [
    "ds = load_dataset(\"wikitext\", \"wikitext-103-v1\", split=\"train[:1%]\")\n",
    "logger.info(f\"Original dataset size: {len(ds)}\")\n",
    "datasources = [\n",
    "    {\n",
    "        \"dataset\": ds,\n",
    "        \"columns\": [\"text\"],\n",
    "        \"filters\": [check_char_repetition, check_flagged_words],\n",
    "        \"cleaners\": [remove_empty_lines, normalize_whitespace],\n",
    "    },\n",
    "    # ...\n",
    "]\n",
    "\n",
    "global_filters = [minhash_dedup]\n",
    "pipeline = Pipeline(datasources)\n",
    "pipeline.run(global_filters=global_filters)\n",
    "logger.info(f\"Final dataset size: {len(pipeline.datasources[0]['dataset'])}\")"
   ]
  },
  {
   "cell_type": "code",
   "execution_count": null,
   "metadata": {},
   "outputs": [
    {
     "data": {
      "text/html": [
       "<pre style=\"white-space:pre;overflow-x:auto;line-height:normal;font-family:Menlo,'DejaVu Sans Mono',consolas,'Courier New',monospace\"><span style=\"color: #7fbfbf; text-decoration-color: #7fbfbf\">[11/26/22 17:07:44] </span><span style=\"color: #000080; text-decoration-color: #000080\">INFO    </span> Running datasource: wikitext                                          <a href=\"file:///tmp/ipykernel_132178/2234059382.py\" target=\"_blank\"><span style=\"color: #7f7f7f; text-decoration-color: #7f7f7f\">2234059382.py</span></a><span style=\"color: #7f7f7f; text-decoration-color: #7f7f7f\">:</span><a href=\"file:///tmp/ipykernel_132178/2234059382.py#25\" target=\"_blank\"><span style=\"color: #7f7f7f; text-decoration-color: #7f7f7f\">25</span></a>\n",
       "</pre>\n"
      ],
      "text/plain": [
       "\u001b[2;36m[11/26/22 17:07:44]\u001b[0m\u001b[2;36m \u001b[0m\u001b[34mINFO    \u001b[0m Running datasource: wikitext                                          \u001b]8;id=750857;file:///tmp/ipykernel_132178/2234059382.py\u001b\\\u001b[2m2234059382.py\u001b[0m\u001b]8;;\u001b\\\u001b[2m:\u001b[0m\u001b]8;id=188292;file:///tmp/ipykernel_132178/2234059382.py#25\u001b\\\u001b[2m25\u001b[0m\u001b]8;;\u001b\\\n"
      ]
     },
     "metadata": {},
     "output_type": "display_data"
    },
    {
     "data": {
      "text/html": [
       "<pre style=\"white-space:pre;overflow-x:auto;line-height:normal;font-family:Menlo,'DejaVu Sans Mono',consolas,'Courier New',monospace\"><span style=\"color: #7fbfbf; text-decoration-color: #7fbfbf\">                    </span><span style=\"color: #000080; text-decoration-color: #000080\">INFO    </span> Running filter: check_char_repetition on text                         <a href=\"file:///tmp/ipykernel_132178/2234059382.py\" target=\"_blank\"><span style=\"color: #7f7f7f; text-decoration-color: #7f7f7f\">2234059382.py</span></a><span style=\"color: #7f7f7f; text-decoration-color: #7f7f7f\">:</span><a href=\"file:///tmp/ipykernel_132178/2234059382.py#41\" target=\"_blank\"><span style=\"color: #7f7f7f; text-decoration-color: #7f7f7f\">41</span></a>\n",
       "</pre>\n"
      ],
      "text/plain": [
       "\u001b[2;36m                   \u001b[0m\u001b[2;36m \u001b[0m\u001b[34mINFO    \u001b[0m Running filter: check_char_repetition on text                         \u001b]8;id=745952;file:///tmp/ipykernel_132178/2234059382.py\u001b\\\u001b[2m2234059382.py\u001b[0m\u001b]8;;\u001b\\\u001b[2m:\u001b[0m\u001b]8;id=311574;file:///tmp/ipykernel_132178/2234059382.py#41\u001b\\\u001b[2m41\u001b[0m\u001b]8;;\u001b\\\n"
      ]
     },
     "metadata": {},
     "output_type": "display_data"
    },
    {
     "data": {
      "text/html": [
       "<pre style=\"white-space:pre;overflow-x:auto;line-height:normal;font-family:Menlo,'DejaVu Sans Mono',consolas,'Courier New',monospace\"><span style=\"color: #7fbfbf; text-decoration-color: #7fbfbf\">                    </span><span style=\"color: #000080; text-decoration-color: #000080\">INFO    </span> Running filter: check_flagged_words on text                           <a href=\"file:///tmp/ipykernel_132178/2234059382.py\" target=\"_blank\"><span style=\"color: #7f7f7f; text-decoration-color: #7f7f7f\">2234059382.py</span></a><span style=\"color: #7f7f7f; text-decoration-color: #7f7f7f\">:</span><a href=\"file:///tmp/ipykernel_132178/2234059382.py#41\" target=\"_blank\"><span style=\"color: #7f7f7f; text-decoration-color: #7f7f7f\">41</span></a>\n",
       "</pre>\n"
      ],
      "text/plain": [
       "\u001b[2;36m                   \u001b[0m\u001b[2;36m \u001b[0m\u001b[34mINFO    \u001b[0m Running filter: check_flagged_words on text                           \u001b]8;id=891500;file:///tmp/ipykernel_132178/2234059382.py\u001b\\\u001b[2m2234059382.py\u001b[0m\u001b]8;;\u001b\\\u001b[2m:\u001b[0m\u001b]8;id=795588;file:///tmp/ipykernel_132178/2234059382.py#41\u001b\\\u001b[2m41\u001b[0m\u001b]8;;\u001b\\\n"
      ]
     },
     "metadata": {},
     "output_type": "display_data"
    },
    {
     "data": {
      "text/html": [
       "<pre style=\"white-space:pre;overflow-x:auto;line-height:normal;font-family:Menlo,'DejaVu Sans Mono',consolas,'Courier New',monospace\"><span style=\"color: #7fbfbf; text-decoration-color: #7fbfbf\">                    </span><span style=\"color: #000080; text-decoration-color: #000080\">INFO    </span> Running cleaner: remove_empty_lines on text                           <a href=\"file:///tmp/ipykernel_132178/2234059382.py\" target=\"_blank\"><span style=\"color: #7f7f7f; text-decoration-color: #7f7f7f\">2234059382.py</span></a><span style=\"color: #7f7f7f; text-decoration-color: #7f7f7f\">:</span><a href=\"file:///tmp/ipykernel_132178/2234059382.py#47\" target=\"_blank\"><span style=\"color: #7f7f7f; text-decoration-color: #7f7f7f\">47</span></a>\n",
       "</pre>\n"
      ],
      "text/plain": [
       "\u001b[2;36m                   \u001b[0m\u001b[2;36m \u001b[0m\u001b[34mINFO    \u001b[0m Running cleaner: remove_empty_lines on text                           \u001b]8;id=253503;file:///tmp/ipykernel_132178/2234059382.py\u001b\\\u001b[2m2234059382.py\u001b[0m\u001b]8;;\u001b\\\u001b[2m:\u001b[0m\u001b]8;id=384611;file:///tmp/ipykernel_132178/2234059382.py#47\u001b\\\u001b[2m47\u001b[0m\u001b]8;;\u001b\\\n"
      ]
     },
     "metadata": {},
     "output_type": "display_data"
    },
    {
     "data": {
      "text/html": [
       "<pre style=\"white-space:pre;overflow-x:auto;line-height:normal;font-family:Menlo,'DejaVu Sans Mono',consolas,'Courier New',monospace\"><span style=\"color: #7fbfbf; text-decoration-color: #7fbfbf\">                    </span><span style=\"color: #000080; text-decoration-color: #000080\">INFO    </span> Running cleaner: normalize_whitespace on text                         <a href=\"file:///tmp/ipykernel_132178/2234059382.py\" target=\"_blank\"><span style=\"color: #7f7f7f; text-decoration-color: #7f7f7f\">2234059382.py</span></a><span style=\"color: #7f7f7f; text-decoration-color: #7f7f7f\">:</span><a href=\"file:///tmp/ipykernel_132178/2234059382.py#47\" target=\"_blank\"><span style=\"color: #7f7f7f; text-decoration-color: #7f7f7f\">47</span></a>\n",
       "</pre>\n"
      ],
      "text/plain": [
       "\u001b[2;36m                   \u001b[0m\u001b[2;36m \u001b[0m\u001b[34mINFO    \u001b[0m Running cleaner: normalize_whitespace on text                         \u001b]8;id=7261;file:///tmp/ipykernel_132178/2234059382.py\u001b\\\u001b[2m2234059382.py\u001b[0m\u001b]8;;\u001b\\\u001b[2m:\u001b[0m\u001b]8;id=814530;file:///tmp/ipykernel_132178/2234059382.py#47\u001b\\\u001b[2m47\u001b[0m\u001b]8;;\u001b\\\n"
      ]
     },
     "metadata": {},
     "output_type": "display_data"
    },
    {
     "data": {
      "text/html": [
       "<pre style=\"white-space:pre;overflow-x:auto;line-height:normal;font-family:Menlo,'DejaVu Sans Mono',consolas,'Courier New',monospace\"><span style=\"color: #7fbfbf; text-decoration-color: #7fbfbf\">                    </span><span style=\"color: #000080; text-decoration-color: #000080\">INFO    </span> Running datasource: wikitext                                          <a href=\"file:///tmp/ipykernel_132178/2234059382.py\" target=\"_blank\"><span style=\"color: #7f7f7f; text-decoration-color: #7f7f7f\">2234059382.py</span></a><span style=\"color: #7f7f7f; text-decoration-color: #7f7f7f\">:</span><a href=\"file:///tmp/ipykernel_132178/2234059382.py#25\" target=\"_blank\"><span style=\"color: #7f7f7f; text-decoration-color: #7f7f7f\">25</span></a>\n",
       "</pre>\n"
      ],
      "text/plain": [
       "\u001b[2;36m                   \u001b[0m\u001b[2;36m \u001b[0m\u001b[34mINFO    \u001b[0m Running datasource: wikitext                                          \u001b]8;id=769099;file:///tmp/ipykernel_132178/2234059382.py\u001b\\\u001b[2m2234059382.py\u001b[0m\u001b]8;;\u001b\\\u001b[2m:\u001b[0m\u001b]8;id=293317;file:///tmp/ipykernel_132178/2234059382.py#25\u001b\\\u001b[2m25\u001b[0m\u001b]8;;\u001b\\\n"
      ]
     },
     "metadata": {},
     "output_type": "display_data"
    },
    {
     "data": {
      "text/html": [
       "<pre style=\"white-space:pre;overflow-x:auto;line-height:normal;font-family:Menlo,'DejaVu Sans Mono',consolas,'Courier New',monospace\"><span style=\"color: #7fbfbf; text-decoration-color: #7fbfbf\">                    </span><span style=\"color: #000080; text-decoration-color: #000080\">INFO    </span> Running filter: check_char_repetition on text                         <a href=\"file:///tmp/ipykernel_132178/2234059382.py\" target=\"_blank\"><span style=\"color: #7f7f7f; text-decoration-color: #7f7f7f\">2234059382.py</span></a><span style=\"color: #7f7f7f; text-decoration-color: #7f7f7f\">:</span><a href=\"file:///tmp/ipykernel_132178/2234059382.py#41\" target=\"_blank\"><span style=\"color: #7f7f7f; text-decoration-color: #7f7f7f\">41</span></a>\n",
       "</pre>\n"
      ],
      "text/plain": [
       "\u001b[2;36m                   \u001b[0m\u001b[2;36m \u001b[0m\u001b[34mINFO    \u001b[0m Running filter: check_char_repetition on text                         \u001b]8;id=430435;file:///tmp/ipykernel_132178/2234059382.py\u001b\\\u001b[2m2234059382.py\u001b[0m\u001b]8;;\u001b\\\u001b[2m:\u001b[0m\u001b]8;id=154375;file:///tmp/ipykernel_132178/2234059382.py#41\u001b\\\u001b[2m41\u001b[0m\u001b]8;;\u001b\\\n"
      ]
     },
     "metadata": {},
     "output_type": "display_data"
    },
    {
     "data": {
      "text/html": [
       "<pre style=\"white-space:pre;overflow-x:auto;line-height:normal;font-family:Menlo,'DejaVu Sans Mono',consolas,'Courier New',monospace\"><span style=\"color: #7fbfbf; text-decoration-color: #7fbfbf\">                    </span><span style=\"color: #000080; text-decoration-color: #000080\">INFO    </span> Running filter: check_flagged_words on text                           <a href=\"file:///tmp/ipykernel_132178/2234059382.py\" target=\"_blank\"><span style=\"color: #7f7f7f; text-decoration-color: #7f7f7f\">2234059382.py</span></a><span style=\"color: #7f7f7f; text-decoration-color: #7f7f7f\">:</span><a href=\"file:///tmp/ipykernel_132178/2234059382.py#41\" target=\"_blank\"><span style=\"color: #7f7f7f; text-decoration-color: #7f7f7f\">41</span></a>\n",
       "</pre>\n"
      ],
      "text/plain": [
       "\u001b[2;36m                   \u001b[0m\u001b[2;36m \u001b[0m\u001b[34mINFO    \u001b[0m Running filter: check_flagged_words on text                           \u001b]8;id=77892;file:///tmp/ipykernel_132178/2234059382.py\u001b\\\u001b[2m2234059382.py\u001b[0m\u001b]8;;\u001b\\\u001b[2m:\u001b[0m\u001b]8;id=71833;file:///tmp/ipykernel_132178/2234059382.py#41\u001b\\\u001b[2m41\u001b[0m\u001b]8;;\u001b\\\n"
      ]
     },
     "metadata": {},
     "output_type": "display_data"
    },
    {
     "data": {
      "text/html": [
       "<pre style=\"white-space:pre;overflow-x:auto;line-height:normal;font-family:Menlo,'DejaVu Sans Mono',consolas,'Courier New',monospace\"><span style=\"color: #7fbfbf; text-decoration-color: #7fbfbf\">                    </span><span style=\"color: #000080; text-decoration-color: #000080\">INFO    </span> Running cleaner: remove_empty_lines on text                           <a href=\"file:///tmp/ipykernel_132178/2234059382.py\" target=\"_blank\"><span style=\"color: #7f7f7f; text-decoration-color: #7f7f7f\">2234059382.py</span></a><span style=\"color: #7f7f7f; text-decoration-color: #7f7f7f\">:</span><a href=\"file:///tmp/ipykernel_132178/2234059382.py#47\" target=\"_blank\"><span style=\"color: #7f7f7f; text-decoration-color: #7f7f7f\">47</span></a>\n",
       "</pre>\n"
      ],
      "text/plain": [
       "\u001b[2;36m                   \u001b[0m\u001b[2;36m \u001b[0m\u001b[34mINFO    \u001b[0m Running cleaner: remove_empty_lines on text                           \u001b]8;id=884224;file:///tmp/ipykernel_132178/2234059382.py\u001b\\\u001b[2m2234059382.py\u001b[0m\u001b]8;;\u001b\\\u001b[2m:\u001b[0m\u001b]8;id=171264;file:///tmp/ipykernel_132178/2234059382.py#47\u001b\\\u001b[2m47\u001b[0m\u001b]8;;\u001b\\\n"
      ]
     },
     "metadata": {},
     "output_type": "display_data"
    },
    {
     "data": {
      "text/html": [
       "<pre style=\"white-space:pre;overflow-x:auto;line-height:normal;font-family:Menlo,'DejaVu Sans Mono',consolas,'Courier New',monospace\"><span style=\"color: #7fbfbf; text-decoration-color: #7fbfbf\">                    </span><span style=\"color: #000080; text-decoration-color: #000080\">INFO    </span> Running cleaner: normalize_whitespace on text                         <a href=\"file:///tmp/ipykernel_132178/2234059382.py\" target=\"_blank\"><span style=\"color: #7f7f7f; text-decoration-color: #7f7f7f\">2234059382.py</span></a><span style=\"color: #7f7f7f; text-decoration-color: #7f7f7f\">:</span><a href=\"file:///tmp/ipykernel_132178/2234059382.py#47\" target=\"_blank\"><span style=\"color: #7f7f7f; text-decoration-color: #7f7f7f\">47</span></a>\n",
       "</pre>\n"
      ],
      "text/plain": [
       "\u001b[2;36m                   \u001b[0m\u001b[2;36m \u001b[0m\u001b[34mINFO    \u001b[0m Running cleaner: normalize_whitespace on text                         \u001b]8;id=864341;file:///tmp/ipykernel_132178/2234059382.py\u001b\\\u001b[2m2234059382.py\u001b[0m\u001b]8;;\u001b\\\u001b[2m:\u001b[0m\u001b]8;id=64195;file:///tmp/ipykernel_132178/2234059382.py#47\u001b\\\u001b[2m47\u001b[0m\u001b]8;;\u001b\\\n"
      ]
     },
     "metadata": {},
     "output_type": "display_data"
    },
    {
     "data": {
      "text/html": [
       "<pre style=\"white-space:pre;overflow-x:auto;line-height:normal;font-family:Menlo,'DejaVu Sans Mono',consolas,'Courier New',monospace\"><span style=\"color: #7fbfbf; text-decoration-color: #7fbfbf\">                    </span><span style=\"color: #000080; text-decoration-color: #000080\">INFO    </span> Running global filter: minhash_dedup                                  <a href=\"file:///tmp/ipykernel_132178/2234059382.py\" target=\"_blank\"><span style=\"color: #7f7f7f; text-decoration-color: #7f7f7f\">2234059382.py</span></a><span style=\"color: #7f7f7f; text-decoration-color: #7f7f7f\">:</span><a href=\"file:///tmp/ipykernel_132178/2234059382.py#71\" target=\"_blank\"><span style=\"color: #7f7f7f; text-decoration-color: #7f7f7f\">71</span></a>\n",
       "</pre>\n"
      ],
      "text/plain": [
       "\u001b[2;36m                   \u001b[0m\u001b[2;36m \u001b[0m\u001b[34mINFO    \u001b[0m Running global filter: minhash_dedup                                  \u001b]8;id=617658;file:///tmp/ipykernel_132178/2234059382.py\u001b\\\u001b[2m2234059382.py\u001b[0m\u001b]8;;\u001b\\\u001b[2m:\u001b[0m\u001b]8;id=890601;file:///tmp/ipykernel_132178/2234059382.py#71\u001b\\\u001b[2m71\u001b[0m\u001b]8;;\u001b\\\n"
      ]
     },
     "metadata": {},
     "output_type": "display_data"
    },
    {
     "data": {
      "text/html": [
       "<pre style=\"white-space:pre;overflow-x:auto;line-height:normal;font-family:Menlo,'DejaVu Sans Mono',consolas,'Courier New',monospace\"><span style=\"color: #7fbfbf; text-decoration-color: #7fbfbf\">[11/26/22 17:07:44] </span><span style=\"color: #000080; text-decoration-color: #000080\">INFO    </span> Dataset columns: <span style=\"font-weight: bold\">[</span><span style=\"color: #008000; text-decoration-color: #008000\">'text'</span>, <span style=\"color: #008000; text-decoration-color: #008000\">'meta_data'</span><span style=\"font-weight: bold\">]</span>                                   <a href=\"file:///work/squeakily/squeakily/filter.py\" target=\"_blank\"><span style=\"color: #7f7f7f; text-decoration-color: #7f7f7f\">filter.py</span></a><span style=\"color: #7f7f7f; text-decoration-color: #7f7f7f\">:</span><a href=\"file:///work/squeakily/squeakily/filter.py#313\" target=\"_blank\"><span style=\"color: #7f7f7f; text-decoration-color: #7f7f7f\">313</span></a>\n",
       "</pre>\n"
      ],
      "text/plain": [
       "\u001b[2;36m[11/26/22 17:07:44]\u001b[0m\u001b[2;36m \u001b[0m\u001b[34mINFO    \u001b[0m Dataset columns: \u001b[1m[\u001b[0m\u001b[32m'text'\u001b[0m, \u001b[32m'meta_data'\u001b[0m\u001b[1m]\u001b[0m                                   \u001b]8;id=50475;file:///work/squeakily/squeakily/filter.py\u001b\\\u001b[2mfilter.py\u001b[0m\u001b]8;;\u001b\\\u001b[2m:\u001b[0m\u001b]8;id=122640;file:///work/squeakily/squeakily/filter.py#313\u001b\\\u001b[2m313\u001b[0m\u001b]8;;\u001b\\\n"
      ]
     },
     "metadata": {},
     "output_type": "display_data"
    },
    {
     "data": {
      "text/html": [
       "<pre style=\"white-space:pre;overflow-x:auto;line-height:normal;font-family:Menlo,'DejaVu Sans Mono',consolas,'Courier New',monospace\"><span style=\"color: #7fbfbf; text-decoration-color: #7fbfbf\">                    </span><span style=\"color: #000080; text-decoration-color: #000080\">INFO    </span> Dataset columns: <span style=\"font-weight: bold\">[</span><span style=\"color: #008000; text-decoration-color: #008000\">'text'</span>, <span style=\"color: #008000; text-decoration-color: #008000\">'meta_data'</span>, <span style=\"color: #008000; text-decoration-color: #008000\">'__id__'</span><span style=\"font-weight: bold\">]</span>                         <a href=\"file:///work/squeakily/squeakily/filter.py\" target=\"_blank\"><span style=\"color: #7f7f7f; text-decoration-color: #7f7f7f\">filter.py</span></a><span style=\"color: #7f7f7f; text-decoration-color: #7f7f7f\">:</span><a href=\"file:///work/squeakily/squeakily/filter.py#321\" target=\"_blank\"><span style=\"color: #7f7f7f; text-decoration-color: #7f7f7f\">321</span></a>\n",
       "</pre>\n"
      ],
      "text/plain": [
       "\u001b[2;36m                   \u001b[0m\u001b[2;36m \u001b[0m\u001b[34mINFO    \u001b[0m Dataset columns: \u001b[1m[\u001b[0m\u001b[32m'text'\u001b[0m, \u001b[32m'meta_data'\u001b[0m, \u001b[32m'__id__'\u001b[0m\u001b[1m]\u001b[0m                         \u001b]8;id=996806;file:///work/squeakily/squeakily/filter.py\u001b\\\u001b[2mfilter.py\u001b[0m\u001b]8;;\u001b\\\u001b[2m:\u001b[0m\u001b]8;id=820604;file:///work/squeakily/squeakily/filter.py#321\u001b\\\u001b[2m321\u001b[0m\u001b]8;;\u001b\\\n"
      ]
     },
     "metadata": {},
     "output_type": "display_data"
    },
    {
     "data": {
      "text/html": [
       "<pre style=\"white-space:pre;overflow-x:auto;line-height:normal;font-family:Menlo,'DejaVu Sans Mono',consolas,'Courier New',monospace\"><span style=\"color: #7fbfbf; text-decoration-color: #7fbfbf\">                    </span><span style=\"color: #000080; text-decoration-color: #000080\">INFO    </span> Dataset columns: <span style=\"font-weight: bold\">[</span><span style=\"color: #008000; text-decoration-color: #008000\">'__id__'</span>, <span style=\"color: #008000; text-decoration-color: #008000\">'__signature__'</span><span style=\"font-weight: bold\">]</span>                             <a href=\"file:///work/squeakily/squeakily/filter.py\" target=\"_blank\"><span style=\"color: #7f7f7f; text-decoration-color: #7f7f7f\">filter.py</span></a><span style=\"color: #7f7f7f; text-decoration-color: #7f7f7f\">:</span><a href=\"file:///work/squeakily/squeakily/filter.py#330\" target=\"_blank\"><span style=\"color: #7f7f7f; text-decoration-color: #7f7f7f\">330</span></a>\n",
       "</pre>\n"
      ],
      "text/plain": [
       "\u001b[2;36m                   \u001b[0m\u001b[2;36m \u001b[0m\u001b[34mINFO    \u001b[0m Dataset columns: \u001b[1m[\u001b[0m\u001b[32m'__id__'\u001b[0m, \u001b[32m'__signature__'\u001b[0m\u001b[1m]\u001b[0m                             \u001b]8;id=833576;file:///work/squeakily/squeakily/filter.py\u001b\\\u001b[2mfilter.py\u001b[0m\u001b]8;;\u001b\\\u001b[2m:\u001b[0m\u001b]8;id=62270;file:///work/squeakily/squeakily/filter.py#330\u001b\\\u001b[2m330\u001b[0m\u001b]8;;\u001b\\\n"
      ]
     },
     "metadata": {},
     "output_type": "display_data"
    },
    {
     "name": "stderr",
     "output_type": "stream",
     "text": [
      "Indexing signatures...: 100%|██████████| 18014/18014 [00:01<00:00, 16967.57it/s]\n"
     ]
    },
    {
     "data": {
      "text/html": [
       "<pre style=\"white-space:pre;overflow-x:auto;line-height:normal;font-family:Menlo,'DejaVu Sans Mono',consolas,'Courier New',monospace\"><span style=\"color: #7fbfbf; text-decoration-color: #7fbfbf\">[11/26/22 17:08:12] </span><span style=\"color: #000080; text-decoration-color: #000080\">INFO    </span> Dataset columns: <span style=\"font-weight: bold\">[</span><span style=\"color: #008000; text-decoration-color: #008000\">'__id__'</span>, <span style=\"color: #008000; text-decoration-color: #008000\">'__neighbors__'</span><span style=\"font-weight: bold\">]</span>                             <a href=\"file:///work/squeakily/squeakily/filter.py\" target=\"_blank\"><span style=\"color: #7f7f7f; text-decoration-color: #7f7f7f\">filter.py</span></a><span style=\"color: #7f7f7f; text-decoration-color: #7f7f7f\">:</span><a href=\"file:///work/squeakily/squeakily/filter.py#364\" target=\"_blank\"><span style=\"color: #7f7f7f; text-decoration-color: #7f7f7f\">364</span></a>\n",
       "</pre>\n"
      ],
      "text/plain": [
       "\u001b[2;36m[11/26/22 17:08:12]\u001b[0m\u001b[2;36m \u001b[0m\u001b[34mINFO    \u001b[0m Dataset columns: \u001b[1m[\u001b[0m\u001b[32m'__id__'\u001b[0m, \u001b[32m'__neighbors__'\u001b[0m\u001b[1m]\u001b[0m                             \u001b]8;id=434364;file:///work/squeakily/squeakily/filter.py\u001b\\\u001b[2mfilter.py\u001b[0m\u001b]8;;\u001b\\\u001b[2m:\u001b[0m\u001b]8;id=640108;file:///work/squeakily/squeakily/filter.py#364\u001b\\\u001b[2m364\u001b[0m\u001b]8;;\u001b\\\n"
      ]
     },
     "metadata": {},
     "output_type": "display_data"
    },
    {
     "name": "stderr",
     "output_type": "stream",
     "text": [
      "Constructing graph...: 100%|██████████| 7757/7757 [00:12<00:00, 609.50it/s]\n",
      "Iterating over components...: 100%|██████████| 10560/10560 [00:00<00:00, 2443149.11it/s]\n"
     ]
    },
    {
     "data": {
      "text/html": [
       "<pre style=\"white-space:pre;overflow-x:auto;line-height:normal;font-family:Menlo,'DejaVu Sans Mono',consolas,'Courier New',monospace\"><span style=\"color: #7fbfbf; text-decoration-color: #7fbfbf\">[11/26/22 17:08:25] </span><span style=\"color: #000080; text-decoration-color: #000080\">INFO    </span> Final dataset size: <span style=\"color: #008080; text-decoration-color: #008080; font-weight: bold\">10560</span>                                             <a href=\"file:///tmp/ipykernel_132178/1047258885.py\" target=\"_blank\"><span style=\"color: #7f7f7f; text-decoration-color: #7f7f7f\">1047258885.py</span></a><span style=\"color: #7f7f7f; text-decoration-color: #7f7f7f\">:</span><a href=\"file:///tmp/ipykernel_132178/1047258885.py#25\" target=\"_blank\"><span style=\"color: #7f7f7f; text-decoration-color: #7f7f7f\">25</span></a>\n",
       "</pre>\n"
      ],
      "text/plain": [
       "\u001b[2;36m[11/26/22 17:08:25]\u001b[0m\u001b[2;36m \u001b[0m\u001b[34mINFO    \u001b[0m Final dataset size: \u001b[1;36m10560\u001b[0m                                             \u001b]8;id=60711;file:///tmp/ipykernel_132178/1047258885.py\u001b\\\u001b[2m1047258885.py\u001b[0m\u001b]8;;\u001b\\\u001b[2m:\u001b[0m\u001b]8;id=116601;file:///tmp/ipykernel_132178/1047258885.py#25\u001b\\\u001b[2m25\u001b[0m\u001b]8;;\u001b\\\n"
      ]
     },
     "metadata": {},
     "output_type": "display_data"
    }
   ],
   "source": [
    "# test the ability to skip global filters\n",
    "\n",
    "ds_1 = load_dataset(\"wikitext\", \"wikitext-103-v1\", split=\"train[:1%]\")\n",
    "\n",
    "\n",
    "datasources = [\n",
    "    {\n",
    "        \"dataset\": ds,\n",
    "        \"columns\": [\"text\"],\n",
    "        \"filters\": [check_char_repetition, check_flagged_words],\n",
    "        \"cleaners\": [remove_empty_lines, normalize_whitespace],\n",
    "        \"skip_global\": False,\n",
    "    },\n",
    "    {\n",
    "        \"dataset\": ds_1,\n",
    "        \"columns\": [\"text\"],\n",
    "        \"filters\": [check_char_repetition, check_flagged_words],\n",
    "        \"cleaners\": [remove_empty_lines, normalize_whitespace],\n",
    "        \"skip_global\": True,\n",
    "    },\n",
    "    # ...\n",
    "]\n",
    "pipeline = Pipeline(datasources)\n",
    "pipeline.run(global_filters=global_filters)\n",
    "logger.info(f\"Final dataset size: {len(pipeline.datasources[0]['dataset'])}\")"
   ]
  },
  {
   "cell_type": "code",
   "execution_count": null,
   "metadata": {},
   "outputs": [
    {
     "data": {
      "text/html": [
       "<pre style=\"white-space:pre;overflow-x:auto;line-height:normal;font-family:Menlo,'DejaVu Sans Mono',consolas,'Courier New',monospace\"><span style=\"color: #7fbfbf; text-decoration-color: #7fbfbf\">                    </span><span style=\"color: #000080; text-decoration-color: #000080\">INFO    </span> Final dataset size: <span style=\"color: #008080; text-decoration-color: #008080; font-weight: bold\">10560</span>                                              <a href=\"file:///tmp/ipykernel_132178/1381750264.py\" target=\"_blank\"><span style=\"color: #7f7f7f; text-decoration-color: #7f7f7f\">1381750264.py</span></a><span style=\"color: #7f7f7f; text-decoration-color: #7f7f7f\">:</span><a href=\"file:///tmp/ipykernel_132178/1381750264.py#1\" target=\"_blank\"><span style=\"color: #7f7f7f; text-decoration-color: #7f7f7f\">1</span></a>\n",
       "</pre>\n"
      ],
      "text/plain": [
       "\u001b[2;36m                   \u001b[0m\u001b[2;36m \u001b[0m\u001b[34mINFO    \u001b[0m Final dataset size: \u001b[1;36m10560\u001b[0m                                              \u001b]8;id=844985;file:///tmp/ipykernel_132178/1381750264.py\u001b\\\u001b[2m1381750264.py\u001b[0m\u001b]8;;\u001b\\\u001b[2m:\u001b[0m\u001b]8;id=400237;file:///tmp/ipykernel_132178/1381750264.py#1\u001b\\\u001b[2m1\u001b[0m\u001b]8;;\u001b\\\n"
      ]
     },
     "metadata": {},
     "output_type": "display_data"
    }
   ],
   "source": [
    "logger.info(f\"Final dataset size: {len(pipeline.datasources[0]['dataset'])}\")"
   ]
  },
  {
   "cell_type": "code",
   "execution_count": null,
   "metadata": {},
   "outputs": [
    {
     "data": {
      "text/html": [
       "<pre style=\"white-space:pre;overflow-x:auto;line-height:normal;font-family:Menlo,'DejaVu Sans Mono',consolas,'Courier New',monospace\"><span style=\"color: #7fbfbf; text-decoration-color: #7fbfbf\">                    </span><span style=\"color: #000080; text-decoration-color: #000080\">INFO    </span> Final dataset size: <span style=\"color: #008080; text-decoration-color: #008080; font-weight: bold\">18014</span>                                               <a href=\"file:///tmp/ipykernel_132178/382496783.py\" target=\"_blank\"><span style=\"color: #7f7f7f; text-decoration-color: #7f7f7f\">382496783.py</span></a><span style=\"color: #7f7f7f; text-decoration-color: #7f7f7f\">:</span><a href=\"file:///tmp/ipykernel_132178/382496783.py#1\" target=\"_blank\"><span style=\"color: #7f7f7f; text-decoration-color: #7f7f7f\">1</span></a>\n",
       "</pre>\n"
      ],
      "text/plain": [
       "\u001b[2;36m                   \u001b[0m\u001b[2;36m \u001b[0m\u001b[34mINFO    \u001b[0m Final dataset size: \u001b[1;36m18014\u001b[0m                                               \u001b]8;id=932506;file:///tmp/ipykernel_132178/382496783.py\u001b\\\u001b[2m382496783.py\u001b[0m\u001b]8;;\u001b\\\u001b[2m:\u001b[0m\u001b]8;id=82009;file:///tmp/ipykernel_132178/382496783.py#1\u001b\\\u001b[2m1\u001b[0m\u001b]8;;\u001b\\\n"
      ]
     },
     "metadata": {},
     "output_type": "display_data"
    }
   ],
   "source": [
    "logger.info(f\"Final dataset size: {len(pipeline.datasources[1]['dataset'])}\")"
   ]
  },
  {
   "cell_type": "code",
   "execution_count": null,
   "metadata": {},
   "outputs": [],
   "source": [
    "#| hide\n",
    "import nbdev; nbdev.nbdev_export()"
   ]
  }
 ],
 "metadata": {
  "kernelspec": {
   "display_name": "Python 3.10.8 ('squeakily')",
   "language": "python",
   "name": "python3"
  }
 },
 "nbformat": 4,
 "nbformat_minor": 4
}
