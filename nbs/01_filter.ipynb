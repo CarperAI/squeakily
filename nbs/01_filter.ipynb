{
 "cells": [
  {
   "cell_type": "markdown",
   "metadata": {},
   "source": [
    "# filter\n",
    "\n",
    "> This module contains all the various filtering options supported."
   ]
  },
  {
   "cell_type": "code",
   "execution_count": null,
   "metadata": {},
   "outputs": [],
   "source": [
    "#| default_exp filter"
   ]
  },
  {
   "cell_type": "code",
   "execution_count": null,
   "metadata": {},
   "outputs": [],
   "source": [
    "#| export\n",
    "import numpy as np\n",
    "\n",
    "from collections import Counter\n",
    "from squeakily.helpers import flagged_words, get_words"
   ]
  },
  {
   "cell_type": "code",
   "execution_count": null,
   "metadata": {},
   "outputs": [],
   "source": [
    "#| hide\n",
    "from nbdev.showdoc import *"
   ]
  },
  {
   "cell_type": "code",
   "execution_count": null,
   "metadata": {},
   "outputs": [],
   "source": [
    "#| export\n",
    "def _char_rep_ratio(\n",
    "    doc: str, # document to be analyzed\n",
    "    char_rep_len: int, # length of character repetition\n",
    ") -> float:\n",
    "    \"\"\"\n",
    "    Returns the ratio of character repetitions in a document.\n",
    "    \"\"\"\n",
    "    def calc_ngrams(doc, n):\n",
    "        char_ngrams = [\n",
    "            doc[i : i + n] for i in range(len(doc) - n + 1)\n",
    "        ]\n",
    "        freq_char_ngrams = Counter(char_ngrams)\n",
    "        return freq_char_ngrams\n",
    "\n",
    "    freq_char_ngrams = calc_ngrams(\n",
    "        doc, char_rep_len\n",
    "    )\n",
    "    if len(freq_char_ngrams) == 0:\n",
    "        return 0\n",
    "    freq_char_ngrams = list(freq_char_ngrams.values())\n",
    "    freq_char_ngrams = sorted(freq_char_ngrams, reverse=True)\n",
    "    val_one = len([el for el in freq_char_ngrams if el == 1])\n",
    "    num_rep_char_ngrams = min(\n",
    "        int(np.sqrt(len(freq_char_ngrams))),\n",
    "        len(freq_char_ngrams) - val_one,\n",
    "    )\n",
    "    char_rep_ratio = sum(\n",
    "        freq_char_ngrams[:num_rep_char_ngrams]\n",
    "    ) / sum(freq_char_ngrams)\n",
    "    return char_rep_ratio"
   ]
  },
  {
   "cell_type": "code",
   "execution_count": null,
   "metadata": {},
   "outputs": [],
   "source": [
    "#| export\n",
    "def check_char_repetition(\n",
    "    document, # document to be analyzed\n",
    "    char_repetition_len=10, # length of character repetition\n",
    "    char_repetition_threshold=0.2, # threshold for character repetition\n",
    ") -> bool: # returns True if document is below threshold\n",
    "    \"\"\"\n",
    "    Checks if the document is below the character repetition threshold.\n",
    "    \"\"\"\n",
    "    char_rep_ratio = _char_rep_ratio(\n",
    "        document, char_repetition_len\n",
    "    )\n",
    "    return char_rep_ratio <= char_repetition_threshold"
   ]
  },
  {
   "cell_type": "code",
   "execution_count": null,
   "metadata": {},
   "outputs": [],
   "source": [
    "test_str = \"aaabbbcccddd\"\n",
    "assert check_char_repetition(test_str, char_repetition_len=3, char_repetition_threshold=0.2) == True\n",
    "\n",
    "test_str = \"aaaaaaabbbcccddd\"\n",
    "assert check_char_repetition(test_str, char_repetition_len=3, char_repetition_threshold=0.2) == False"
   ]
  },
  {
   "cell_type": "code",
   "execution_count": null,
   "metadata": {},
   "outputs": [],
   "source": [
    "#| export\n",
    "def check_exact_match(): pass"
   ]
  },
  {
   "cell_type": "code",
   "execution_count": null,
   "metadata": {},
   "outputs": [],
   "source": [
    "#| export\n",
    "def _flag_word_ratio(\n",
    "    doc: str, # document to be analyzed\n",
    "    flagged_words: list, # list of flagged words\n",
    "    get_words_func: callable, # function to get words from document\n",
    ") -> float: # returns ratio of flagged words in document\n",
    "    \"\"\"\n",
    "    Returns the ratio of flagged words in a document.\n",
    "    \"\"\"\n",
    "    words = get_words_func(doc)\n",
    "    if not words:\n",
    "        return 0.\n",
    "    flagged_words_ratio = len(\n",
    "        [word for word in words if word in flagged_words]\n",
    "    ) / len(words)\n",
    "    if flagged_words_ratio > 1.0:\n",
    "        flagged_words_ratio = 1.0\n",
    "    return flagged_words_ratio"
   ]
  },
  {
   "cell_type": "code",
   "execution_count": null,
   "metadata": {},
   "outputs": [],
   "source": [
    "#| exporti\n",
    "def check_flagged_words(\n",
    "    document: str, # document to be analyzed\n",
    "    flagged_words: list = flagged_words[\"en\"], # list of flagged words\n",
    "    flagged_words_threshold: float = 0.1, # threshold for flagged words\n",
    "    get_words_func: callable = get_words, # function to get words from document\n",
    ") -> bool: # returns True if document is below threshold\n",
    "    \"\"\"\n",
    "    Checks if a document contains a high percentage of flagged words.\n",
    "    \"\"\"\n",
    "    cond = True\n",
    "    if flagged_words:\n",
    "        flagged_words_ratio = _flag_word_ratio(\n",
    "            document,\n",
    "            flagged_words,\n",
    "            get_words_func,\n",
    "        )\n",
    "        cond = flagged_words_ratio <= flagged_words_threshold\n",
    "    return cond"
   ]
  },
  {
   "cell_type": "markdown",
   "metadata": {},
   "source": [
    "The `check_flagged_words` filter function is purposefully hidden in this documentation as it would show the flagged words directly in the documentation, which might shock some people."
   ]
  },
  {
   "cell_type": "code",
   "execution_count": null,
   "metadata": {},
   "outputs": [],
   "source": [
    "assert check_flagged_words(\"test\") == True\n",
    "assert check_flagged_words(\"cougar\") == False"
   ]
  },
  {
   "cell_type": "code",
   "execution_count": null,
   "metadata": {},
   "outputs": [],
   "source": [
    "#| hide\n",
    "import nbdev; nbdev.nbdev_export()"
   ]
  }
 ],
 "metadata": {
  "kernelspec": {
   "display_name": "Python 3.9.13 ('squeakily')",
   "language": "python",
   "name": "python3"
  }
 },
 "nbformat": 4,
 "nbformat_minor": 4
}
